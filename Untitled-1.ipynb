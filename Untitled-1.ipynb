{
 "cells": [
  {
   "cell_type": "markdown",
   "id": "1b681749",
   "metadata": {},
   "source": [
    "**Problem set 1**"
   ]
  },
  {
   "cell_type": "code",
   "execution_count": null,
   "id": "92aaeb4b",
   "metadata": {},
   "outputs": [],
   "source": []
  }
 ],
 "metadata": {
  "language_info": {
   "name": "python"
  }
 },
 "nbformat": 4,
 "nbformat_minor": 5
}
