{
 "cells": [
  {
   "cell_type": "markdown",
   "metadata": {},
   "source": [
    "# Problem set 2\n",
    "Before we start working on some exercises we will briefly introduce two concepts in Python. First, importing and exporting data. Second, using functions. If you are already familiar\n",
    "with these features, you can skip the next two sections and jump directly to the exercises."
   ]
  },
  {
   "cell_type": "markdown",
   "metadata": {},
   "source": [
    "First, import all necessary packages. We have made a .py file that we will use as a \"toolbox\". We will fill this toolbox with functions, that we will use as we progress through the course. Exactly how you structure this toolbox is up to you (if you i.e. want to turn it into a class)."
   ]
  },
  {
   "cell_type": "code",
   "execution_count": 1,
   "metadata": {},
   "outputs": [],
   "source": [
    "import numpy as np\n",
    "from numpy import linalg as la\n",
    "import pandas as pd\n",
    "from io import StringIO\n",
    "from tabulate import tabulate\n",
    "from matplotlib import pyplot as plt\n",
    "\n",
    "#Supress Future Warnings\n",
    "import warnings\n",
    "warnings.simplefilter(action='ignore', category=FutureWarning)\n",
    "\n",
    "# Import this weeks LinearModels .py file\n",
    "import w2_LinearModels_post as lm\n",
    "%load_ext autoreload\n",
    "%autoreload 2"
   ]
  },
  {
   "cell_type": "markdown",
   "metadata": {},
   "source": [
    "## Importing and exporting data in Python\n",
    "The easiest way to import data into an numpy array is using a .txt file. Normally we specify a path to the text file, but we will create a fake one to illustrate."
   ]
  },
  {
   "cell_type": "code",
   "execution_count": null,
   "metadata": {},
   "outputs": [],
   "source": []
  },
  {
   "cell_type": "markdown",
   "metadata": {},
   "source": [
    "Sadly, there is no direct way to load an excel sheet into numpy. The easiest solution is to use pandas as an intermediate."
   ]
  },
  {
   "cell_type": "code",
   "execution_count": null,
   "metadata": {},
   "outputs": [],
   "source": []
  },
  {
   "cell_type": "markdown",
   "metadata": {},
   "source": [
    "### Exporting Data\n",
    "To save a numpy array as a .txt file is easy:"
   ]
  },
  {
   "cell_type": "code",
   "execution_count": null,
   "metadata": {},
   "outputs": [],
   "source": []
  },
  {
   "cell_type": "markdown",
   "metadata": {},
   "source": [
    "*If one has large numpy arrays and wants to store them efficiently, they can be saved as a binary .npy files. Such files are not compatible with other programs.*"
   ]
  },
  {
   "cell_type": "markdown",
   "metadata": {},
   "source": [
    "## Exercises\n",
    "### Import data\n",
    "\n",
    "The exercise takes up the union membership example from before. The data set WAGEPAN.TXT contains information about 545 men who worked every year from 1980 to 1987 in the US. The variables of interest are\n",
    "\n",
    "\n",
    "| Variable | Content |\n",
    "|-|-|\n",
    "| nr | Variable that identifies the individual  |\n",
    "| year | Year of observation |\n",
    "| Black | Black |\n",
    "| Exper | Years since left school |\n",
    "| Hisp | Hispanic |\n",
    "| Married | Marital status |\n",
    "| Educ | Years of schooling |\n",
    "| Union | Union membership |\n",
    "| Lwage | Natural logarithm of hourly wages |\n",
    "| Expersq | Exper2 |\n",
    "\n",
    "Consider the following wage equation:\n",
    "\n",
    "$$\n",
    "\\begin{align}\n",
    "\\log\\left(wage_{it}\\right) & =\\beta_{0}+\\beta_{1}\\textit{exper}_{it}+\\beta_{2}\\textit{exper}_{it}^{2}+\\beta_{3}\\textit{union}_{it}+\\beta_{4}\\textit{married}_{i} +\\beta_{5}\\textit{educ}_{i}+\\beta_{6}\\textit{hisp}_{i}+\\beta_{7}\\textit{black}_{i}+c_{i}+u_{it} \\tag{1}\n",
    "\\end{align}\n",
    "$$\n",
    "\n",
    "Note that *educ*, *hisp*, and *black* are time-invariant variables."
   ]
  },
  {
   "cell_type": "markdown",
   "metadata": {},
   "source": [
    "The data has 10 columns. Named from 0 to 9. Here is a variable describtion:\n",
    "- Column 0: ID\n",
    "- Column 1: Year\n",
    "- Column 2: Black\n",
    "- Column 3: Experience\n",
    "- Column 4: Hispanic\n",
    "- Column 5: Married\n",
    "- Column 6: Education\n",
    "- Column 7: Union\n",
    "- Column 8: ln wage\n",
    "- Column 9: Experience sqr"
   ]
  },
  {
   "cell_type": "markdown",
   "metadata": {},
   "source": [
    "Start by loading the data. Some of this has been done for you already. Since we are working with panels, we need to know how many persons there are and how many time periods we observe them. Since we operate using a balanced panel, this makes our life a little easier."
   ]
  },
  {
   "cell_type": "code",
   "execution_count": 2,
   "metadata": {},
   "outputs": [],
   "source": [
    "# First, import the data into numpy. \n",
    "# Data should load the wagepan.txt file.\n",
    "data = pd.read_csv('firms.csv')\n",
    "id_array = np.array(data.iloc[:, 0])\n",
    "\n",
    "# Count how many persons we have. This returns a tuple with the unique IDs,\n",
    "# and the number of times each person is observed.\n",
    "unique_id = np.unique(id_array, return_counts=True)\n",
    "N = unique_id[0].size\n",
    "T = int(unique_id[1].mean())\n",
    "year = np.array(data.iloc[:, 1], dtype=int)"
   ]
  },
  {
   "cell_type": "code",
   "execution_count": 3,
   "metadata": {},
   "outputs": [],
   "source": [
    "# Load the rest of the data into arrays.\n",
    "# Load the rest of the data into arrays.\n",
    "y = data['lcap'].to_numpy().reshape(-1, 1)\n",
    "\n",
    "# x needs to have a constant vector in the first row. How would you add this? \n",
    "# Note that the order is set to match the order of variables in the model.\n",
    "x = np.column_stack([\n",
    "    np.ones(N * T),\n",
    "    data['lemp'].to_numpy(),\n",
    "    data['ldsa'].to_numpy()\n",
    "])\n",
    "\n",
    "# Lets also make some variable names\n",
    "label_y = 'Log capital'\n",
    "label_x = [\n",
    "    'Constant',\n",
    "    'Log employment',\n",
    "    'Log DSA'\n",
    "]\n"
   ]
  },
  {
   "cell_type": "markdown",
   "metadata": {},
   "source": [
    "## Pooled OLS (POLS) Estimator\n",
    "- **Estimate (1) by pooled OLS,** thus considering for the moment the unobserved components of (q) as one (composite) error term $v_{it}=c_{i}+u_{it}$. \n",
    "- Fill in the remaining parts of the function est_ols() in the accompanying python file (LinearModelsWeek2_ante.py) to estimate the model.\n",
    "- What assumptions are made about $E\\left[c_{i}\\mathbf{x}_{it}\\right]$ and $E\\left[u_{it}\\mathbf{x}_{it}\\right]$ when justifying this estimation approach? (Hint: See Wooldridge p. 283)"
   ]
  },
  {
   "cell_type": "code",
   "execution_count": 4,
   "metadata": {},
   "outputs": [
    {
     "name": "stdout",
     "output_type": "stream",
     "text": [
      "Constant        : -0.0000\n",
      "Log employment  :  0.4411\n",
      "Log DSA         :  0.5764\n"
     ]
    }
   ],
   "source": [
    "# Estimate coefficients\n",
    "b_hat = lm.est_ols(y,x)\n",
    "\n",
    "# Print the results\n",
    "for label, b_k in zip(label_x, b_hat):\n",
    "    print(f'{label:16}: {b_k[0]:7.4f}')"
   ]
  },
  {
   "cell_type": "markdown",
   "metadata": {},
   "source": [
    "Calculate the standard errors of the coefficients. This is very similar to previous week's exercise. (Hint: See Wooldridge p. 59-60)"
   ]
  },
  {
   "cell_type": "code",
   "execution_count": 5,
   "metadata": {},
   "outputs": [
    {
     "name": "stdout",
     "output_type": "stream",
     "text": [
      "Constant        : -0.0000    (0.0068)\n",
      "Log employment  :  0.4411    (0.0177)\n",
      "Log DSA         :  0.5764    (0.0170)\n"
     ]
    }
   ],
   "source": [
    "# Calculate the residuals\n",
    "resid = y - x @ b_hat\n",
    "\n",
    "# Calculate estimate of variance of residuals\n",
    "SSR = resid.T @ resid\n",
    "K = x.shape[1]\n",
    "sigma = SSR / (N*T - K)\n",
    "\n",
    "# Calculate the variance-covariance matrix\n",
    "cov = sigma * la.inv(x.T @ x)\n",
    "\n",
    "# Calculate the standard errors \n",
    "# Make sure to output the result in a vector\n",
    "se = np.sqrt(np.diag(cov)).reshape(-1,1)\n",
    "\n",
    "#Print results\n",
    "for label, b_k, se_k in zip(label_x, b_hat, se):\n",
    "    print(f'{label:16}: {b_k[0]:7.4f}    ({se_k[0]:6.4f})')"
   ]
  },
  {
   "cell_type": "markdown",
   "metadata": {},
   "source": [
    "Fill in the functions estimate() and variance() in the accompanying python file. You can reuse most of the code above.\n",
    "\n",
    "Using the function, print_table(), you should reproduce the table below."
   ]
  },
  {
   "cell_type": "code",
   "execution_count": 6,
   "metadata": {},
   "outputs": [
    {
     "name": "stdout",
     "output_type": "stream",
     "text": [
      "Pooled OLS\n",
      "Dependent variable: Log capital\n",
      "\n",
      "                   Beta      Se    t-values\n",
      "--------------  -------  ------  ----------\n",
      "Constant        -0.0000  0.0068     -0.0000\n",
      "Log employment   0.4411  0.0177     24.8605\n",
      "Log DSA          0.5764  0.0170     33.9237\n",
      "R² = 0.859\n",
      "σ² = 0.243\n"
     ]
    }
   ],
   "source": [
    "# Estimate model using OLS\n",
    "ols_result = lm.estimate(y,x, N=N, T=T)\n",
    "\n",
    "# Print table\n",
    "lm.print_table((label_y, label_x), ols_result, title=\"Pooled OLS\", floatfmt='.4f')"
   ]
  },
  {
   "cell_type": "markdown",
   "metadata": {},
   "source": [
    "Pooled OLS <br>\n",
    "Dependent variable: Log wage <br>\n",
    "\n",
    "|                |    Beta |     Se |   t-values |\n",
    "|----------------|---------|--------|------------|\n",
    "| Constant       | -0.0347 | 0.0646 |    -0.5375 |\n",
    "| Experience     |  0.0892 | 0.0101 |     8.8200 |\n",
    "| Experience sqr | -0.0028 | 0.0007 |    -4.0272 |\n",
    "| Union          |  0.1801 | 0.0171 |    10.5179 |\n",
    "| Married        |  0.1077 | 0.0157 |     6.8592 |\n",
    "| Education      |  0.0994 | 0.0047 |    21.2476 |\n",
    "| Hispanic       |  0.0157 | 0.0208 |     0.7543 |\n",
    "| Black          | -0.1438 | 0.0236 |    -6.1055 |\n",
    "R² = 0.187 <br>\n",
    "σ² = 0.231"
   ]
  },
  {
   "cell_type": "markdown",
   "metadata": {},
   "source": [
    "## Fixed Effects (FE) Estimator\n",
    "In the next step, we will estimate the model using fixed effects. This is done by first performing the fixed effects (within-groups) transformation on the data and then using pooled OLS on the transformed data.\n",
    "We will break this down into multiple steps.\n",
    "\n",
    "### Using numpy\n",
    "Create a transformation matrix with dimensions $T \\times T$ that can be used to transform the data. Note that the matrix will be premultiplied on the data for each individual, so the dimensions will match in the end."
   ]
  },
  {
   "cell_type": "code",
   "execution_count": 7,
   "metadata": {},
   "outputs": [
    {
     "name": "stdout",
     "output_type": "stream",
     "text": [
      "Demeaning matrix for T=12 \n",
      " [[ 0.91666667 -0.08333333 -0.08333333 -0.08333333 -0.08333333 -0.08333333\n",
      "  -0.08333333 -0.08333333 -0.08333333 -0.08333333 -0.08333333 -0.08333333]\n",
      " [-0.08333333  0.91666667 -0.08333333 -0.08333333 -0.08333333 -0.08333333\n",
      "  -0.08333333 -0.08333333 -0.08333333 -0.08333333 -0.08333333 -0.08333333]\n",
      " [-0.08333333 -0.08333333  0.91666667 -0.08333333 -0.08333333 -0.08333333\n",
      "  -0.08333333 -0.08333333 -0.08333333 -0.08333333 -0.08333333 -0.08333333]\n",
      " [-0.08333333 -0.08333333 -0.08333333  0.91666667 -0.08333333 -0.08333333\n",
      "  -0.08333333 -0.08333333 -0.08333333 -0.08333333 -0.08333333 -0.08333333]\n",
      " [-0.08333333 -0.08333333 -0.08333333 -0.08333333  0.91666667 -0.08333333\n",
      "  -0.08333333 -0.08333333 -0.08333333 -0.08333333 -0.08333333 -0.08333333]\n",
      " [-0.08333333 -0.08333333 -0.08333333 -0.08333333 -0.08333333  0.91666667\n",
      "  -0.08333333 -0.08333333 -0.08333333 -0.08333333 -0.08333333 -0.08333333]\n",
      " [-0.08333333 -0.08333333 -0.08333333 -0.08333333 -0.08333333 -0.08333333\n",
      "   0.91666667 -0.08333333 -0.08333333 -0.08333333 -0.08333333 -0.08333333]\n",
      " [-0.08333333 -0.08333333 -0.08333333 -0.08333333 -0.08333333 -0.08333333\n",
      "  -0.08333333  0.91666667 -0.08333333 -0.08333333 -0.08333333 -0.08333333]\n",
      " [-0.08333333 -0.08333333 -0.08333333 -0.08333333 -0.08333333 -0.08333333\n",
      "  -0.08333333 -0.08333333  0.91666667 -0.08333333 -0.08333333 -0.08333333]\n",
      " [-0.08333333 -0.08333333 -0.08333333 -0.08333333 -0.08333333 -0.08333333\n",
      "  -0.08333333 -0.08333333 -0.08333333  0.91666667 -0.08333333 -0.08333333]\n",
      " [-0.08333333 -0.08333333 -0.08333333 -0.08333333 -0.08333333 -0.08333333\n",
      "  -0.08333333 -0.08333333 -0.08333333 -0.08333333  0.91666667 -0.08333333]\n",
      " [-0.08333333 -0.08333333 -0.08333333 -0.08333333 -0.08333333 -0.08333333\n",
      "  -0.08333333 -0.08333333 -0.08333333 -0.08333333 -0.08333333  0.91666667]]\n"
     ]
    }
   ],
   "source": [
    "# Create transformation matrix\n",
    "def demeaning_matrix(T):\n",
    "    Q_T = np.eye(T) - np.tile(1/T, (T, T))\n",
    "    return Q_T\n",
    "\n",
    "# Print the matrix\n",
    "Q_T = demeaning_matrix(T)\n",
    "print(f'Demeaning matrix for T={T} \\n', Q_T)"
   ]
  },
  {
   "cell_type": "markdown",
   "metadata": {},
   "source": [
    "Use the supplied perm() function to apply the transformation to the data."
   ]
  },
  {
   "cell_type": "code",
   "execution_count": 8,
   "metadata": {},
   "outputs": [
    {
     "name": "stdout",
     "output_type": "stream",
     "text": [
      "[[-8.32667268e-17  4.20760833e-02  6.80171583e-02]\n",
      " [-8.32667268e-17  4.29830833e-02  3.14564583e-02]\n",
      " [ 2.77555756e-17  1.91270833e-02  6.65300583e-02]\n",
      " ...\n",
      " [-2.77555756e-17  4.72184000e-01  7.40543075e-01]\n",
      " [-6.93889390e-17  5.20855000e-01  6.90639175e-01]\n",
      " [-1.11022302e-16  5.77638000e-01  5.71220175e-01]]\n"
     ]
    }
   ],
   "source": [
    "# Transform the data\n",
    "y_demean = lm.perm(Q_T, y)\n",
    "x_demean = lm.perm(Q_T, x)\n",
    "\n",
    "#print x_demean\n",
    "print(x_demean)"
   ]
  },
  {
   "cell_type": "markdown",
   "metadata": {},
   "source": [
    "What is the rank and eigenvalues of the within transformed $\\mathbf{X}$ matrix? Why?\n",
    "\n",
    "What happens to *educ, hisp, and black* and the constant when the data are within transformed? "
   ]
  },
  {
   "cell_type": "code",
   "execution_count": 9,
   "metadata": {},
   "outputs": [
    {
     "name": "stdout",
     "output_type": "stream",
     "text": [
      "Rank of demeaned x: 2\n",
      "Eigenvalues of within-transformed x: [  0.  44. 237.]\n",
      "[[ 1.         -0.          0.        ]\n",
      " [ 0.          0.78215475 -0.62308422]\n",
      " [ 0.         -0.62308422 -0.78215475]]\n"
     ]
    }
   ],
   "source": [
    "# Create function to check rank of demeaned matrix, and return its eigenvalues.\n",
    "def check_rank(x):\n",
    "    print(f'Rank of demeaned x: {la.matrix_rank(x)}')\n",
    "    lambdas, V = la.eig(x.T@x)\n",
    "    np.set_printoptions(suppress=True)  # This is just to print nicely.\n",
    "    print(f'Eigenvalues of within-transformed x: {lambdas.round(decimals=0)}')\n",
    "    print(V)\n",
    "    # Use eigen vectors to identify which variables are dropped.\n",
    "\n",
    "# Check rank of demeaned x\n",
    "check_rank(x_demean)"
   ]
  },
  {
   "cell_type": "markdown",
   "metadata": {},
   "source": [
    "Adjust `x_demean` such that the model can be estimated using the FE estimator. Adjust the labels to match with `x_demean`.\n",
    "\n",
    "Estimate the model using the estimate() function, and print the results."
   ]
  },
  {
   "cell_type": "code",
   "execution_count": 10,
   "metadata": {},
   "outputs": [],
   "source": [
    "# Choose variables to include in fixed effects model\n",
    "x_demean = x_demean[:, 1:5]\n",
    "label_x_fe = label_x[1:5]"
   ]
  },
  {
   "cell_type": "code",
   "execution_count": 11,
   "metadata": {},
   "outputs": [
    {
     "name": "stdout",
     "output_type": "stream",
     "text": [
      "FE regression\n",
      "Dependent variable: Log capital\n",
      "\n",
      "                  Beta      Se    t-values\n",
      "--------------  ------  ------  ----------\n",
      "Log employment  0.4934  0.0181     27.3286\n",
      "Log DSA         0.1845  0.0155     11.9311\n",
      "R² = 0.338\n",
      "σ² = 0.021\n"
     ]
    }
   ],
   "source": [
    "# Estimate FE OLS using the demeaned variables.\n",
    "fe_result = lm.estimate(y_demean, x_demean, transform='fe', N=N, T=T)\n",
    "\n",
    "# Print results\n",
    "lm.print_table((label_y, label_x_fe), fe_result, title='FE regression', floatfmt='.4f')"
   ]
  },
  {
   "cell_type": "markdown",
   "metadata": {},
   "source": [
    "You should get a table that looks like this:\n",
    "\n",
    "FE regression<br>\n",
    "Dependent variable: Log wage\n",
    "\n",
    "|                |    Beta |     Se |   t-values |\n",
    "|----------------|---------|--------|------------|\n",
    "| Experience     |  0.1168 | 0.0084 |    13.8778 |\n",
    "| Experience sqr | -0.0043 | 0.0006 |    -7.1057 |\n",
    "| Union          |  0.0821 | 0.0193 |     4.2553 |\n",
    "| Married        |  0.0453 | 0.0183 |     2.4743 |\n",
    "R² = 0.178 <br>\n",
    "σ² = 0.123"
   ]
  },
  {
   "cell_type": "markdown",
   "metadata": {},
   "source": [
    "**NB:** Did you use the right standard errors? If not, implement the correct standard errors in the variance() function, and try again. (Hint: see Wooldridge p.306)\n",
    "\n",
    "How big is the union premium according to the estimate from the FE model? Compare this with the estimate that you calculated from the pooled OLS regression. What does this suggest about $E\\left[union_{it}c_{i}\\right]$?"
   ]
  },
  {
   "cell_type": "markdown",
   "metadata": {},
   "source": [
    "### Using pandas\n",
    "An alternative to the perm function is to use panda dataframes to group the data. This has been done for the *entire* dataset below."
   ]
  },
  {
   "cell_type": "code",
   "execution_count": 12,
   "metadata": {},
   "outputs": [],
   "source": [
    "# load the data using pandas\n",
    "pddat = pd.read_csv('firms.csv')\n",
    "# Rename columns to relevant variable names for the wage panel example\n",
    "pddat.columns = [\"ID\", \"year\", \"logwage\", \"exp\", \"expsq\"]\n",
    "\n",
    "# If you have additional columns in your CSV, add them here:\n",
    "# For example, if your CSV has columns for union, mar, educ, hisp, black, add them in the rename list above.\n",
    "\n",
    "# Rearrange columns to match model specification\n",
    "desired_order = [\"ID\", \"year\", \"logwage\", \"exp\", \"expsq\"]  # Only use columns that exist\n",
    "pddat = pddat[desired_order]\n",
    "\n",
    "# Sort by ID and year to ensure correct panel structure\n",
    "pddat = pddat.sort_values([\"ID\", \"year\"])"
   ]
  },
  {
   "cell_type": "code",
   "execution_count": 13,
   "metadata": {},
   "outputs": [],
   "source": [
    "# demean data\n",
    "pddat_demean = pddat - pddat.groupby(\"ID\").transform('mean')\n",
    "\n",
    "# reorder columns\n",
    "# The order changes back to the original order after the transformation, due to the way pandas works.\n",
    "pddat_demean = pddat_demean[desired_order] \n",
    "\n",
    "# turn into numpy array\n",
    "datdemean = pddat_demean.to_numpy()"
   ]
  },
  {
   "cell_type": "markdown",
   "metadata": {},
   "source": [
    "Look at the data. Select the variables that you need to estimate the model using FE. Estimate the model. Did you get the same results?"
   ]
  },
  {
   "cell_type": "code",
   "execution_count": 14,
   "metadata": {},
   "outputs": [
    {
     "data": {
      "application/vnd.microsoft.datawrangler.viewer.v0+json": {
       "columns": [
        {
         "name": "index",
         "rawType": "int64",
         "type": "integer"
        },
        {
         "name": "ID",
         "rawType": "float64",
         "type": "float"
        },
        {
         "name": "year",
         "rawType": "float64",
         "type": "float"
        },
        {
         "name": "logwage",
         "rawType": "float64",
         "type": "float"
        },
        {
         "name": "exp",
         "rawType": "float64",
         "type": "float"
        },
        {
         "name": "expsq",
         "rawType": "float64",
         "type": "float"
        }
       ],
       "ref": "ae61ec7a-1f1e-4be7-a993-d08e5a03ee41",
       "rows": [
        [
         "0",
         null,
         "-5.5",
         "0.09115634166666675",
         "0.04207608333333332",
         "0.06801715833333333"
        ],
        [
         "1",
         null,
         "-4.5",
         "0.01776854166666675",
         "0.04298308333333334",
         "0.031456458333333326"
        ],
        [
         "2",
         null,
         "-3.5",
         "-0.027829058333333268",
         "0.01912708333333335",
         "0.06653005833333331"
        ],
        [
         "3",
         null,
         "-2.5",
         "-0.06434765833333334",
         "-0.03361391666666669",
         "-0.04629194166666667"
        ],
        [
         "4",
         null,
         "-1.5",
         "-0.08416525833333333",
         "-0.08798591666666666",
         "-0.09883704166666668"
        ],
        [
         "5",
         null,
         "-0.5",
         "-0.11309925833333323",
         "-0.017088916666666676",
         "-0.017557141666666665"
        ],
        [
         "6",
         null,
         "0.5",
         "-0.13364085833333328",
         "-0.10908391666666667",
         "0.11202385833333334"
        ],
        [
         "7",
         null,
         "1.5",
         "-0.11235375833333328",
         "-0.05119691666666665",
         "0.020731258333333336"
        ],
        [
         "8",
         null,
         "2.5",
         "0.04174604166666673",
         "-0.03777691666666666",
         "0.006791158333333325"
        ],
        [
         "9",
         null,
         "3.5",
         "0.09415164166666679",
         "0.00989308333333333",
         "-0.01081554166666665"
        ],
        [
         "10",
         null,
         "4.5",
         "0.11847664166666672",
         "0.07134408333333334",
         "-0.03576584166666666"
        ],
        [
         "11",
         null,
         "5.5",
         "0.17213664166666676",
         "0.15132308333333333",
         "-0.09628244166666666"
        ],
        [
         "12",
         null,
         "-5.5",
         "0.039097516666666665",
         "0.1959346666666667",
         "0.26787491666666685"
        ],
        [
         "13",
         null,
         "-4.5",
         "0.051961716666666664",
         "0.16077866666666668",
         "0.06987591666666693"
        ],
        [
         "14",
         null,
         "-3.5",
         "0.07600531666666666",
         "0.11244366666666672",
         "-0.08618408333333316"
        ],
        [
         "15",
         null,
         "-2.5",
         "0.061042516666666664",
         "-0.0030443333333333156",
         "0.006745916666666796"
        ],
        [
         "16",
         null,
         "-1.5",
         "0.04942531666666666",
         "-0.09339833333333325",
         "-0.14763408333333317"
        ],
        [
         "17",
         null,
         "-0.5",
         "0.02280091666666667",
         "-0.1099553333333333",
         "-0.03566408333333326"
        ],
        [
         "18",
         null,
         "0.5",
         "-0.05230438333333333",
         "-0.08664633333333327",
         "0.07435591666666674"
        ],
        [
         "19",
         null,
         "1.5",
         "-0.09211338333333334",
         "-0.02603333333333324",
         "0.03627591666666685"
        ],
        [
         "20",
         null,
         "2.5",
         "-0.08330338333333333",
         "-0.016941333333333253",
         "-0.006884083333333235"
        ],
        [
         "21",
         null,
         "3.5",
         "-0.03424138333333333",
         "-0.09042633333333328",
         "-0.12076408333333322"
        ],
        [
         "22",
         null,
         "4.5",
         "-0.024722383333333334",
         "-0.07584933333333332",
         "0.006355916666666905"
        ],
        [
         "23",
         null,
         "5.5",
         "-0.013648383333333333",
         "0.033137666666666676",
         "-0.06435408333333315"
        ],
        [
         "24",
         null,
         "-5.5",
         "0.3500588583333334",
         "0.29976141666666667",
         "0.5558025166666668"
        ],
        [
         "25",
         null,
         "-4.5",
         "0.30957985833333324",
         "0.20530541666666657",
         "0.19124051666666675"
        ],
        [
         "26",
         null,
         "-3.5",
         "0.21067285833333338",
         "0.12212241666666657",
         "0.06152531666666672"
        ],
        [
         "27",
         null,
         "-2.5",
         "0.10273285833333334",
         "0.03866341666666662",
         "-0.08550178333333325"
        ],
        [
         "28",
         null,
         "-1.5",
         "0.043710358333333366",
         "-0.027758583333333364",
         "-0.03487798333333325"
        ],
        [
         "29",
         null,
         "-0.5",
         "-0.03804864166666666",
         "-0.07425658333333329",
         "0.053620916666666685"
        ],
        [
         "30",
         null,
         "0.5",
         "-0.1264167416666666",
         "-0.07237758333333333",
         "-0.09704978333333325"
        ],
        [
         "31",
         null,
         "1.5",
         "-0.16099364166666663",
         "-0.0252575833333335",
         "-0.1562636833333333"
        ],
        [
         "32",
         null,
         "2.5",
         "-0.1581270416666667",
         "-0.03582358333333335",
         "-0.16704828333333333"
        ],
        [
         "33",
         null,
         "3.5",
         "-0.14175034166666667",
         "-0.11017558333333333",
         "-0.17455018333333328"
        ],
        [
         "34",
         null,
         "4.5",
         "-0.1706986416666667",
         "-0.16456158333333337",
         "-0.02114998333333329"
        ],
        [
         "35",
         null,
         "5.5",
         "-0.22071974166666664",
         "-0.15564158333333333",
         "-0.12574758333333325"
        ],
        [
         "36",
         null,
         "-5.5",
         "0.2304098333333333",
         "0.17529578333333334",
         "0.2957325858333333"
        ],
        [
         "37",
         null,
         "-4.5",
         "0.22458783333333332",
         "0.12507128333333334",
         "0.2385428558333333"
        ],
        [
         "38",
         null,
         "-3.5",
         "0.17053083333333335",
         "0.09353588333333335",
         "0.09738495583333331"
        ],
        [
         "39",
         null,
         "-2.5",
         "0.10576383333333333",
         "-0.003947916666666662",
         "0.02871995583333331"
        ],
        [
         "40",
         null,
         "-1.5",
         "0.02269483333333333",
         "-0.02324711666666668",
         "0.038427955833333305"
        ],
        [
         "41",
         null,
         "-0.5",
         "-0.032094166666666646",
         "-0.018363016666666676",
         "-0.03181804416666667"
        ],
        [
         "42",
         null,
         "0.5",
         "-0.1068001666666667",
         "0.0008915833333333345",
         "-0.1667820441666667"
        ],
        [
         "43",
         null,
         "1.5",
         "-0.07579416666666661",
         "-0.003184016666666678",
         "-0.09857704416666668"
        ],
        [
         "44",
         null,
         "2.5",
         "-0.10290816666666669",
         "-0.08530041666666666",
         "-0.05178504416666668"
        ],
        [
         "45",
         null,
         "3.5",
         "-0.1563361666666666",
         "-0.08710331666666665",
         "-0.06269804416666669"
        ],
        [
         "46",
         null,
         "4.5",
         "-0.1406451666666667",
         "-0.09098241666666668",
         "-0.1242040441666667"
        ],
        [
         "47",
         null,
         "5.5",
         "-0.1394091666666667",
         "-0.08266631666666663",
         "-0.1629440441666667"
        ],
        [
         "48",
         null,
         "-5.5",
         "0.3450898333333333",
         "0.06673591666666667",
         "0.10205808333333333"
        ],
        [
         "49",
         null,
         "-4.5",
         "0.2719298333333333",
         "0.0995239166666666",
         "0.21950808333333338"
        ]
       ],
       "shape": {
        "columns": 5,
        "rows": 5292
       }
      },
      "text/html": [
       "<div>\n",
       "<style scoped>\n",
       "    .dataframe tbody tr th:only-of-type {\n",
       "        vertical-align: middle;\n",
       "    }\n",
       "\n",
       "    .dataframe tbody tr th {\n",
       "        vertical-align: top;\n",
       "    }\n",
       "\n",
       "    .dataframe thead th {\n",
       "        text-align: right;\n",
       "    }\n",
       "</style>\n",
       "<table border=\"1\" class=\"dataframe\">\n",
       "  <thead>\n",
       "    <tr style=\"text-align: right;\">\n",
       "      <th></th>\n",
       "      <th>ID</th>\n",
       "      <th>year</th>\n",
       "      <th>logwage</th>\n",
       "      <th>exp</th>\n",
       "      <th>expsq</th>\n",
       "    </tr>\n",
       "  </thead>\n",
       "  <tbody>\n",
       "    <tr>\n",
       "      <th>0</th>\n",
       "      <td>NaN</td>\n",
       "      <td>-5.5</td>\n",
       "      <td>0.091156</td>\n",
       "      <td>0.042076</td>\n",
       "      <td>0.068017</td>\n",
       "    </tr>\n",
       "    <tr>\n",
       "      <th>1</th>\n",
       "      <td>NaN</td>\n",
       "      <td>-4.5</td>\n",
       "      <td>0.017769</td>\n",
       "      <td>0.042983</td>\n",
       "      <td>0.031456</td>\n",
       "    </tr>\n",
       "    <tr>\n",
       "      <th>2</th>\n",
       "      <td>NaN</td>\n",
       "      <td>-3.5</td>\n",
       "      <td>-0.027829</td>\n",
       "      <td>0.019127</td>\n",
       "      <td>0.066530</td>\n",
       "    </tr>\n",
       "    <tr>\n",
       "      <th>3</th>\n",
       "      <td>NaN</td>\n",
       "      <td>-2.5</td>\n",
       "      <td>-0.064348</td>\n",
       "      <td>-0.033614</td>\n",
       "      <td>-0.046292</td>\n",
       "    </tr>\n",
       "    <tr>\n",
       "      <th>4</th>\n",
       "      <td>NaN</td>\n",
       "      <td>-1.5</td>\n",
       "      <td>-0.084165</td>\n",
       "      <td>-0.087986</td>\n",
       "      <td>-0.098837</td>\n",
       "    </tr>\n",
       "    <tr>\n",
       "      <th>...</th>\n",
       "      <td>...</td>\n",
       "      <td>...</td>\n",
       "      <td>...</td>\n",
       "      <td>...</td>\n",
       "      <td>...</td>\n",
       "    </tr>\n",
       "    <tr>\n",
       "      <th>5287</th>\n",
       "      <td>NaN</td>\n",
       "      <td>1.5</td>\n",
       "      <td>0.119397</td>\n",
       "      <td>0.188171</td>\n",
       "      <td>0.277783</td>\n",
       "    </tr>\n",
       "    <tr>\n",
       "      <th>5288</th>\n",
       "      <td>NaN</td>\n",
       "      <td>2.5</td>\n",
       "      <td>0.234044</td>\n",
       "      <td>0.369241</td>\n",
       "      <td>0.505693</td>\n",
       "    </tr>\n",
       "    <tr>\n",
       "      <th>5289</th>\n",
       "      <td>NaN</td>\n",
       "      <td>3.5</td>\n",
       "      <td>0.406210</td>\n",
       "      <td>0.472184</td>\n",
       "      <td>0.740543</td>\n",
       "    </tr>\n",
       "    <tr>\n",
       "      <th>5290</th>\n",
       "      <td>NaN</td>\n",
       "      <td>4.5</td>\n",
       "      <td>0.588603</td>\n",
       "      <td>0.520855</td>\n",
       "      <td>0.690639</td>\n",
       "    </tr>\n",
       "    <tr>\n",
       "      <th>5291</th>\n",
       "      <td>NaN</td>\n",
       "      <td>5.5</td>\n",
       "      <td>0.602861</td>\n",
       "      <td>0.577638</td>\n",
       "      <td>0.571220</td>\n",
       "    </tr>\n",
       "  </tbody>\n",
       "</table>\n",
       "<p>5292 rows × 5 columns</p>\n",
       "</div>"
      ],
      "text/plain": [
       "      ID  year   logwage       exp     expsq\n",
       "0    NaN  -5.5  0.091156  0.042076  0.068017\n",
       "1    NaN  -4.5  0.017769  0.042983  0.031456\n",
       "2    NaN  -3.5 -0.027829  0.019127  0.066530\n",
       "3    NaN  -2.5 -0.064348 -0.033614 -0.046292\n",
       "4    NaN  -1.5 -0.084165 -0.087986 -0.098837\n",
       "...   ..   ...       ...       ...       ...\n",
       "5287 NaN   1.5  0.119397  0.188171  0.277783\n",
       "5288 NaN   2.5  0.234044  0.369241  0.505693\n",
       "5289 NaN   3.5  0.406210  0.472184  0.740543\n",
       "5290 NaN   4.5  0.588603  0.520855  0.690639\n",
       "5291 NaN   5.5  0.602861  0.577638  0.571220\n",
       "\n",
       "[5292 rows x 5 columns]"
      ]
     },
     "execution_count": 14,
     "metadata": {},
     "output_type": "execute_result"
    }
   ],
   "source": [
    "# Look at data\n",
    "pddat_demean"
   ]
  },
  {
   "cell_type": "code",
   "execution_count": 16,
   "metadata": {},
   "outputs": [],
   "source": [
    "#Select variables\n",
    "# Turn the data into numpy arrays\n",
    "y_dot = pddat_demean['logwage'].to_numpy().reshape(-1,1)\n",
    "x_dot = pddat_demean[['exp','expsq']].to_numpy()"
   ]
  },
  {
   "cell_type": "code",
   "execution_count": 17,
   "metadata": {},
   "outputs": [
    {
     "name": "stdout",
     "output_type": "stream",
     "text": [
      "FE regression\n",
      "Dependent variable: Log capital\n",
      "\n",
      "                  Beta      Se    t-values\n",
      "--------------  ------  ------  ----------\n",
      "Log employment  0.4934  0.0181     27.3286\n",
      "Log DSA         0.1845  0.0155     11.9311\n",
      "R² = 0.338\n",
      "σ² = 0.021\n"
     ]
    }
   ],
   "source": [
    "# Estimate using the demeaned variables, y_dot and x_dot\n",
    "fe_result = lm.estimate(y_dot, x_dot, transform='fe', N=N, T=T)\n",
    "\n",
    "# Print results\n",
    "lm.print_table((label_y, label_x_fe), fe_result, title='FE regression', floatfmt='.4f')"
   ]
  },
  {
   "cell_type": "markdown",
   "metadata": {},
   "source": [
    "## First-difference (FD) Estimator\n",
    "Construct $\\mathbf{D}$ and use the procedure `perm` $(\\mathbf{D},\\mathbf{x})$ to compute first differences of the elements of $\\mathbf{y}$ and $\\mathbf{x}$. $\\mathbf{D}$ should be a $(T-1) \\times T$ matrix. Why?\n",
    "\n",
    "What happens to *educ, hisp* and *black* and the constant when the data are transformed into first differences? What is the rank of the first differenced $\\mathbf{x}$-matrix? Why?"
   ]
  },
  {
   "cell_type": "code",
   "execution_count": 18,
   "metadata": {},
   "outputs": [
    {
     "name": "stdout",
     "output_type": "stream",
     "text": [
      "First differening matrix for T=12 \n",
      " [[-1.  1.  0.  0.  0.  0.  0.  0.  0.  0.  0.  0.]\n",
      " [ 0. -1.  1.  0.  0.  0.  0.  0.  0.  0.  0.  0.]\n",
      " [ 0.  0. -1.  1.  0.  0.  0.  0.  0.  0.  0.  0.]\n",
      " [ 0.  0.  0. -1.  1.  0.  0.  0.  0.  0.  0.  0.]\n",
      " [ 0.  0.  0.  0. -1.  1.  0.  0.  0.  0.  0.  0.]\n",
      " [ 0.  0.  0.  0.  0. -1.  1.  0.  0.  0.  0.  0.]\n",
      " [ 0.  0.  0.  0.  0.  0. -1.  1.  0.  0.  0.  0.]\n",
      " [ 0.  0.  0.  0.  0.  0.  0. -1.  1.  0.  0.  0.]\n",
      " [ 0.  0.  0.  0.  0.  0.  0.  0. -1.  1.  0.  0.]\n",
      " [ 0.  0.  0.  0.  0.  0.  0.  0.  0. -1.  1.  0.]\n",
      " [ 0.  0.  0.  0.  0.  0.  0.  0.  0.  0. -1.  1.]]\n"
     ]
    }
   ],
   "source": [
    "# Create transformation matrix\n",
    "def fd_matrix(T):\n",
    "    D_T = np.eye(T) - np.eye(T, k=-1)\n",
    "    D_T = D_T[1:]\n",
    "    return D_T\n",
    "\n",
    "# Print the matrix\n",
    "D_T = fd_matrix(T)\n",
    "print(f'First differening matrix for T={T} \\n', D_T)"
   ]
  },
  {
   "cell_type": "code",
   "execution_count": 19,
   "metadata": {},
   "outputs": [
    {
     "name": "stdout",
     "output_type": "stream",
     "text": [
      "[[ 0.         0.000907  -0.0365607]\n",
      " [ 0.        -0.023856   0.0350736]\n",
      " [ 0.        -0.052741  -0.112822 ]\n",
      " ...\n",
      " [ 0.         0.102943   0.2348499]\n",
      " [ 0.         0.048671  -0.0499039]\n",
      " [ 0.         0.056783  -0.119419 ]]\n"
     ]
    }
   ],
   "source": [
    "# Transform the data.\n",
    "y_diff = lm.perm(D_T, y)\n",
    "x_diff = lm.perm(D_T, x)\n",
    "\n",
    "# Print x_diff\n",
    "print(x_diff)"
   ]
  },
  {
   "cell_type": "code",
   "execution_count": 20,
   "metadata": {},
   "outputs": [
    {
     "name": "stdout",
     "output_type": "stream",
     "text": [
      "Rank of demeaned x: 2\n",
      "Eigenvalues of within-transformed x: [93. 31.  0.]\n",
      "[[ 0.          0.          1.        ]\n",
      " [ 0.42938025  0.9031238   0.        ]\n",
      " [ 0.9031238  -0.42938025  0.        ]]\n"
     ]
    }
   ],
   "source": [
    "# Check rank condition.\n",
    "check_rank(x_diff)"
   ]
  },
  {
   "cell_type": "markdown",
   "metadata": {},
   "source": [
    "Adjust `x_diff` such that the model can be estimated using the FD estimator. Adjust the labels to match with `x_diff`.\n",
    "\n",
    "Estimate the model using the estimate() function, and print the results."
   ]
  },
  {
   "cell_type": "code",
   "execution_count": 21,
   "metadata": {},
   "outputs": [],
   "source": [
    "# Choose variables to include in fixed effects model\n",
    "x_diff = x_diff[:, 1:5]\n",
    "label_x_fd = label_x[1:5]"
   ]
  },
  {
   "cell_type": "code",
   "execution_count": 22,
   "metadata": {},
   "outputs": [
    {
     "name": "stdout",
     "output_type": "stream",
     "text": [
      "FD regression\n",
      "Dependent variable: Log capital\n",
      "\n",
      "                  Beta      Se    t-values\n",
      "--------------  ------  ------  ----------\n",
      "Log employment  0.1167  0.0149      7.8236\n",
      "Log DSA         0.0357  0.0108      3.3043\n",
      "R² = 0.022\n",
      "σ² = 0.008\n"
     ]
    }
   ],
   "source": [
    "# Estimate FE OLS using the demeaned variables.\n",
    "fd_result = lm.estimate(y_diff, x_diff, transform='fd', N=N, T=T-1)\n",
    "\n",
    "# Print results\n",
    "lm.print_table((label_y, label_x_fd), fd_result, title='FD regression', floatfmt='.4f')"
   ]
  },
  {
   "cell_type": "markdown",
   "metadata": {},
   "source": [
    "You should get a table that looks like this:\n",
    "\n",
    "FD regression <br>\n",
    "Dependent variable: Log wage\n",
    "\n",
    "|                |    Beta |     Se |   t-values |\n",
    "|----------------|---------|--------|------------|\n",
    "| Experience     |  0.1158 | 0.0196 |     5.9096 |\n",
    "| Experience sqr | -0.0039 | 0.0014 |    -2.8005 |\n",
    "| Union          |  0.0428 | 0.0197 |     2.1767 |\n",
    "| Married        |  0.0381 | 0.0229 |     1.6633 |\n",
    "R² = 0.004 <br>\n",
    "σ² = 0.196\n",
    "\n",
    "**NB:** Did you use the right standard errors? Did you use the right number of time periods in the estimate() function?\n",
    "\n",
    "How big is the union premium according to the estimate from this model? Compare the FD estimate with the estimate that you calculated from the FE regression. Is there a difference? If yes, what (if anything) can we conclude based on this finding?"
   ]
  },
  {
   "cell_type": "markdown",
   "metadata": {},
   "source": [
    "### Using pandas"
   ]
  },
  {
   "cell_type": "code",
   "execution_count": 23,
   "metadata": {},
   "outputs": [
    {
     "data": {
      "application/vnd.microsoft.datawrangler.viewer.v0+json": {
       "columns": [
        {
         "name": "index",
         "rawType": "int64",
         "type": "integer"
        },
        {
         "name": "year",
         "rawType": "float64",
         "type": "float"
        },
        {
         "name": "logwage",
         "rawType": "float64",
         "type": "float"
        },
        {
         "name": "exp",
         "rawType": "float64",
         "type": "float"
        },
        {
         "name": "expsq",
         "rawType": "float64",
         "type": "float"
        }
       ],
       "ref": "54b6352a-99b7-4375-ae89-95b2bb9a5206",
       "rows": [
        [
         "1",
         "1.0",
         "-0.0733878",
         "0.0009070000000000189",
         "-0.0365607"
        ],
        [
         "2",
         "1.0",
         "-0.045597600000000016",
         "-0.02385599999999999",
         "0.03507359999999998"
        ],
        [
         "3",
         "1.0",
         "-0.03651860000000007",
         "-0.05274100000000004",
         "-0.11282199999999998"
        ],
        [
         "4",
         "1.0",
         "-0.01981759999999999",
         "-0.054371999999999976",
         "-0.05254510000000001"
        ],
        [
         "5",
         "1.0",
         "-0.028933999999999904",
         "0.07089699999999999",
         "0.08127990000000002"
        ],
        [
         "6",
         "1.0",
         "-0.02054160000000005",
         "-0.091995",
         "0.129581"
        ],
        [
         "7",
         "1.0",
         "0.021287100000000003",
         "0.05788700000000002",
         "-0.0912926"
        ],
        [
         "8",
         "1.0",
         "0.1540998",
         "0.013419999999999987",
         "-0.01394010000000001"
        ],
        [
         "9",
         "1.0",
         "0.05240560000000005",
         "0.04766999999999999",
         "-0.017606699999999975"
        ],
        [
         "10",
         "1.0",
         "0.02432499999999993",
         "0.061451000000000006",
         "-0.02495030000000001"
        ],
        [
         "11",
         "1.0",
         "0.05366000000000004",
         "0.079979",
         "-0.060516600000000004"
        ],
        [
         "13",
         "1.0",
         "0.0128642",
         "-0.03515600000000002",
         "-0.19799899999999993"
        ],
        [
         "14",
         "1.0",
         "0.0240436",
         "-0.04833499999999996",
         "-0.1560600000000001"
        ],
        [
         "15",
         "1.0",
         "-0.014962799999999998",
         "-0.11548800000000004",
         "0.09292999999999996"
        ],
        [
         "16",
         "1.0",
         "-0.011617200000000001",
         "-0.09035399999999993",
         "-0.15437999999999996"
        ],
        [
         "17",
         "1.0",
         "-0.026624399999999993",
         "-0.016557000000000044",
         "0.1119699999999999"
        ],
        [
         "18",
         "1.0",
         "-0.0751053",
         "0.023309000000000024",
         "0.11002"
        ],
        [
         "19",
         "1.0",
         "-0.03980900000000001",
         "0.06061300000000003",
         "-0.03807999999999989"
        ],
        [
         "20",
         "1.0",
         "0.008810000000000012",
         "0.009091999999999989",
         "-0.04316000000000009"
        ],
        [
         "21",
         "1.0",
         "0.049061999999999995",
         "-0.07348500000000002",
         "-0.11387999999999998"
        ],
        [
         "22",
         "1.0",
         "0.009519",
         "0.014576999999999951",
         "0.12712000000000012"
        ],
        [
         "23",
         "1.0",
         "0.011074",
         "0.108987",
         "-0.07071000000000005"
        ],
        [
         "25",
         "1.0",
         "-0.040479000000000154",
         "-0.0944560000000001",
         "-0.36456200000000005"
        ],
        [
         "26",
         "1.0",
         "-0.09890699999999986",
         "-0.083183",
         "-0.12971520000000003"
        ],
        [
         "27",
         "1.0",
         "-0.10794000000000004",
         "-0.08345899999999995",
         "-0.14702709999999997"
        ],
        [
         "28",
         "1.0",
         "-0.05902249999999998",
         "-0.06642199999999998",
         "0.0506238"
        ],
        [
         "29",
         "1.0",
         "-0.08175900000000003",
         "-0.04649799999999993",
         "0.08849889999999994"
        ],
        [
         "30",
         "1.0",
         "-0.08836809999999995",
         "0.001878999999999964",
         "-0.15067069999999994"
        ],
        [
         "31",
         "1.0",
         "-0.03457690000000002",
         "0.04711999999999983",
         "-0.05921390000000004"
        ],
        [
         "32",
         "1.0",
         "0.0028665999999999414",
         "-0.010565999999999853",
         "-0.010784600000000033"
        ],
        [
         "33",
         "1.0",
         "0.016376700000000022",
         "-0.07435199999999997",
         "-0.00750189999999995"
        ],
        [
         "34",
         "1.0",
         "-0.028948300000000038",
         "-0.054386000000000045",
         "0.1534002"
        ],
        [
         "35",
         "1.0",
         "-0.05002109999999993",
         "0.008920000000000039",
         "-0.10459759999999996"
        ],
        [
         "37",
         "1.0",
         "-0.005821999999999994",
         "-0.050224500000000005",
         "-0.05718973"
        ],
        [
         "38",
         "1.0",
         "-0.054056999999999966",
         "-0.03153539999999999",
         "-0.1411579"
        ],
        [
         "39",
         "1.0",
         "-0.06476700000000002",
         "-0.09748380000000001",
         "-0.068665"
        ],
        [
         "40",
         "1.0",
         "-0.083069",
         "-0.019299200000000016",
         "0.009707999999999994"
        ],
        [
         "41",
         "1.0",
         "-0.05478899999999998",
         "0.004884100000000002",
         "-0.07024599999999998"
        ],
        [
         "42",
         "1.0",
         "-0.07470600000000005",
         "0.01925460000000001",
         "-0.13496400000000003"
        ],
        [
         "43",
         "1.0",
         "0.03100600000000009",
         "-0.0040756000000000125",
         "0.06820500000000002"
        ],
        [
         "44",
         "1.0",
         "-0.027114000000000082",
         "-0.08211639999999998",
         "0.046792"
        ],
        [
         "45",
         "1.0",
         "-0.05342799999999992",
         "-0.0018028999999999962",
         "-0.010913000000000006"
        ],
        [
         "46",
         "1.0",
         "0.0156909999999999",
         "-0.003879100000000024",
         "-0.061506000000000005"
        ],
        [
         "47",
         "1.0",
         "0.0012360000000000149",
         "0.008316100000000048",
         "-0.03874"
        ],
        [
         "49",
         "1.0",
         "-0.07316",
         "0.03278799999999993",
         "0.11745000000000005"
        ],
        [
         "50",
         "1.0",
         "-0.05437000000000003",
         "0.01819700000000002",
         "0.06501899999999994"
        ],
        [
         "51",
         "1.0",
         "-0.063303",
         "-0.007634999999999947",
         "-0.08461699999999994"
        ],
        [
         "52",
         "1.0",
         "-0.02248899999999998",
         "-0.117645",
         "-0.34620300000000004"
        ],
        [
         "53",
         "1.0",
         "-0.062083",
         "0.000124000000000013",
         "-0.024229999999999974"
        ],
        [
         "54",
         "1.0",
         "-0.14270899999999997",
         "-0.05164600000000008",
         "0.02340999999999993"
        ]
       ],
       "shape": {
        "columns": 4,
        "rows": 4851
       }
      },
      "text/html": [
       "<div>\n",
       "<style scoped>\n",
       "    .dataframe tbody tr th:only-of-type {\n",
       "        vertical-align: middle;\n",
       "    }\n",
       "\n",
       "    .dataframe tbody tr th {\n",
       "        vertical-align: top;\n",
       "    }\n",
       "\n",
       "    .dataframe thead th {\n",
       "        text-align: right;\n",
       "    }\n",
       "</style>\n",
       "<table border=\"1\" class=\"dataframe\">\n",
       "  <thead>\n",
       "    <tr style=\"text-align: right;\">\n",
       "      <th></th>\n",
       "      <th>year</th>\n",
       "      <th>logwage</th>\n",
       "      <th>exp</th>\n",
       "      <th>expsq</th>\n",
       "    </tr>\n",
       "  </thead>\n",
       "  <tbody>\n",
       "    <tr>\n",
       "      <th>1</th>\n",
       "      <td>1.0</td>\n",
       "      <td>-0.073388</td>\n",
       "      <td>0.000907</td>\n",
       "      <td>-0.036561</td>\n",
       "    </tr>\n",
       "    <tr>\n",
       "      <th>2</th>\n",
       "      <td>1.0</td>\n",
       "      <td>-0.045598</td>\n",
       "      <td>-0.023856</td>\n",
       "      <td>0.035074</td>\n",
       "    </tr>\n",
       "    <tr>\n",
       "      <th>3</th>\n",
       "      <td>1.0</td>\n",
       "      <td>-0.036519</td>\n",
       "      <td>-0.052741</td>\n",
       "      <td>-0.112822</td>\n",
       "    </tr>\n",
       "    <tr>\n",
       "      <th>4</th>\n",
       "      <td>1.0</td>\n",
       "      <td>-0.019818</td>\n",
       "      <td>-0.054372</td>\n",
       "      <td>-0.052545</td>\n",
       "    </tr>\n",
       "    <tr>\n",
       "      <th>5</th>\n",
       "      <td>1.0</td>\n",
       "      <td>-0.028934</td>\n",
       "      <td>0.070897</td>\n",
       "      <td>0.081280</td>\n",
       "    </tr>\n",
       "    <tr>\n",
       "      <th>...</th>\n",
       "      <td>...</td>\n",
       "      <td>...</td>\n",
       "      <td>...</td>\n",
       "      <td>...</td>\n",
       "    </tr>\n",
       "    <tr>\n",
       "      <th>5287</th>\n",
       "      <td>1.0</td>\n",
       "      <td>0.038180</td>\n",
       "      <td>0.127878</td>\n",
       "      <td>-0.004209</td>\n",
       "    </tr>\n",
       "    <tr>\n",
       "      <th>5288</th>\n",
       "      <td>1.0</td>\n",
       "      <td>0.114647</td>\n",
       "      <td>0.181070</td>\n",
       "      <td>0.227910</td>\n",
       "    </tr>\n",
       "    <tr>\n",
       "      <th>5289</th>\n",
       "      <td>1.0</td>\n",
       "      <td>0.172166</td>\n",
       "      <td>0.102943</td>\n",
       "      <td>0.234850</td>\n",
       "    </tr>\n",
       "    <tr>\n",
       "      <th>5290</th>\n",
       "      <td>1.0</td>\n",
       "      <td>0.182393</td>\n",
       "      <td>0.048671</td>\n",
       "      <td>-0.049904</td>\n",
       "    </tr>\n",
       "    <tr>\n",
       "      <th>5291</th>\n",
       "      <td>1.0</td>\n",
       "      <td>0.014258</td>\n",
       "      <td>0.056783</td>\n",
       "      <td>-0.119419</td>\n",
       "    </tr>\n",
       "  </tbody>\n",
       "</table>\n",
       "<p>4851 rows × 4 columns</p>\n",
       "</div>"
      ],
      "text/plain": [
       "      year   logwage       exp     expsq\n",
       "1      1.0 -0.073388  0.000907 -0.036561\n",
       "2      1.0 -0.045598 -0.023856  0.035074\n",
       "3      1.0 -0.036519 -0.052741 -0.112822\n",
       "4      1.0 -0.019818 -0.054372 -0.052545\n",
       "5      1.0 -0.028934  0.070897  0.081280\n",
       "...    ...       ...       ...       ...\n",
       "5287   1.0  0.038180  0.127878 -0.004209\n",
       "5288   1.0  0.114647  0.181070  0.227910\n",
       "5289   1.0  0.172166  0.102943  0.234850\n",
       "5290   1.0  0.182393  0.048671 -0.049904\n",
       "5291   1.0  0.014258  0.056783 -0.119419\n",
       "\n",
       "[4851 rows x 4 columns]"
      ]
     },
     "execution_count": 23,
     "metadata": {},
     "output_type": "execute_result"
    }
   ],
   "source": [
    "# first difference the data\n",
    "pddat_diff = pddat.groupby(\"ID\").diff().dropna() # groupby ID and take difference\n",
    "pddat_diff = pddat_diff[desired_order[1:]] # reorder columns\n",
    "datdiff = pddat_diff.to_numpy() # turn into numpy array\n",
    "\n",
    "# Look at data\n",
    "pddat_diff"
   ]
  },
  {
   "cell_type": "code",
   "execution_count": 25,
   "metadata": {},
   "outputs": [],
   "source": [
    "# Select variables\n",
    "y_delta = pddat_diff['logwage'].to_numpy().reshape(-1,1)\n",
    "x_delta = pddat_diff[['exp','expsq']].to_numpy()"
   ]
  },
  {
   "cell_type": "code",
   "execution_count": 26,
   "metadata": {},
   "outputs": [
    {
     "name": "stdout",
     "output_type": "stream",
     "text": [
      "First Differences\n",
      "Dependent variable: Log capital\n",
      "\n",
      "                  Beta      Se    t-values\n",
      "--------------  ------  ------  ----------\n",
      "Log employment  0.1167  0.0149      7.8236\n",
      "Log DSA         0.0357  0.0108      3.3043\n",
      "R² = 0.022\n",
      "σ² = 0.008\n"
     ]
    }
   ],
   "source": [
    "# Estimate using the first differenced variables, y_delta and x_delta. \n",
    "fd_result = lm.estimate(y_delta, x_delta, transform='fd', N=N, T=T-1)\n",
    "\n",
    "#print results\n",
    "lm.print_table((label_y, label_x[1:5]), fd_result, title=\"First Differences\", floatfmt='.4f')"
   ]
  },
  {
   "cell_type": "markdown",
   "metadata": {},
   "source": [
    "## Tests\n",
    "### Test for serial correlation in the errors using an auxilliary AR(1) model\n",
    "Tests assumption FD.3, where the errors $e_{it} = \\Delta u_{it}$ should be serially uncorrelated.\n",
    "\n",
    "We can easily test this assumption given the OLS residuals from the FD version of equation (1). Run the regression (note that you will lose data for\n",
    "the first *two* periods)\n",
    "\\begin{equation}\n",
    "\\hat{e}_{it}=\\rho\\hat{e}_{it-1}+error_{it},\\quad t=\\color{red}{3},\\dotsc,T,\\quad i=1,\\dotsc,N\\tag{2}\n",
    "\\end{equation}\n",
    "\n",
    "Do you find any evidence of serial correlation? Does FD.3 seem appropriate? And why don't we include an intercept in this auxilliary equation?"
   ]
  },
  {
   "cell_type": "markdown",
   "metadata": {},
   "source": [
    "*Note:* Under FE.3, the idiosyncratic errors $u_{it}$\n",
    "are uncorrelated. However, FE.3 implies that the $e_{it}$'s are autocorrelated. In fact, of the $u_{it}$'s are serially uncorrelated to begin with, corr $\\left(e_{it},e_{it-1}\\right)=-0.5$. (Check!) This test is of course only valid if the explanatory variables are strictly exogenous!\n",
    "\n",
    "*Hint:* You can use the `perm` function to lag\n",
    "the error term variable. Consider the following; \n",
    "\n",
    "$$\n",
    "{\\begin{bmatrix}\n",
    "1 & 0 & 0 & \\cdots & 0 & 0\\\\\n",
    "0 & 1 & 0 & \\cdots & 0 & 0\\\\\n",
    "\\vdots & \\vdots & \\vdots & \\ddots & \\vdots & \\vdots\\\\\n",
    "0 & 0 & 0 & \\cdots & 1 & 0\n",
    "\\end{bmatrix}}_{T-1\\times T}\\times{\\begin{bmatrix}y_{1}\\\\\n",
    "y_{2}\\\\\n",
    "\\vdots\\\\\n",
    "y_{T}\n",
    "\\end{bmatrix}}_{T \\times 1}={\\begin{bmatrix}y_{1}\\\\\n",
    "y_{2}\\\\\n",
    "\\vdots\\\\\n",
    "y_{T - 1}\n",
    "\\end{bmatrix}}_{T - 1\\times 1}\n",
    "$$\n",
    "\n",
    "*Hint:* You can use the `perm` function to remove the first time-period in the residual. Consider the following; \n",
    "\n",
    "$$\n",
    "{\\begin{bmatrix}\n",
    "0 & 1 & 0 & \\cdots & 0 & 0\\\\\n",
    "0 & 0 & 1 & \\cdots & 0 & 0\\\\\n",
    "\\vdots & \\vdots & \\vdots & \\ddots & \\vdots & \\vdots\\\\\n",
    "0 & 0 & 0 & \\cdots & 0 & 1\n",
    "\\end{bmatrix}}_{T-1\\times T}\\times{\\begin{bmatrix}y_{1}\\\\\n",
    "y_{2}\\\\\n",
    "\\vdots\\\\\n",
    "y_{T}\n",
    "\\end{bmatrix}}_{T \\times 1}={\\begin{bmatrix}y_{2}\\\\\n",
    "y_{3}\\\\\n",
    "\\vdots\\\\\n",
    "y_{T}\n",
    "\\end{bmatrix}}_{T - 1\\times 1}\n",
    "$$"
   ]
  },
  {
   "cell_type": "code",
   "execution_count": 27,
   "metadata": {},
   "outputs": [],
   "source": [
    "# Make function to calculate the serial correlation\n",
    "def serial_corr(y, x, T):\n",
    "    # Calculate the residuals\n",
    "    b_hat = lm.est_ols(y, x)\n",
    "    e = y - x@b_hat\n",
    "    \n",
    "    # Create a lag transformation matrix\n",
    "    L_T = np.eye(T, k=-1)\n",
    "    L_T = L_T[1:]\n",
    "\n",
    "    # Lag residuals\n",
    "    e_l = lm.perm(L_T, e)\n",
    "\n",
    "    # Create a transformation matrix that removes the first observation of each individual\n",
    "    I_T = np.eye(T, k=0)\n",
    "    I_T = I_T[1:]\n",
    "    \n",
    "    # Remove first observation of each individual\n",
    "    e = lm.perm(I_T, e)\n",
    "    \n",
    "    # Calculate the serial correlation\n",
    "    return lm.estimate(e, e_l,N=N,T=T-1)"
   ]
  },
  {
   "cell_type": "code",
   "execution_count": 28,
   "metadata": {},
   "outputs": [
    {
     "name": "stdout",
     "output_type": "stream",
     "text": [
      "Serial Correlation\n",
      "Dependent variable: OLS residual, eᵢₜ\n",
      "\n",
      "         Beta      Se    t-values\n",
      "-----  ------  ------  ----------\n",
      "eᵢₜ₋₁  0.2028  0.0144     14.0426\n",
      "R² = 0.043\n",
      "σ² = 0.008\n"
     ]
    }
   ],
   "source": [
    "# Estimate serial correlation\n",
    "corr_result = serial_corr(y_diff, x_diff, T-1)\n",
    "\n",
    "# Print results\n",
    "label_ye = 'OLS residual, e\\u1d62\\u209c'\n",
    "label_e = ['e\\u1d62\\u209c\\u208B\\u2081']\n",
    "lm.print_table(\n",
    "    (label_ye, label_e), corr_result, \n",
    "    title='Serial Correlation', floatfmt='.4f'\n",
    ")"
   ]
  },
  {
   "cell_type": "markdown",
   "metadata": {},
   "source": [
    "You should get a table that looks like this:\n",
    "\n",
    "Serial Correlation <br>\n",
    "Dependent variable: OLS residual, eᵢₜ\n",
    "\n",
    "|       |    Beta |     Se |   t-values |\n",
    "|-------|---------|--------|------------|\n",
    "| eᵢₜ₋₁ | -0.3961 | 0.0147 |   -27.0185 |\n",
    "R² = 0.182 <br>\n",
    "σ² = 0.143"
   ]
  },
  {
   "cell_type": "markdown",
   "metadata": {},
   "source": [
    "### Test for strict exogeneity\n",
    "\n",
    "Add a lead of the union variable, $union_{i,t+1}$ to the equation (1) (note that you will lose data from period $T$ , 1987) and estimate the model with *fixed effects* (i.e., you have to demean $union_{i,t+1}$ along with all the other variables and throw out time constant variables). Is $union_{i,t+1}$ significant? What does this imply for the strict exogeneity assumption?\n",
    "\n",
    "*Hint:* To lead a variable, think along the same lines as in the previous exercise."
   ]
  },
  {
   "cell_type": "code",
   "execution_count": 29,
   "metadata": {},
   "outputs": [],
   "source": [
    "# Lead employment\n",
    "F_T = np.eye(T, k=1)\n",
    "F_T = F_T[:-1]\n",
    "\n",
    "employment_lead = lm.perm(F_T, x[:, 1].reshape(-1, 1))"
   ]
  },
  {
   "cell_type": "code",
   "execution_count": 30,
   "metadata": {},
   "outputs": [],
   "source": [
    "# Remove the last observed year for every individual\n",
    "I_T = np.eye(T, k=0)\n",
    "I_T = I_T[:-1]\n",
    "\n",
    "x_exo = lm.perm(I_T, x)\n",
    "y_exo = lm.perm(I_T, y)"
   ]
  },
  {
   "cell_type": "code",
   "execution_count": 31,
   "metadata": {},
   "outputs": [],
   "source": [
    "# Add employment_lead to x_exo\n",
    "x_exo = np.hstack((x_exo, employment_lead))\n",
    "\n",
    "# Within transform the data\n",
    "Q_T = demeaning_matrix(T - 1)\n",
    "yw_exo = lm.perm(Q_T, y_exo)\n",
    "xw_exo = lm.perm(Q_T, x_exo)\n",
    "\n",
    "# Select variables\n",
    "xw_exo = np.hstack((xw_exo[:, 1:5], xw_exo[:, -1].reshape(-1, 1)))"
   ]
  },
  {
   "cell_type": "code",
   "execution_count": 32,
   "metadata": {},
   "outputs": [
    {
     "name": "stdout",
     "output_type": "stream",
     "text": [
      "Exogeneity test\n",
      "Dependent variable: Log capital\n",
      "\n",
      "                    Beta        Se    t-values\n",
      "---------------  -------  --------  ----------\n",
      "Log employment    1.6418    0.0424     38.7010\n",
      "Log DSA           0.2935    0.0265     11.0949\n",
      "Employment lead  -2.0000  nan         nan\n",
      "R² = -0.748\n",
      "σ² = 0.051\n"
     ]
    },
    {
     "name": "stderr",
     "output_type": "stream",
     "text": [
      "/Users/juliusvikjaer/AMD/project 2/w2_LinearModels_post.py:92: RuntimeWarning: invalid value encountered in sqrt\n",
      "  se = np.sqrt(cov.diagonal()).reshape(-1, 1)\n"
     ]
    }
   ],
   "source": [
    "# Estimate model\n",
    "exo_test = lm.estimate(yw_exo, xw_exo, N=N, T=T - 1, transform='fe')\n",
    "\n",
    "# Print results\n",
    "label_exo = label_x_fe + ['Employment lead']\n",
    "lm.print_table((label_y, label_exo), exo_test, title='Exogeneity test', floatfmt='.4f')"
   ]
  },
  {
   "cell_type": "code",
   "execution_count": 33,
   "metadata": {},
   "outputs": [
    {
     "name": "stdout",
     "output_type": "stream",
     "text": [
      "Strict exogeneity test\n",
      "Dependent variable: Output (ldsa)\n",
      "\n",
      "                   Beta      Se    t-values\n",
      "---------------  ------  ------  ----------\n",
      "Capital          0.4752  0.0193     24.6305\n",
      "Employment       0.1586  0.0197      8.0618\n",
      "Lead employment  0.0421  0.0180      2.3371\n",
      "R² = 0.325\n",
      "σ² = 0.020\n"
     ]
    }
   ],
   "source": [
    "# Create lead of employment\n",
    "F_T = np.eye(T, k=1)[:-1]  # shifts forward, drops last row\n",
    "employment_lead = lm.perm(F_T, x[:, 2].reshape(-1, 1))  # employment is column 2\n",
    "\n",
    "# Drop last year for everyone (so dimensions match)\n",
    "I_T = np.eye(T)[:-1]\n",
    "x_exo = lm.perm(I_T, x)\n",
    "y_exo = lm.perm(I_T, y)  # <-- now y is ldsa\n",
    "\n",
    "# Add employment_lead to regressors\n",
    "x_exo = np.hstack((x_exo, employment_lead))\n",
    "\n",
    "# Within transform (demean)\n",
    "Q_T = demeaning_matrix(T - 1)\n",
    "yw_exo = lm.perm(Q_T, y_exo)\n",
    "xw_exo = lm.perm(Q_T, x_exo)\n",
    "\n",
    "# Keep the usual regressors + the lead\n",
    "xw_exo = np.hstack((xw_exo[:, 1:3], xw_exo[:, -1].reshape(-1, 1)))  \n",
    "# columns: capital, employment, lead employment\n",
    "\n",
    "# Estimate FE model with the lead\n",
    "exo_test = lm.estimate(yw_exo, xw_exo, N=N, T=T-1, transform='fe')\n",
    "\n",
    "# Print results\n",
    "label_exo = [\"Capital\", \"Employment\", \"Lead employment\"]\n",
    "lm.print_table((\"Output (ldsa)\", label_exo), exo_test, title=\"Strict exogeneity test\", floatfmt=\".4f\")\n",
    "\n"
   ]
  },
  {
   "cell_type": "markdown",
   "metadata": {},
   "source": [
    "The table should look something like this:\n",
    "Exogeneity test <br>\n",
    "Dependent variable: Log wage\n",
    "\n",
    "|                |    Beta |     Se |   t-values |\n",
    "|----------------|---------|--------|------------|\n",
    "| Experience     |  0.1213 | 0.0100 |    12.1001 |\n",
    "| Experience sqr | -0.0050 | 0.0008 |    -6.3579 |\n",
    "| Married        |  0.0436 | 0.0209 |     2.0898 |\n",
    "| Union          |  0.0757 | 0.0218 |     3.4784 |\n",
    "| Union lead     |  0.0515 | 0.0223 |     2.3063 |\n",
    "R² = 0.146<br>\n",
    "σ² = 0.128"
   ]
  },
  {
   "cell_type": "markdown",
   "metadata": {},
   "source": [
    "### Time series dummies and FE\n",
    "Add interactions on the form $d_{81}\\cdot educ, d_{82}\\cdot educ, ..., d_{87}\\cdot educ$ and estimate the model with fixed effect. Has the return to education increased over time?\n",
    "\n",
    "*Hint:* Remember that $educ_{i}$ doesn't vary over\n",
    "time! Therefore we didn't use $educ$ in levels in the FE estimation.\n",
    "However, if we suppose that the structural equation (4) contains a term $\\sum_{s=2}^{T}\\delta_{s}d_{s}educ_{i}$, it will be perfectly fine to within-transform these interactions since they vary over time (although in a highly structured manner - they equal\n",
    "zero in all time periods but one, and then $educ$). Note that one\n",
    "period is dropped for the within-transformation to work whereas the\n",
    "levels term, $\\beta_{5}educ_{i}$, is dropped to avoid producing a\n",
    "constant row.\n",
    "\n",
    "*Programming hint:* You want to append the dataset with a dummy matrix, that would look something like this:\n",
    "\n",
    "$$\n",
    "\\begin{bmatrix}\n",
    "0 & 0 & 0 & 0 & 0 & 0 & 0 \\\\\n",
    "14 & 0 & 0 & 0 & 0 & 0 & 0 \\\\\n",
    "0 & 14 & 0 & 0 & 0 & 0 & 0 \\\\\n",
    "\\vdots & \\vdots & \\vdots & \\vdots & \\vdots & \\ddots & \\vdots \\\\\n",
    "0 & 0 & 0 & 0 & 0 & 0 & 14 \\\\\n",
    "0 & 0 & 0 & 0 & 0 & 0 & 0 \\\\\n",
    "9 & 0 & 0 & 0 & 0 & 0 & 0 \\\\\n",
    "0 & 9 & 0 & 0 & 0 & 0 & 0 \\\\\n",
    "\\vdots & \\vdots & \\ddots & \\vdots & \\vdots & \\vdots & \\vdots \\\\\n",
    "0 & 0 & 0 & 0 & 0 & 0 & 9 \\\\\n",
    "\\end{bmatrix}\n",
    "$$\n",
    "\n",
    "This example shows our two first persons, that have 14 and 9 years of education respectively.Why is the first row for each person only zeros?\n",
    "\n",
    "The matrix is constructed for you. Note how it can be done."
   ]
  },
  {
   "cell_type": "code",
   "execution_count": null,
   "metadata": {},
   "outputs": [],
   "source": [
    "# This dummy block has a 0 row, as we need to exclude one\n",
    "# year in order to not end up in the dummy trap.\n",
    "dummy_block = np.eye(T, k=-1)[:, :-1]\n",
    "\n",
    "# Expand thid dummy block to all persons\n",
    "dummy_matrix = np.tile(dummy_block, (N, 1))\n",
    "\n",
    "# We now create a n*t-1 matrix, with the person's education \n",
    "expanded_educ = np.transpose([x[:, 5]] * (T-1))\n",
    "\n",
    "# We can now multiply the year dummy with a person's education\n",
    "educ_dummies = dummy_matrix*expanded_educ\n",
    "\n",
    "# We can now demean the variables\n",
    "Q_T = demeaning_matrix(T)\n",
    "educ_demean = lm.perm(Q_T, educ_dummies)\n",
    "x_demean_dummies = np.hstack([x_demean, educ_demean])\n",
    "\n",
    "# Add the year dummies to the label\n",
    "label_x_interactions = label_x_fe + ['E81', 'E82', 'E83', 'E84', 'E85', 'E86', 'E87']"
   ]
  },
  {
   "cell_type": "code",
   "execution_count": null,
   "metadata": {},
   "outputs": [],
   "source": [
    "# Estimate model\n",
    "int_result = lm.estimate(y_demean, x_demean_dummies, transform='fe', N=N, T=T)\n",
    "\n",
    "# Print results\n",
    "lm.print_table((label_y, label_x_interactions), int_result, title='FE with year interactions', floatfmt='.4f')"
   ]
  },
  {
   "cell_type": "markdown",
   "metadata": {},
   "source": [
    "You should get a table that looks like this:\n",
    "\n",
    "FE with year interactions <br>\n",
    "Dependent variable: Log wage\n",
    "\n",
    "|                |    Beta |     Se |   t-values |\n",
    "|----------------|---------|--------|------------|\n",
    "| Experience     |  0.1705 | 0.0273 |     6.2462 |\n",
    "| Experience sqr | -0.0060 | 0.0009 |    -6.9581 |\n",
    "| Married        |  0.0475 | 0.0183 |     2.5925 |\n",
    "| Union          |  0.0794 | 0.0193 |     4.1138 |\n",
    "| E81            | -0.0010 | 0.0026 |    -0.4009 |\n",
    "| E82            | -0.0062 | 0.0041 |    -1.5224 |\n",
    "| E83            | -0.0114 | 0.0057 |    -2.0006 |\n",
    "| E84            | -0.0136 | 0.0072 |    -1.8787 |\n",
    "| E85            | -0.0162 | 0.0087 |    -1.8578 |\n",
    "| E86            | -0.0170 | 0.0101 |    -1.6804 |\n",
    "| E87            | -0.0167 | 0.0115 |    -1.4619 |\n",
    "R² = 0.181 <br>\n",
    "σ² = 0.123"
   ]
  },
  {
   "cell_type": "markdown",
   "metadata": {},
   "source": [
    "***Kode til at gøre julius glad :-)***"
   ]
  },
  {
   "cell_type": "code",
   "execution_count": null,
   "metadata": {},
   "outputs": [],
   "source": [
    "import statsmodels.api as sm\n",
    "import pandas as pd\n",
    "\n",
    "def fd_sequential_exogeneity_test(df, yvar, xvars, idvar, tvar, nlags=1):\n",
    "    \"\"\"\n",
    "    Tests sequential exogeneity for FD estimator:\n",
    "    Regress Δy on Δx and lags of Δx, check if lags are significant.\n",
    "    \n",
    "    df    : pandas DataFrame (panel data)\n",
    "    yvar  : dependent variable (string)\n",
    "    xvars : list of independent variables (list of strings)\n",
    "    idvar : unit identifier\n",
    "    tvar  : time identifier\n",
    "    nlags : number of lags of Δx to include\n",
    "    \"\"\"\n",
    "\n",
    "    # Sort data\n",
    "    df = df.sort_values([idvar, tvar])\n",
    "    \n",
    "    # First-differencing\n",
    "    df_fd = df.groupby(idvar).diff()\n",
    "    \n",
    "    results = {}\n",
    "    for x in xvars:\n",
    "        regressors = [df_fd[x]]\n",
    "        \n",
    "        # Add lags of Δx\n",
    "        for L in range(1, nlags+1):\n",
    "            df_fd[f'{x}_lag{L}'] = df_fd.groupby(idvar)[x].shift(L)\n",
    "            regressors.append(df_fd[f'{x}_lag{L}'])\n",
    "        \n",
    "        # Build regression\n",
    "        X = pd.concat(regressors, axis=1).dropna()\n",
    "        y = df_fd[yvar].loc[X.index]\n",
    "        \n",
    "        X = sm.add_constant(X)\n",
    "        model = sm.OLS(y, X).fit()\n",
    "        \n",
    "        results[x] = model.summary()\n",
    "    \n",
    "    return results\n"
   ]
  }
 ],
 "metadata": {
  "kernelspec": {
   "display_name": "base",
   "language": "python",
   "name": "python3"
  },
  "language_info": {
   "codemirror_mode": {
    "name": "ipython",
    "version": 3
   },
   "file_extension": ".py",
   "mimetype": "text/x-python",
   "name": "python",
   "nbconvert_exporter": "python",
   "pygments_lexer": "ipython3",
   "version": "3.11.7"
  }
 },
 "nbformat": 4,
 "nbformat_minor": 4
}
