{
 "cells": [
  {
   "cell_type": "markdown",
   "metadata": {},
   "source": [
    "# Problem set 2\n",
    "Before we start working on some exercises we will briefly introduce two concepts in Python. First, importing and exporting data. Second, using functions. If you are already familiar\n",
    "with these features, you can skip the next two sections and jump directly to the exercises."
   ]
  },
  {
   "cell_type": "markdown",
   "metadata": {},
   "source": [
    "First, import all necessary packages. We have made a .py file that we will use as a \"toolbox\". We will fill this toolbox with functions, that we will use as we progress through the course. Exactly how you structure this toolbox is up to you (if you i.e. want to turn it into a class)."
   ]
  },
  {
   "cell_type": "code",
   "execution_count": 1,
   "metadata": {},
   "outputs": [],
   "source": [
    "import numpy as np\n",
    "from numpy import linalg as la\n",
    "import pandas as pd\n",
    "from io import StringIO\n",
    "from tabulate import tabulate\n",
    "from matplotlib import pyplot as plt\n",
    "\n",
    "#Supress Future Warnings\n",
    "import warnings\n",
    "warnings.simplefilter(action='ignore', category=FutureWarning)\n",
    "\n",
    "# Import this weeks LinearModels .py file\n",
    "import w2_LinearModels_post as lm\n",
    "%load_ext autoreload\n",
    "%autoreload 2"
   ]
  },
  {
   "cell_type": "markdown",
   "metadata": {},
   "source": [
    "## Importing and exporting data in Python\n",
    "The easiest way to import data into an numpy array is using a .txt file. Normally we specify a path to the text file, but we will create a fake one to illustrate."
   ]
  },
  {
   "cell_type": "code",
   "execution_count": null,
   "metadata": {},
   "outputs": [],
   "source": []
  },
  {
   "cell_type": "markdown",
   "metadata": {},
   "source": [
    "Sadly, there is no direct way to load an excel sheet into numpy. The easiest solution is to use pandas as an intermediate."
   ]
  },
  {
   "cell_type": "code",
   "execution_count": null,
   "metadata": {},
   "outputs": [],
   "source": []
  },
  {
   "cell_type": "markdown",
   "metadata": {},
   "source": [
    "### Exporting Data\n",
    "To save a numpy array as a .txt file is easy:"
   ]
  },
  {
   "cell_type": "code",
   "execution_count": null,
   "metadata": {},
   "outputs": [],
   "source": []
  },
  {
   "cell_type": "markdown",
   "metadata": {},
   "source": [
    "*If one has large numpy arrays and wants to store them efficiently, they can be saved as a binary .npy files. Such files are not compatible with other programs.*"
   ]
  },
  {
   "cell_type": "markdown",
   "metadata": {},
   "source": [
    "## Exercises\n",
    "### Import data\n",
    "\n",
    "The exercise takes up the union membership example from before. The data set WAGEPAN.TXT contains information about 545 men who worked every year from 1980 to 1987 in the US. The variables of interest are\n",
    "\n",
    "\n",
    "| Variable | Content |\n",
    "|-|-|\n",
    "| nr | Variable that identifies the individual  |\n",
    "| year | Year of observation |\n",
    "| Black | Black |\n",
    "| Exper | Years since left school |\n",
    "| Hisp | Hispanic |\n",
    "| Married | Marital status |\n",
    "| Educ | Years of schooling |\n",
    "| Union | Union membership |\n",
    "| Lwage | Natural logarithm of hourly wages |\n",
    "| Expersq | Exper2 |\n",
    "\n",
    "Consider the following wage equation:\n",
    "\n",
    "$$\n",
    "\\begin{align}\n",
    "\\log\\left(wage_{it}\\right) & =\\beta_{0}+\\beta_{1}\\textit{exper}_{it}+\\beta_{2}\\textit{exper}_{it}^{2}+\\beta_{3}\\textit{union}_{it}+\\beta_{4}\\textit{married}_{i} +\\beta_{5}\\textit{educ}_{i}+\\beta_{6}\\textit{hisp}_{i}+\\beta_{7}\\textit{black}_{i}+c_{i}+u_{it} \\tag{1}\n",
    "\\end{align}\n",
    "$$\n",
    "\n",
    "Note that *educ*, *hisp*, and *black* are time-invariant variables."
   ]
  },
  {
   "cell_type": "markdown",
   "metadata": {},
   "source": [
    "The data has 10 columns. Named from 0 to 9. Here is a variable describtion:\n",
    "- Column 0: ID\n",
    "- Column 1: Year\n",
    "- Column 2: Black\n",
    "- Column 3: Experience\n",
    "- Column 4: Hispanic\n",
    "- Column 5: Married\n",
    "- Column 6: Education\n",
    "- Column 7: Union\n",
    "- Column 8: ln wage\n",
    "- Column 9: Experience sqr"
   ]
  },
  {
   "cell_type": "markdown",
   "metadata": {},
   "source": [
    "Start by loading the data. Some of this has been done for you already. Since we are working with panels, we need to know how many persons there are and how many time periods we observe them. Since we operate using a balanced panel, this makes our life a little easier."
   ]
  },
  {
   "cell_type": "code",
   "execution_count": 6,
   "metadata": {},
   "outputs": [],
   "source": [
    "# First, import the data into numpy. \n",
    "# Data should load the wagepan.txt file.\n",
    "data = pd.read_csv('firms.csv')\n",
    "id_array = np.array(data.iloc[:, 0])\n",
    "\n",
    "# Count how many persons we have. This returns a tuple with the unique IDs,\n",
    "# and the number of times each person is observed.\n",
    "unique_id = np.unique(id_array, return_counts=True)\n",
    "N = unique_id[0].size\n",
    "T = int(unique_id[1].mean())\n",
    "year = np.array(data.iloc[:, 1], dtype=int)"
   ]
  },
  {
   "cell_type": "code",
   "execution_count": 8,
   "metadata": {},
   "outputs": [],
   "source": [
    "# Load the rest of the data into arrays.\n",
    "# Load the rest of the data into arrays.\n",
    "y = data['lcap'].to_numpy().reshape(-1, 1)\n",
    "\n",
    "# x needs to have a constant vector in the first row. How would you add this? \n",
    "# Note that the order is set to match the order of variables in the model.\n",
    "x = np.column_stack([\n",
    "    np.ones(N * T),\n",
    "    data['lemp'].to_numpy(),\n",
    "    data['ldsa'].to_numpy()\n",
    "])\n",
    "\n",
    "# Lets also make some variable names\n",
    "label_y = 'Log capital'\n",
    "label_x = [\n",
    "    'Constant',\n",
    "    'Log employment',\n",
    "    'Log DSA'\n",
    "]\n"
   ]
  },
  {
   "cell_type": "markdown",
   "metadata": {},
   "source": [
    "## Pooled OLS (POLS) Estimator\n",
    "- **Estimate (1) by pooled OLS,** thus considering for the moment the unobserved components of (q) as one (composite) error term $v_{it}=c_{i}+u_{it}$. \n",
    "- Fill in the remaining parts of the function est_ols() in the accompanying python file (LinearModelsWeek2_ante.py) to estimate the model.\n",
    "- What assumptions are made about $E\\left[c_{i}\\mathbf{x}_{it}\\right]$ and $E\\left[u_{it}\\mathbf{x}_{it}\\right]$ when justifying this estimation approach? (Hint: See Wooldridge p. 283)"
   ]
  },
  {
   "cell_type": "code",
   "execution_count": 9,
   "metadata": {},
   "outputs": [
    {
     "name": "stdout",
     "output_type": "stream",
     "text": [
      "Constant        : -0.0000\n",
      "Log employment  :  0.4411\n",
      "Log DSA         :  0.5764\n"
     ]
    }
   ],
   "source": [
    "# Estimate coefficients\n",
    "b_hat = lm.est_ols(y,x)\n",
    "\n",
    "# Print the results\n",
    "for label, b_k in zip(label_x, b_hat):\n",
    "    print(f'{label:16}: {b_k[0]:7.4f}')"
   ]
  },
  {
   "cell_type": "markdown",
   "metadata": {},
   "source": [
    "Calculate the standard errors of the coefficients. This is very similar to previous week's exercise. (Hint: See Wooldridge p. 59-60)"
   ]
  },
  {
   "cell_type": "code",
   "execution_count": 10,
   "metadata": {},
   "outputs": [
    {
     "name": "stdout",
     "output_type": "stream",
     "text": [
      "Constant        : -0.0000    (0.0068)\n",
      "Log employment  :  0.4411    (0.0177)\n",
      "Log DSA         :  0.5764    (0.0170)\n"
     ]
    }
   ],
   "source": [
    "# Calculate the residuals\n",
    "resid = y - x @ b_hat\n",
    "\n",
    "# Calculate estimate of variance of residuals\n",
    "SSR = resid.T @ resid\n",
    "K = x.shape[1]\n",
    "sigma = SSR / (N*T - K)\n",
    "\n",
    "# Calculate the variance-covariance matrix\n",
    "cov = sigma * la.inv(x.T @ x)\n",
    "\n",
    "# Calculate the standard errors \n",
    "# Make sure to output the result in a vector\n",
    "se = np.sqrt(np.diag(cov)).reshape(-1,1)\n",
    "\n",
    "#Print results\n",
    "for label, b_k, se_k in zip(label_x, b_hat, se):\n",
    "    print(f'{label:16}: {b_k[0]:7.4f}    ({se_k[0]:6.4f})')"
   ]
  },
  {
   "cell_type": "markdown",
   "metadata": {},
   "source": [
    "Fill in the functions estimate() and variance() in the accompanying python file. You can reuse most of the code above.\n",
    "\n",
    "Using the function, print_table(), you should reproduce the table below."
   ]
  },
  {
   "cell_type": "code",
   "execution_count": 11,
   "metadata": {},
   "outputs": [
    {
     "name": "stdout",
     "output_type": "stream",
     "text": [
      "Pooled OLS\n",
      "Dependent variable: Log capital\n",
      "\n",
      "                   Beta      Se    t-values\n",
      "--------------  -------  ------  ----------\n",
      "Constant        -0.0000  0.0068     -0.0000\n",
      "Log employment   0.4411  0.0177     24.8605\n",
      "Log DSA          0.5764  0.0170     33.9237\n",
      "R² = 0.859\n",
      "σ² = 0.243\n"
     ]
    }
   ],
   "source": [
    "# Estimate model using OLS\n",
    "ols_result = lm.estimate(y,x, N=N, T=T)\n",
    "\n",
    "# Print table\n",
    "lm.print_table((label_y, label_x), ols_result, title=\"Pooled OLS\", floatfmt='.4f')"
   ]
  },
  {
   "cell_type": "markdown",
   "metadata": {},
   "source": [
    "Pooled OLS <br>\n",
    "Dependent variable: Log wage <br>\n",
    "\n",
    "|                |    Beta |     Se |   t-values |\n",
    "|----------------|---------|--------|------------|\n",
    "| Constant       | -0.0347 | 0.0646 |    -0.5375 |\n",
    "| Experience     |  0.0892 | 0.0101 |     8.8200 |\n",
    "| Experience sqr | -0.0028 | 0.0007 |    -4.0272 |\n",
    "| Union          |  0.1801 | 0.0171 |    10.5179 |\n",
    "| Married        |  0.1077 | 0.0157 |     6.8592 |\n",
    "| Education      |  0.0994 | 0.0047 |    21.2476 |\n",
    "| Hispanic       |  0.0157 | 0.0208 |     0.7543 |\n",
    "| Black          | -0.1438 | 0.0236 |    -6.1055 |\n",
    "R² = 0.187 <br>\n",
    "σ² = 0.231"
   ]
  },
  {
   "cell_type": "markdown",
   "metadata": {},
   "source": [
    "## Fixed Effects (FE) Estimator\n",
    "In the next step, we will estimate the model using fixed effects. This is done by first performing the fixed effects (within-groups) transformation on the data and then using pooled OLS on the transformed data.\n",
    "We will break this down into multiple steps.\n",
    "\n",
    "### Using numpy\n",
    "Create a transformation matrix with dimensions $T \\times T$ that can be used to transform the data. Note that the matrix will be premultiplied on the data for each individual, so the dimensions will match in the end."
   ]
  },
  {
   "cell_type": "code",
   "execution_count": 12,
   "metadata": {},
   "outputs": [
    {
     "name": "stdout",
     "output_type": "stream",
     "text": [
      "Demeaning matrix for T=12 \n",
      " [[ 0.91666667 -0.08333333 -0.08333333 -0.08333333 -0.08333333 -0.08333333\n",
      "  -0.08333333 -0.08333333 -0.08333333 -0.08333333 -0.08333333 -0.08333333]\n",
      " [-0.08333333  0.91666667 -0.08333333 -0.08333333 -0.08333333 -0.08333333\n",
      "  -0.08333333 -0.08333333 -0.08333333 -0.08333333 -0.08333333 -0.08333333]\n",
      " [-0.08333333 -0.08333333  0.91666667 -0.08333333 -0.08333333 -0.08333333\n",
      "  -0.08333333 -0.08333333 -0.08333333 -0.08333333 -0.08333333 -0.08333333]\n",
      " [-0.08333333 -0.08333333 -0.08333333  0.91666667 -0.08333333 -0.08333333\n",
      "  -0.08333333 -0.08333333 -0.08333333 -0.08333333 -0.08333333 -0.08333333]\n",
      " [-0.08333333 -0.08333333 -0.08333333 -0.08333333  0.91666667 -0.08333333\n",
      "  -0.08333333 -0.08333333 -0.08333333 -0.08333333 -0.08333333 -0.08333333]\n",
      " [-0.08333333 -0.08333333 -0.08333333 -0.08333333 -0.08333333  0.91666667\n",
      "  -0.08333333 -0.08333333 -0.08333333 -0.08333333 -0.08333333 -0.08333333]\n",
      " [-0.08333333 -0.08333333 -0.08333333 -0.08333333 -0.08333333 -0.08333333\n",
      "   0.91666667 -0.08333333 -0.08333333 -0.08333333 -0.08333333 -0.08333333]\n",
      " [-0.08333333 -0.08333333 -0.08333333 -0.08333333 -0.08333333 -0.08333333\n",
      "  -0.08333333  0.91666667 -0.08333333 -0.08333333 -0.08333333 -0.08333333]\n",
      " [-0.08333333 -0.08333333 -0.08333333 -0.08333333 -0.08333333 -0.08333333\n",
      "  -0.08333333 -0.08333333  0.91666667 -0.08333333 -0.08333333 -0.08333333]\n",
      " [-0.08333333 -0.08333333 -0.08333333 -0.08333333 -0.08333333 -0.08333333\n",
      "  -0.08333333 -0.08333333 -0.08333333  0.91666667 -0.08333333 -0.08333333]\n",
      " [-0.08333333 -0.08333333 -0.08333333 -0.08333333 -0.08333333 -0.08333333\n",
      "  -0.08333333 -0.08333333 -0.08333333 -0.08333333  0.91666667 -0.08333333]\n",
      " [-0.08333333 -0.08333333 -0.08333333 -0.08333333 -0.08333333 -0.08333333\n",
      "  -0.08333333 -0.08333333 -0.08333333 -0.08333333 -0.08333333  0.91666667]]\n"
     ]
    }
   ],
   "source": [
    "# Create transformation matrix\n",
    "def demeaning_matrix(T):\n",
    "    Q_T = np.eye(T) - np.tile(1/T, (T, T))\n",
    "    return Q_T\n",
    "\n",
    "# Print the matrix\n",
    "Q_T = demeaning_matrix(T)\n",
    "print(f'Demeaning matrix for T={T} \\n', Q_T)"
   ]
  },
  {
   "cell_type": "markdown",
   "metadata": {},
   "source": [
    "Use the supplied perm() function to apply the transformation to the data."
   ]
  },
  {
   "cell_type": "code",
   "execution_count": 13,
   "metadata": {},
   "outputs": [
    {
     "name": "stdout",
     "output_type": "stream",
     "text": [
      "[[-8.32667268e-17  4.20760833e-02  6.80171583e-02]\n",
      " [-8.32667268e-17  4.29830833e-02  3.14564583e-02]\n",
      " [ 2.77555756e-17  1.91270833e-02  6.65300583e-02]\n",
      " ...\n",
      " [-2.77555756e-17  4.72184000e-01  7.40543075e-01]\n",
      " [-6.93889390e-17  5.20855000e-01  6.90639175e-01]\n",
      " [-1.11022302e-16  5.77638000e-01  5.71220175e-01]]\n"
     ]
    }
   ],
   "source": [
    "# Transform the data\n",
    "y_demean = lm.perm(Q_T, y)\n",
    "x_demean = lm.perm(Q_T, x)\n",
    "\n",
    "#print x_demean\n",
    "print(x_demean)"
   ]
  },
  {
   "cell_type": "markdown",
   "metadata": {},
   "source": [
    "What is the rank and eigenvalues of the within transformed $\\mathbf{X}$ matrix? Why?\n",
    "\n",
    "What happens to *educ, hisp, and black* and the constant when the data are within transformed? "
   ]
  },
  {
   "cell_type": "code",
   "execution_count": 14,
   "metadata": {},
   "outputs": [
    {
     "name": "stdout",
     "output_type": "stream",
     "text": [
      "Rank of demeaned x: 2\n",
      "Eigenvalues of within-transformed x: [  0.  44. 237.]\n",
      "[[ 1.         -0.          0.        ]\n",
      " [ 0.          0.78215475 -0.62308422]\n",
      " [ 0.         -0.62308422 -0.78215475]]\n"
     ]
    }
   ],
   "source": [
    "# Create function to check rank of demeaned matrix, and return its eigenvalues.\n",
    "def check_rank(x):\n",
    "    print(f'Rank of demeaned x: {la.matrix_rank(x)}')\n",
    "    lambdas, V = la.eig(x.T@x)\n",
    "    np.set_printoptions(suppress=True)  # This is just to print nicely.\n",
    "    print(f'Eigenvalues of within-transformed x: {lambdas.round(decimals=0)}')\n",
    "    print(V)\n",
    "    # Use eigen vectors to identify which variables are dropped.\n",
    "\n",
    "# Check rank of demeaned x\n",
    "check_rank(x_demean)"
   ]
  },
  {
   "cell_type": "markdown",
   "metadata": {},
   "source": [
    "Adjust `x_demean` such that the model can be estimated using the FE estimator. Adjust the labels to match with `x_demean`.\n",
    "\n",
    "Estimate the model using the estimate() function, and print the results."
   ]
  },
  {
   "cell_type": "code",
   "execution_count": 15,
   "metadata": {},
   "outputs": [],
   "source": [
    "# Choose variables to include in fixed effects model\n",
    "x_demean = x_demean[:, 1:5]\n",
    "label_x_fe = label_x[1:5]"
   ]
  },
  {
   "cell_type": "code",
   "execution_count": 16,
   "metadata": {},
   "outputs": [
    {
     "name": "stdout",
     "output_type": "stream",
     "text": [
      "FE regression\n",
      "Dependent variable: Log capital\n",
      "\n",
      "                  Beta      Se    t-values\n",
      "--------------  ------  ------  ----------\n",
      "Log employment  0.4934  0.0181     27.3286\n",
      "Log DSA         0.1845  0.0155     11.9311\n",
      "R² = 0.338\n",
      "σ² = 0.021\n"
     ]
    }
   ],
   "source": [
    "# Estimate FE OLS using the demeaned variables.\n",
    "fe_result = lm.estimate(y_demean, x_demean, transform='fe', N=N, T=T)\n",
    "\n",
    "# Print results\n",
    "lm.print_table((label_y, label_x_fe), fe_result, title='FE regression', floatfmt='.4f')"
   ]
  },
  {
   "cell_type": "markdown",
   "metadata": {},
   "source": [
    "You should get a table that looks like this:\n",
    "\n",
    "FE regression<br>\n",
    "Dependent variable: Log wage\n",
    "\n",
    "|                |    Beta |     Se |   t-values |\n",
    "|----------------|---------|--------|------------|\n",
    "| Experience     |  0.1168 | 0.0084 |    13.8778 |\n",
    "| Experience sqr | -0.0043 | 0.0006 |    -7.1057 |\n",
    "| Union          |  0.0821 | 0.0193 |     4.2553 |\n",
    "| Married        |  0.0453 | 0.0183 |     2.4743 |\n",
    "R² = 0.178 <br>\n",
    "σ² = 0.123"
   ]
  },
  {
   "cell_type": "markdown",
   "metadata": {},
   "source": [
    "**NB:** Did you use the right standard errors? If not, implement the correct standard errors in the variance() function, and try again. (Hint: see Wooldridge p.306)\n",
    "\n",
    "How big is the union premium according to the estimate from the FE model? Compare this with the estimate that you calculated from the pooled OLS regression. What does this suggest about $E\\left[union_{it}c_{i}\\right]$?"
   ]
  },
  {
   "cell_type": "markdown",
   "metadata": {},
   "source": [
    "### Using pandas\n",
    "An alternative to the perm function is to use panda dataframes to group the data. This has been done for the *entire* dataset below."
   ]
  },
  {
   "cell_type": "code",
   "execution_count": 17,
   "metadata": {},
   "outputs": [
    {
     "ename": "FileNotFoundError",
     "evalue": "[Errno 2] No such file or directory: 'wagepan.txt'",
     "output_type": "error",
     "traceback": [
      "\u001b[0;31m---------------------------------------------------------------------------\u001b[0m",
      "\u001b[0;31mFileNotFoundError\u001b[0m                         Traceback (most recent call last)",
      "Cell \u001b[0;32mIn[17], line 2\u001b[0m\n\u001b[1;32m      1\u001b[0m \u001b[38;5;66;03m# load the data using pandas\u001b[39;00m\n\u001b[0;32m----> 2\u001b[0m pddat \u001b[38;5;241m=\u001b[39m pd\u001b[38;5;241m.\u001b[39mread_csv(\u001b[38;5;124m'\u001b[39m\u001b[38;5;124mwagepan.txt\u001b[39m\u001b[38;5;124m'\u001b[39m, delimiter\u001b[38;5;241m=\u001b[39m\u001b[38;5;124m\"\u001b[39m\u001b[38;5;124m,\u001b[39m\u001b[38;5;124m\"\u001b[39m, header\u001b[38;5;241m=\u001b[39m\u001b[38;5;28;01mNone\u001b[39;00m)\n\u001b[1;32m      3\u001b[0m pddat\u001b[38;5;241m.\u001b[39mcolumns \u001b[38;5;241m=\u001b[39m [\u001b[38;5;124m\"\u001b[39m\u001b[38;5;124mID\u001b[39m\u001b[38;5;124m\"\u001b[39m, \u001b[38;5;124m\"\u001b[39m\u001b[38;5;124myear\u001b[39m\u001b[38;5;124m\"\u001b[39m, \u001b[38;5;124m\"\u001b[39m\u001b[38;5;124mblack\u001b[39m\u001b[38;5;124m\"\u001b[39m, \u001b[38;5;124m\"\u001b[39m\u001b[38;5;124mexp\u001b[39m\u001b[38;5;124m\"\u001b[39m, \u001b[38;5;124m\"\u001b[39m\u001b[38;5;124mhisp\u001b[39m\u001b[38;5;124m\"\u001b[39m, \u001b[38;5;124m\"\u001b[39m\u001b[38;5;124mmar\u001b[39m\u001b[38;5;124m\"\u001b[39m, \u001b[38;5;124m\"\u001b[39m\u001b[38;5;124meduc\u001b[39m\u001b[38;5;124m\"\u001b[39m, \u001b[38;5;124m\"\u001b[39m\u001b[38;5;124munion\u001b[39m\u001b[38;5;124m\"\u001b[39m, \u001b[38;5;124m\"\u001b[39m\u001b[38;5;124mlogwage\u001b[39m\u001b[38;5;124m\"\u001b[39m, \u001b[38;5;124m\"\u001b[39m\u001b[38;5;124mexpsq\u001b[39m\u001b[38;5;124m\"\u001b[39m]\n\u001b[1;32m      5\u001b[0m \u001b[38;5;66;03m# Rearrange the data\u001b[39;00m\n",
      "File \u001b[0;32m~/anaconda3/lib/python3.11/site-packages/pandas/io/parsers/readers.py:948\u001b[0m, in \u001b[0;36mread_csv\u001b[0;34m(filepath_or_buffer, sep, delimiter, header, names, index_col, usecols, dtype, engine, converters, true_values, false_values, skipinitialspace, skiprows, skipfooter, nrows, na_values, keep_default_na, na_filter, verbose, skip_blank_lines, parse_dates, infer_datetime_format, keep_date_col, date_parser, date_format, dayfirst, cache_dates, iterator, chunksize, compression, thousands, decimal, lineterminator, quotechar, quoting, doublequote, escapechar, comment, encoding, encoding_errors, dialect, on_bad_lines, delim_whitespace, low_memory, memory_map, float_precision, storage_options, dtype_backend)\u001b[0m\n\u001b[1;32m    935\u001b[0m kwds_defaults \u001b[38;5;241m=\u001b[39m _refine_defaults_read(\n\u001b[1;32m    936\u001b[0m     dialect,\n\u001b[1;32m    937\u001b[0m     delimiter,\n\u001b[0;32m   (...)\u001b[0m\n\u001b[1;32m    944\u001b[0m     dtype_backend\u001b[38;5;241m=\u001b[39mdtype_backend,\n\u001b[1;32m    945\u001b[0m )\n\u001b[1;32m    946\u001b[0m kwds\u001b[38;5;241m.\u001b[39mupdate(kwds_defaults)\n\u001b[0;32m--> 948\u001b[0m \u001b[38;5;28;01mreturn\u001b[39;00m _read(filepath_or_buffer, kwds)\n",
      "File \u001b[0;32m~/anaconda3/lib/python3.11/site-packages/pandas/io/parsers/readers.py:611\u001b[0m, in \u001b[0;36m_read\u001b[0;34m(filepath_or_buffer, kwds)\u001b[0m\n\u001b[1;32m    608\u001b[0m _validate_names(kwds\u001b[38;5;241m.\u001b[39mget(\u001b[38;5;124m\"\u001b[39m\u001b[38;5;124mnames\u001b[39m\u001b[38;5;124m\"\u001b[39m, \u001b[38;5;28;01mNone\u001b[39;00m))\n\u001b[1;32m    610\u001b[0m \u001b[38;5;66;03m# Create the parser.\u001b[39;00m\n\u001b[0;32m--> 611\u001b[0m parser \u001b[38;5;241m=\u001b[39m TextFileReader(filepath_or_buffer, \u001b[38;5;241m*\u001b[39m\u001b[38;5;241m*\u001b[39mkwds)\n\u001b[1;32m    613\u001b[0m \u001b[38;5;28;01mif\u001b[39;00m chunksize \u001b[38;5;129;01mor\u001b[39;00m iterator:\n\u001b[1;32m    614\u001b[0m     \u001b[38;5;28;01mreturn\u001b[39;00m parser\n",
      "File \u001b[0;32m~/anaconda3/lib/python3.11/site-packages/pandas/io/parsers/readers.py:1448\u001b[0m, in \u001b[0;36mTextFileReader.__init__\u001b[0;34m(self, f, engine, **kwds)\u001b[0m\n\u001b[1;32m   1445\u001b[0m     \u001b[38;5;28mself\u001b[39m\u001b[38;5;241m.\u001b[39moptions[\u001b[38;5;124m\"\u001b[39m\u001b[38;5;124mhas_index_names\u001b[39m\u001b[38;5;124m\"\u001b[39m] \u001b[38;5;241m=\u001b[39m kwds[\u001b[38;5;124m\"\u001b[39m\u001b[38;5;124mhas_index_names\u001b[39m\u001b[38;5;124m\"\u001b[39m]\n\u001b[1;32m   1447\u001b[0m \u001b[38;5;28mself\u001b[39m\u001b[38;5;241m.\u001b[39mhandles: IOHandles \u001b[38;5;241m|\u001b[39m \u001b[38;5;28;01mNone\u001b[39;00m \u001b[38;5;241m=\u001b[39m \u001b[38;5;28;01mNone\u001b[39;00m\n\u001b[0;32m-> 1448\u001b[0m \u001b[38;5;28mself\u001b[39m\u001b[38;5;241m.\u001b[39m_engine \u001b[38;5;241m=\u001b[39m \u001b[38;5;28mself\u001b[39m\u001b[38;5;241m.\u001b[39m_make_engine(f, \u001b[38;5;28mself\u001b[39m\u001b[38;5;241m.\u001b[39mengine)\n",
      "File \u001b[0;32m~/anaconda3/lib/python3.11/site-packages/pandas/io/parsers/readers.py:1705\u001b[0m, in \u001b[0;36mTextFileReader._make_engine\u001b[0;34m(self, f, engine)\u001b[0m\n\u001b[1;32m   1703\u001b[0m     \u001b[38;5;28;01mif\u001b[39;00m \u001b[38;5;124m\"\u001b[39m\u001b[38;5;124mb\u001b[39m\u001b[38;5;124m\"\u001b[39m \u001b[38;5;129;01mnot\u001b[39;00m \u001b[38;5;129;01min\u001b[39;00m mode:\n\u001b[1;32m   1704\u001b[0m         mode \u001b[38;5;241m+\u001b[39m\u001b[38;5;241m=\u001b[39m \u001b[38;5;124m\"\u001b[39m\u001b[38;5;124mb\u001b[39m\u001b[38;5;124m\"\u001b[39m\n\u001b[0;32m-> 1705\u001b[0m \u001b[38;5;28mself\u001b[39m\u001b[38;5;241m.\u001b[39mhandles \u001b[38;5;241m=\u001b[39m get_handle(\n\u001b[1;32m   1706\u001b[0m     f,\n\u001b[1;32m   1707\u001b[0m     mode,\n\u001b[1;32m   1708\u001b[0m     encoding\u001b[38;5;241m=\u001b[39m\u001b[38;5;28mself\u001b[39m\u001b[38;5;241m.\u001b[39moptions\u001b[38;5;241m.\u001b[39mget(\u001b[38;5;124m\"\u001b[39m\u001b[38;5;124mencoding\u001b[39m\u001b[38;5;124m\"\u001b[39m, \u001b[38;5;28;01mNone\u001b[39;00m),\n\u001b[1;32m   1709\u001b[0m     compression\u001b[38;5;241m=\u001b[39m\u001b[38;5;28mself\u001b[39m\u001b[38;5;241m.\u001b[39moptions\u001b[38;5;241m.\u001b[39mget(\u001b[38;5;124m\"\u001b[39m\u001b[38;5;124mcompression\u001b[39m\u001b[38;5;124m\"\u001b[39m, \u001b[38;5;28;01mNone\u001b[39;00m),\n\u001b[1;32m   1710\u001b[0m     memory_map\u001b[38;5;241m=\u001b[39m\u001b[38;5;28mself\u001b[39m\u001b[38;5;241m.\u001b[39moptions\u001b[38;5;241m.\u001b[39mget(\u001b[38;5;124m\"\u001b[39m\u001b[38;5;124mmemory_map\u001b[39m\u001b[38;5;124m\"\u001b[39m, \u001b[38;5;28;01mFalse\u001b[39;00m),\n\u001b[1;32m   1711\u001b[0m     is_text\u001b[38;5;241m=\u001b[39mis_text,\n\u001b[1;32m   1712\u001b[0m     errors\u001b[38;5;241m=\u001b[39m\u001b[38;5;28mself\u001b[39m\u001b[38;5;241m.\u001b[39moptions\u001b[38;5;241m.\u001b[39mget(\u001b[38;5;124m\"\u001b[39m\u001b[38;5;124mencoding_errors\u001b[39m\u001b[38;5;124m\"\u001b[39m, \u001b[38;5;124m\"\u001b[39m\u001b[38;5;124mstrict\u001b[39m\u001b[38;5;124m\"\u001b[39m),\n\u001b[1;32m   1713\u001b[0m     storage_options\u001b[38;5;241m=\u001b[39m\u001b[38;5;28mself\u001b[39m\u001b[38;5;241m.\u001b[39moptions\u001b[38;5;241m.\u001b[39mget(\u001b[38;5;124m\"\u001b[39m\u001b[38;5;124mstorage_options\u001b[39m\u001b[38;5;124m\"\u001b[39m, \u001b[38;5;28;01mNone\u001b[39;00m),\n\u001b[1;32m   1714\u001b[0m )\n\u001b[1;32m   1715\u001b[0m \u001b[38;5;28;01massert\u001b[39;00m \u001b[38;5;28mself\u001b[39m\u001b[38;5;241m.\u001b[39mhandles \u001b[38;5;129;01mis\u001b[39;00m \u001b[38;5;129;01mnot\u001b[39;00m \u001b[38;5;28;01mNone\u001b[39;00m\n\u001b[1;32m   1716\u001b[0m f \u001b[38;5;241m=\u001b[39m \u001b[38;5;28mself\u001b[39m\u001b[38;5;241m.\u001b[39mhandles\u001b[38;5;241m.\u001b[39mhandle\n",
      "File \u001b[0;32m~/anaconda3/lib/python3.11/site-packages/pandas/io/common.py:863\u001b[0m, in \u001b[0;36mget_handle\u001b[0;34m(path_or_buf, mode, encoding, compression, memory_map, is_text, errors, storage_options)\u001b[0m\n\u001b[1;32m    858\u001b[0m \u001b[38;5;28;01melif\u001b[39;00m \u001b[38;5;28misinstance\u001b[39m(handle, \u001b[38;5;28mstr\u001b[39m):\n\u001b[1;32m    859\u001b[0m     \u001b[38;5;66;03m# Check whether the filename is to be opened in binary mode.\u001b[39;00m\n\u001b[1;32m    860\u001b[0m     \u001b[38;5;66;03m# Binary mode does not support 'encoding' and 'newline'.\u001b[39;00m\n\u001b[1;32m    861\u001b[0m     \u001b[38;5;28;01mif\u001b[39;00m ioargs\u001b[38;5;241m.\u001b[39mencoding \u001b[38;5;129;01mand\u001b[39;00m \u001b[38;5;124m\"\u001b[39m\u001b[38;5;124mb\u001b[39m\u001b[38;5;124m\"\u001b[39m \u001b[38;5;129;01mnot\u001b[39;00m \u001b[38;5;129;01min\u001b[39;00m ioargs\u001b[38;5;241m.\u001b[39mmode:\n\u001b[1;32m    862\u001b[0m         \u001b[38;5;66;03m# Encoding\u001b[39;00m\n\u001b[0;32m--> 863\u001b[0m         handle \u001b[38;5;241m=\u001b[39m \u001b[38;5;28mopen\u001b[39m(\n\u001b[1;32m    864\u001b[0m             handle,\n\u001b[1;32m    865\u001b[0m             ioargs\u001b[38;5;241m.\u001b[39mmode,\n\u001b[1;32m    866\u001b[0m             encoding\u001b[38;5;241m=\u001b[39mioargs\u001b[38;5;241m.\u001b[39mencoding,\n\u001b[1;32m    867\u001b[0m             errors\u001b[38;5;241m=\u001b[39merrors,\n\u001b[1;32m    868\u001b[0m             newline\u001b[38;5;241m=\u001b[39m\u001b[38;5;124m\"\u001b[39m\u001b[38;5;124m\"\u001b[39m,\n\u001b[1;32m    869\u001b[0m         )\n\u001b[1;32m    870\u001b[0m     \u001b[38;5;28;01melse\u001b[39;00m:\n\u001b[1;32m    871\u001b[0m         \u001b[38;5;66;03m# Binary mode\u001b[39;00m\n\u001b[1;32m    872\u001b[0m         handle \u001b[38;5;241m=\u001b[39m \u001b[38;5;28mopen\u001b[39m(handle, ioargs\u001b[38;5;241m.\u001b[39mmode)\n",
      "\u001b[0;31mFileNotFoundError\u001b[0m: [Errno 2] No such file or directory: 'wagepan.txt'"
     ]
    }
   ],
   "source": [
    "# load the data using pandas\n",
    "pddat = pd.read_csv('wagepan.txt', delimiter=\",\", header=None)\n",
    "pddat.columns = [\"ID\", \"year\", \"black\", \"exp\", \"hisp\", \"mar\", \"educ\", \"union\", \"logwage\", \"expsq\"]\n",
    "\n",
    "# Rearrange the data\n",
    "desired_order = [\"ID\", \"year\", \"logwage\", \"exp\", \"expsq\", \"union\", \"mar\", \"educ\", \"hisp\", \"black\"]\n",
    "pddat = pddat[desired_order] # reorder columns\n",
    "\n",
    "# Sort the data (it's important to ensure years are sorted correctly when transforming the data)\n",
    "pddat = pddat.sort_values([\"ID\", \"year\"])"
   ]
  },
  {
   "cell_type": "code",
   "execution_count": null,
   "metadata": {},
   "outputs": [],
   "source": [
    "# demean data\n",
    "pddat_demean = pddat - pddat.groupby(\"ID\").transform('mean')\n",
    "\n",
    "# reorder columns\n",
    "# The order changes back to the original order after the transformation, due to the way pandas works.\n",
    "pddat_demean = pddat_demean[desired_order] \n",
    "\n",
    "# turn into numpy array\n",
    "datdemean = pddat_demean.to_numpy()"
   ]
  },
  {
   "cell_type": "markdown",
   "metadata": {},
   "source": [
    "Look at the data. Select the variables that you need to estimate the model using FE. Estimate the model. Did you get the same results?"
   ]
  },
  {
   "cell_type": "code",
   "execution_count": null,
   "metadata": {},
   "outputs": [],
   "source": [
    "# Look at data\n",
    "pddat_demean"
   ]
  },
  {
   "cell_type": "code",
   "execution_count": null,
   "metadata": {},
   "outputs": [],
   "source": [
    "#Select variables\n",
    "# Turn the data into numpy arrays\n",
    "y_dot = pddat_demean['logwage'].to_numpy().reshape(-1,1)\n",
    "x_dot = pddat_demean[['exp','expsq','union','mar']].to_numpy()"
   ]
  },
  {
   "cell_type": "code",
   "execution_count": null,
   "metadata": {},
   "outputs": [],
   "source": [
    "# Estimate using the demeaned variables, y_dot and x_dot\n",
    "fe_result = lm.estimate(y_dot, x_dot, transform='fe', N=N, T=T)\n",
    "\n",
    "# Print results\n",
    "lm.print_table((label_y, label_x_fe), fe_result, title='FE regression', floatfmt='.4f')"
   ]
  },
  {
   "cell_type": "markdown",
   "metadata": {},
   "source": [
    "## First-difference (FD) Estimator\n",
    "Construct $\\mathbf{D}$ and use the procedure `perm` $(\\mathbf{D},\\mathbf{x})$ to compute first differences of the elements of $\\mathbf{y}$ and $\\mathbf{x}$. $\\mathbf{D}$ should be a $(T-1) \\times T$ matrix. Why?\n",
    "\n",
    "What happens to *educ, hisp* and *black* and the constant when the data are transformed into first differences? What is the rank of the first differenced $\\mathbf{x}$-matrix? Why?"
   ]
  },
  {
   "cell_type": "code",
   "execution_count": 18,
   "metadata": {},
   "outputs": [
    {
     "name": "stdout",
     "output_type": "stream",
     "text": [
      "First differening matrix for T=12 \n",
      " [[-1.  1.  0.  0.  0.  0.  0.  0.  0.  0.  0.  0.]\n",
      " [ 0. -1.  1.  0.  0.  0.  0.  0.  0.  0.  0.  0.]\n",
      " [ 0.  0. -1.  1.  0.  0.  0.  0.  0.  0.  0.  0.]\n",
      " [ 0.  0.  0. -1.  1.  0.  0.  0.  0.  0.  0.  0.]\n",
      " [ 0.  0.  0.  0. -1.  1.  0.  0.  0.  0.  0.  0.]\n",
      " [ 0.  0.  0.  0.  0. -1.  1.  0.  0.  0.  0.  0.]\n",
      " [ 0.  0.  0.  0.  0.  0. -1.  1.  0.  0.  0.  0.]\n",
      " [ 0.  0.  0.  0.  0.  0.  0. -1.  1.  0.  0.  0.]\n",
      " [ 0.  0.  0.  0.  0.  0.  0.  0. -1.  1.  0.  0.]\n",
      " [ 0.  0.  0.  0.  0.  0.  0.  0.  0. -1.  1.  0.]\n",
      " [ 0.  0.  0.  0.  0.  0.  0.  0.  0.  0. -1.  1.]]\n"
     ]
    }
   ],
   "source": [
    "# Create transformation matrix\n",
    "def fd_matrix(T):\n",
    "    D_T = np.eye(T) - np.eye(T, k=-1)\n",
    "    D_T = D_T[1:]\n",
    "    return D_T\n",
    "\n",
    "# Print the matrix\n",
    "D_T = fd_matrix(T)\n",
    "print(f'First differening matrix for T={T} \\n', D_T)"
   ]
  },
  {
   "cell_type": "code",
   "execution_count": 19,
   "metadata": {},
   "outputs": [
    {
     "name": "stdout",
     "output_type": "stream",
     "text": [
      "[[ 0.         0.000907  -0.0365607]\n",
      " [ 0.        -0.023856   0.0350736]\n",
      " [ 0.        -0.052741  -0.112822 ]\n",
      " ...\n",
      " [ 0.         0.102943   0.2348499]\n",
      " [ 0.         0.048671  -0.0499039]\n",
      " [ 0.         0.056783  -0.119419 ]]\n"
     ]
    }
   ],
   "source": [
    "# Transform the data.\n",
    "y_diff = lm.perm(D_T, y)\n",
    "x_diff = lm.perm(D_T, x)\n",
    "\n",
    "# Print x_diff\n",
    "print(x_diff)"
   ]
  },
  {
   "cell_type": "code",
   "execution_count": 20,
   "metadata": {},
   "outputs": [
    {
     "name": "stdout",
     "output_type": "stream",
     "text": [
      "Rank of demeaned x: 2\n",
      "Eigenvalues of within-transformed x: [93. 31.  0.]\n",
      "[[ 0.          0.          1.        ]\n",
      " [ 0.42938025  0.9031238   0.        ]\n",
      " [ 0.9031238  -0.42938025  0.        ]]\n"
     ]
    }
   ],
   "source": [
    "# Check rank condition.\n",
    "check_rank(x_diff)"
   ]
  },
  {
   "cell_type": "markdown",
   "metadata": {},
   "source": [
    "Adjust `x_diff` such that the model can be estimated using the FD estimator. Adjust the labels to match with `x_diff`.\n",
    "\n",
    "Estimate the model using the estimate() function, and print the results."
   ]
  },
  {
   "cell_type": "code",
   "execution_count": 21,
   "metadata": {},
   "outputs": [],
   "source": [
    "# Choose variables to include in fixed effects model\n",
    "x_diff = x_diff[:, 1:5]\n",
    "label_x_fd = label_x[1:5]"
   ]
  },
  {
   "cell_type": "code",
   "execution_count": 22,
   "metadata": {},
   "outputs": [
    {
     "name": "stdout",
     "output_type": "stream",
     "text": [
      "FD regression\n",
      "Dependent variable: Log capital\n",
      "\n",
      "                  Beta      Se    t-values\n",
      "--------------  ------  ------  ----------\n",
      "Log employment  0.1167  0.0149      7.8236\n",
      "Log DSA         0.0357  0.0108      3.3043\n",
      "R² = 0.022\n",
      "σ² = 0.008\n"
     ]
    }
   ],
   "source": [
    "# Estimate FE OLS using the demeaned variables.\n",
    "fd_result = lm.estimate(y_diff, x_diff, transform='fd', N=N, T=T-1)\n",
    "\n",
    "# Print results\n",
    "lm.print_table((label_y, label_x_fd), fd_result, title='FD regression', floatfmt='.4f')"
   ]
  },
  {
   "cell_type": "markdown",
   "metadata": {},
   "source": [
    "You should get a table that looks like this:\n",
    "\n",
    "FD regression <br>\n",
    "Dependent variable: Log wage\n",
    "\n",
    "|                |    Beta |     Se |   t-values |\n",
    "|----------------|---------|--------|------------|\n",
    "| Experience     |  0.1158 | 0.0196 |     5.9096 |\n",
    "| Experience sqr | -0.0039 | 0.0014 |    -2.8005 |\n",
    "| Union          |  0.0428 | 0.0197 |     2.1767 |\n",
    "| Married        |  0.0381 | 0.0229 |     1.6633 |\n",
    "R² = 0.004 <br>\n",
    "σ² = 0.196\n",
    "\n",
    "**NB:** Did you use the right standard errors? Did you use the right number of time periods in the estimate() function?\n",
    "\n",
    "How big is the union premium according to the estimate from this model? Compare the FD estimate with the estimate that you calculated from the FE regression. Is there a difference? If yes, what (if anything) can we conclude based on this finding?"
   ]
  },
  {
   "cell_type": "markdown",
   "metadata": {},
   "source": [
    "### Using pandas"
   ]
  },
  {
   "cell_type": "code",
   "execution_count": null,
   "metadata": {},
   "outputs": [],
   "source": [
    "# first difference the data\n",
    "pddat_diff = pddat.groupby(\"ID\").diff().dropna() # groupby ID and take difference\n",
    "pddat_diff = pddat_diff[desired_order[1:]] # reorder columns\n",
    "datdiff = pddat_diff.to_numpy() # turn into numpy array\n",
    "\n",
    "# Look at data\n",
    "pddat_diff"
   ]
  },
  {
   "cell_type": "code",
   "execution_count": null,
   "metadata": {},
   "outputs": [],
   "source": [
    "# Select variables\n",
    "y_delta = pddat_diff['logwage'].to_numpy().reshape(-1,1)\n",
    "x_delta = pddat_diff[['exp','expsq','union','mar']].to_numpy()"
   ]
  },
  {
   "cell_type": "code",
   "execution_count": null,
   "metadata": {},
   "outputs": [],
   "source": [
    "# Estimate using the first differenced variables, y_delta and x_delta. \n",
    "fd_result = lm.estimate(y_delta, x_delta, transform='fd', N=N, T=T-1)\n",
    "\n",
    "#print results\n",
    "lm.print_table((label_y, label_x[1:5]), fd_result, title=\"First Differences\", floatfmt='.4f')"
   ]
  },
  {
   "cell_type": "markdown",
   "metadata": {},
   "source": [
    "## Tests\n",
    "### Test for serial correlation in the errors using an auxilliary AR(1) model\n",
    "Tests assumption FD.3, where the errors $e_{it} = \\Delta u_{it}$ should be serially uncorrelated.\n",
    "\n",
    "We can easily test this assumption given the OLS residuals from the FD version of equation (1). Run the regression (note that you will lose data for\n",
    "the first *two* periods)\n",
    "\\begin{equation}\n",
    "\\hat{e}_{it}=\\rho\\hat{e}_{it-1}+error_{it},\\quad t=\\color{red}{3},\\dotsc,T,\\quad i=1,\\dotsc,N\\tag{2}\n",
    "\\end{equation}\n",
    "\n",
    "Do you find any evidence of serial correlation? Does FD.3 seem appropriate? And why don't we include an intercept in this auxilliary equation?"
   ]
  },
  {
   "cell_type": "markdown",
   "metadata": {},
   "source": [
    "*Note:* Under FE.3, the idiosyncratic errors $u_{it}$\n",
    "are uncorrelated. However, FE.3 implies that the $e_{it}$'s are autocorrelated. In fact, of the $u_{it}$'s are serially uncorrelated to begin with, corr $\\left(e_{it},e_{it-1}\\right)=-0.5$. (Check!) This test is of course only valid if the explanatory variables are strictly exogenous!\n",
    "\n",
    "*Hint:* You can use the `perm` function to lag\n",
    "the error term variable. Consider the following; \n",
    "\n",
    "$$\n",
    "{\\begin{bmatrix}\n",
    "1 & 0 & 0 & \\cdots & 0 & 0\\\\\n",
    "0 & 1 & 0 & \\cdots & 0 & 0\\\\\n",
    "\\vdots & \\vdots & \\vdots & \\ddots & \\vdots & \\vdots\\\\\n",
    "0 & 0 & 0 & \\cdots & 1 & 0\n",
    "\\end{bmatrix}}_{T-1\\times T}\\times{\\begin{bmatrix}y_{1}\\\\\n",
    "y_{2}\\\\\n",
    "\\vdots\\\\\n",
    "y_{T}\n",
    "\\end{bmatrix}}_{T \\times 1}={\\begin{bmatrix}y_{1}\\\\\n",
    "y_{2}\\\\\n",
    "\\vdots\\\\\n",
    "y_{T - 1}\n",
    "\\end{bmatrix}}_{T - 1\\times 1}\n",
    "$$\n",
    "\n",
    "*Hint:* You can use the `perm` function to remove the first time-period in the residual. Consider the following; \n",
    "\n",
    "$$\n",
    "{\\begin{bmatrix}\n",
    "0 & 1 & 0 & \\cdots & 0 & 0\\\\\n",
    "0 & 0 & 1 & \\cdots & 0 & 0\\\\\n",
    "\\vdots & \\vdots & \\vdots & \\ddots & \\vdots & \\vdots\\\\\n",
    "0 & 0 & 0 & \\cdots & 0 & 1\n",
    "\\end{bmatrix}}_{T-1\\times T}\\times{\\begin{bmatrix}y_{1}\\\\\n",
    "y_{2}\\\\\n",
    "\\vdots\\\\\n",
    "y_{T}\n",
    "\\end{bmatrix}}_{T \\times 1}={\\begin{bmatrix}y_{2}\\\\\n",
    "y_{3}\\\\\n",
    "\\vdots\\\\\n",
    "y_{T}\n",
    "\\end{bmatrix}}_{T - 1\\times 1}\n",
    "$$"
   ]
  },
  {
   "cell_type": "code",
   "execution_count": 23,
   "metadata": {},
   "outputs": [],
   "source": [
    "# Make function to calculate the serial correlation\n",
    "def serial_corr(y, x, T):\n",
    "    # Calculate the residuals\n",
    "    b_hat = lm.est_ols(y, x)\n",
    "    e = y - x@b_hat\n",
    "    \n",
    "    # Create a lag transformation matrix\n",
    "    L_T = np.eye(T, k=-1)\n",
    "    L_T = L_T[1:]\n",
    "\n",
    "    # Lag residuals\n",
    "    e_l = lm.perm(L_T, e)\n",
    "\n",
    "    # Create a transformation matrix that removes the first observation of each individual\n",
    "    I_T = np.eye(T, k=0)\n",
    "    I_T = I_T[1:]\n",
    "    \n",
    "    # Remove first observation of each individual\n",
    "    e = lm.perm(I_T, e)\n",
    "    \n",
    "    # Calculate the serial correlation\n",
    "    return lm.estimate(e, e_l,N=N,T=T-1)"
   ]
  },
  {
   "cell_type": "code",
   "execution_count": 24,
   "metadata": {},
   "outputs": [
    {
     "name": "stdout",
     "output_type": "stream",
     "text": [
      "Serial Correlation\n",
      "Dependent variable: OLS residual, eᵢₜ\n",
      "\n",
      "         Beta      Se    t-values\n",
      "-----  ------  ------  ----------\n",
      "eᵢₜ₋₁  0.2028  0.0144     14.0426\n",
      "R² = 0.043\n",
      "σ² = 0.008\n"
     ]
    }
   ],
   "source": [
    "# Estimate serial correlation\n",
    "corr_result = serial_corr(y_diff, x_diff, T-1)\n",
    "\n",
    "# Print results\n",
    "label_ye = 'OLS residual, e\\u1d62\\u209c'\n",
    "label_e = ['e\\u1d62\\u209c\\u208B\\u2081']\n",
    "lm.print_table(\n",
    "    (label_ye, label_e), corr_result, \n",
    "    title='Serial Correlation', floatfmt='.4f'\n",
    ")"
   ]
  },
  {
   "cell_type": "markdown",
   "metadata": {},
   "source": [
    "You should get a table that looks like this:\n",
    "\n",
    "Serial Correlation <br>\n",
    "Dependent variable: OLS residual, eᵢₜ\n",
    "\n",
    "|       |    Beta |     Se |   t-values |\n",
    "|-------|---------|--------|------------|\n",
    "| eᵢₜ₋₁ | -0.3961 | 0.0147 |   -27.0185 |\n",
    "R² = 0.182 <br>\n",
    "σ² = 0.143"
   ]
  },
  {
   "cell_type": "markdown",
   "metadata": {},
   "source": [
    "### Test for strict exogeneity\n",
    "\n",
    "Add a lead of the union variable, $union_{i,t+1}$ to the equation (1) (note that you will lose data from period $T$ , 1987) and estimate the model with *fixed effects* (i.e., you have to demean $union_{i,t+1}$ along with all the other variables and throw out time constant variables). Is $union_{i,t+1}$ significant? What does this imply for the strict exogeneity assumption?\n",
    "\n",
    "*Hint:* To lead a variable, think along the same lines as in the previous exercise."
   ]
  },
  {
   "cell_type": "code",
   "execution_count": 27,
   "metadata": {},
   "outputs": [],
   "source": [
    "# Lead employment\n",
    "F_T = np.eye(T, k=1)\n",
    "F_T = F_T[:-1]\n",
    "\n",
    "employment_lead = lm.perm(F_T, x[:, 1].reshape(-1, 1))"
   ]
  },
  {
   "cell_type": "code",
   "execution_count": 28,
   "metadata": {},
   "outputs": [],
   "source": [
    "# Remove the last observed year for every individual\n",
    "I_T = np.eye(T, k=0)\n",
    "I_T = I_T[:-1]\n",
    "\n",
    "x_exo = lm.perm(I_T, x)\n",
    "y_exo = lm.perm(I_T, y)"
   ]
  },
  {
   "cell_type": "code",
   "execution_count": 30,
   "metadata": {},
   "outputs": [],
   "source": [
    "# Add employment_lead to x_exo\n",
    "x_exo = np.hstack((x_exo, employment_lead))\n",
    "\n",
    "# Within transform the data\n",
    "Q_T = demeaning_matrix(T - 1)\n",
    "yw_exo = lm.perm(Q_T, y_exo)\n",
    "xw_exo = lm.perm(Q_T, x_exo)\n",
    "\n",
    "# Select variables\n",
    "xw_exo = np.hstack((xw_exo[:, 1:5], xw_exo[:, -1].reshape(-1, 1)))"
   ]
  },
  {
   "cell_type": "code",
   "execution_count": null,
   "metadata": {},
   "outputs": [
    {
     "name": "stdout",
     "output_type": "stream",
     "text": [
      "Exogeneity test\n",
      "Dependent variable: Log capital\n",
      "\n",
      "                   Beta        Se    t-values\n",
      "--------------  -------  --------  ----------\n",
      "Log employment   1.6418    0.0424     38.7010\n",
      "Log DSA          0.2935    0.0265     11.0949\n",
      "Union lead      -2.0000  nan         nan\n",
      "R² = -0.748\n",
      "σ² = 0.051\n"
     ]
    },
    {
     "name": "stderr",
     "output_type": "stream",
     "text": [
      "/Users/juliusvikjaer/AMD/project 2/w2_LinearModels_post.py:92: RuntimeWarning: invalid value encountered in sqrt\n",
      "  se = np.sqrt(cov.diagonal()).reshape(-1, 1)\n"
     ]
    }
   ],
   "source": [
    "# Estimate model\n",
    "exo_test = lm.estimate(yw_exo, xw_exo, N=N, T=T - 1, transform='fe')\n",
    "\n",
    "# Print results\n",
    "label_exo = label_x_fe + ['Employment lead']\n",
    "lm.print_table((label_y, label_exo), exo_test, title='Exogeneity test', floatfmt='.4f')"
   ]
  },
  {
   "cell_type": "code",
   "execution_count": 33,
   "metadata": {},
   "outputs": [
    {
     "name": "stdout",
     "output_type": "stream",
     "text": [
      "Strict exogeneity test\n",
      "Dependent variable: Output (ldsa)\n",
      "\n",
      "                   Beta      Se    t-values\n",
      "---------------  ------  ------  ----------\n",
      "Capital          0.4752  0.0193     24.6305\n",
      "Employment       0.1586  0.0197      8.0618\n",
      "Lead employment  0.0421  0.0180      2.3371\n",
      "R² = 0.325\n",
      "σ² = 0.020\n"
     ]
    }
   ],
   "source": [
    "# Create lead of employment\n",
    "F_T = np.eye(T, k=1)[:-1]  # shifts forward, drops last row\n",
    "employment_lead = lm.perm(F_T, x[:, 2].reshape(-1, 1))  # employment is column 2\n",
    "\n",
    "# Drop last year for everyone (so dimensions match)\n",
    "I_T = np.eye(T)[:-1]\n",
    "x_exo = lm.perm(I_T, x)\n",
    "y_exo = lm.perm(I_T, y)  # <-- now y is ldsa\n",
    "\n",
    "# Add employment_lead to regressors\n",
    "x_exo = np.hstack((x_exo, employment_lead))\n",
    "\n",
    "# Within transform (demean)\n",
    "Q_T = demeaning_matrix(T - 1)\n",
    "yw_exo = lm.perm(Q_T, y_exo)\n",
    "xw_exo = lm.perm(Q_T, x_exo)\n",
    "\n",
    "# Keep the usual regressors + the lead\n",
    "xw_exo = np.hstack((xw_exo[:, 1:3], xw_exo[:, -1].reshape(-1, 1)))  \n",
    "# columns: capital, employment, lead employment\n",
    "\n",
    "# Estimate FE model with the lead\n",
    "exo_test = lm.estimate(yw_exo, xw_exo, N=N, T=T-1, transform='fe')\n",
    "\n",
    "# Print results\n",
    "label_exo = [\"Capital\", \"Employment\", \"Lead employment\"]\n",
    "lm.print_table((\"Output (ldsa)\", label_exo), exo_test, title=\"Strict exogeneity test\", floatfmt=\".4f\")\n",
    "\n"
   ]
  },
  {
   "cell_type": "markdown",
   "metadata": {},
   "source": [
    "The table should look something like this:\n",
    "Exogeneity test <br>\n",
    "Dependent variable: Log wage\n",
    "\n",
    "|                |    Beta |     Se |   t-values |\n",
    "|----------------|---------|--------|------------|\n",
    "| Experience     |  0.1213 | 0.0100 |    12.1001 |\n",
    "| Experience sqr | -0.0050 | 0.0008 |    -6.3579 |\n",
    "| Married        |  0.0436 | 0.0209 |     2.0898 |\n",
    "| Union          |  0.0757 | 0.0218 |     3.4784 |\n",
    "| Union lead     |  0.0515 | 0.0223 |     2.3063 |\n",
    "R² = 0.146<br>\n",
    "σ² = 0.128"
   ]
  },
  {
   "cell_type": "markdown",
   "metadata": {},
   "source": [
    "### Time series dummies and FE\n",
    "Add interactions on the form $d_{81}\\cdot educ, d_{82}\\cdot educ, ..., d_{87}\\cdot educ$ and estimate the model with fixed effect. Has the return to education increased over time?\n",
    "\n",
    "*Hint:* Remember that $educ_{i}$ doesn't vary over\n",
    "time! Therefore we didn't use $educ$ in levels in the FE estimation.\n",
    "However, if we suppose that the structural equation (4) contains a term $\\sum_{s=2}^{T}\\delta_{s}d_{s}educ_{i}$, it will be perfectly fine to within-transform these interactions since they vary over time (although in a highly structured manner - they equal\n",
    "zero in all time periods but one, and then $educ$). Note that one\n",
    "period is dropped for the within-transformation to work whereas the\n",
    "levels term, $\\beta_{5}educ_{i}$, is dropped to avoid producing a\n",
    "constant row.\n",
    "\n",
    "*Programming hint:* You want to append the dataset with a dummy matrix, that would look something like this:\n",
    "\n",
    "$$\n",
    "\\begin{bmatrix}\n",
    "0 & 0 & 0 & 0 & 0 & 0 & 0 \\\\\n",
    "14 & 0 & 0 & 0 & 0 & 0 & 0 \\\\\n",
    "0 & 14 & 0 & 0 & 0 & 0 & 0 \\\\\n",
    "\\vdots & \\vdots & \\vdots & \\vdots & \\vdots & \\ddots & \\vdots \\\\\n",
    "0 & 0 & 0 & 0 & 0 & 0 & 14 \\\\\n",
    "0 & 0 & 0 & 0 & 0 & 0 & 0 \\\\\n",
    "9 & 0 & 0 & 0 & 0 & 0 & 0 \\\\\n",
    "0 & 9 & 0 & 0 & 0 & 0 & 0 \\\\\n",
    "\\vdots & \\vdots & \\ddots & \\vdots & \\vdots & \\vdots & \\vdots \\\\\n",
    "0 & 0 & 0 & 0 & 0 & 0 & 9 \\\\\n",
    "\\end{bmatrix}\n",
    "$$\n",
    "\n",
    "This example shows our two first persons, that have 14 and 9 years of education respectively.Why is the first row for each person only zeros?\n",
    "\n",
    "The matrix is constructed for you. Note how it can be done."
   ]
  },
  {
   "cell_type": "code",
   "execution_count": null,
   "metadata": {},
   "outputs": [],
   "source": [
    "# This dummy block has a 0 row, as we need to exclude one\n",
    "# year in order to not end up in the dummy trap.\n",
    "dummy_block = np.eye(T, k=-1)[:, :-1]\n",
    "\n",
    "# Expand thid dummy block to all persons\n",
    "dummy_matrix = np.tile(dummy_block, (N, 1))\n",
    "\n",
    "# We now create a n*t-1 matrix, with the person's education \n",
    "expanded_educ = np.transpose([x[:, 5]] * (T-1))\n",
    "\n",
    "# We can now multiply the year dummy with a person's education\n",
    "educ_dummies = dummy_matrix*expanded_educ\n",
    "\n",
    "# We can now demean the variables\n",
    "Q_T = demeaning_matrix(T)\n",
    "educ_demean = lm.perm(Q_T, educ_dummies)\n",
    "x_demean_dummies = np.hstack([x_demean, educ_demean])\n",
    "\n",
    "# Add the year dummies to the label\n",
    "label_x_interactions = label_x_fe + ['E81', 'E82', 'E83', 'E84', 'E85', 'E86', 'E87']"
   ]
  },
  {
   "cell_type": "code",
   "execution_count": null,
   "metadata": {},
   "outputs": [],
   "source": [
    "# Estimate model\n",
    "int_result = lm.estimate(y_demean, x_demean_dummies, transform='fe', N=N, T=T)\n",
    "\n",
    "# Print results\n",
    "lm.print_table((label_y, label_x_interactions), int_result, title='FE with year interactions', floatfmt='.4f')"
   ]
  },
  {
   "cell_type": "markdown",
   "metadata": {},
   "source": [
    "You should get a table that looks like this:\n",
    "\n",
    "FE with year interactions <br>\n",
    "Dependent variable: Log wage\n",
    "\n",
    "|                |    Beta |     Se |   t-values |\n",
    "|----------------|---------|--------|------------|\n",
    "| Experience     |  0.1705 | 0.0273 |     6.2462 |\n",
    "| Experience sqr | -0.0060 | 0.0009 |    -6.9581 |\n",
    "| Married        |  0.0475 | 0.0183 |     2.5925 |\n",
    "| Union          |  0.0794 | 0.0193 |     4.1138 |\n",
    "| E81            | -0.0010 | 0.0026 |    -0.4009 |\n",
    "| E82            | -0.0062 | 0.0041 |    -1.5224 |\n",
    "| E83            | -0.0114 | 0.0057 |    -2.0006 |\n",
    "| E84            | -0.0136 | 0.0072 |    -1.8787 |\n",
    "| E85            | -0.0162 | 0.0087 |    -1.8578 |\n",
    "| E86            | -0.0170 | 0.0101 |    -1.6804 |\n",
    "| E87            | -0.0167 | 0.0115 |    -1.4619 |\n",
    "R² = 0.181 <br>\n",
    "σ² = 0.123"
   ]
  },
  {
   "cell_type": "markdown",
   "metadata": {},
   "source": [
    "***Kode til at gøre julius glad :-)***"
   ]
  },
  {
   "cell_type": "code",
   "execution_count": 1,
   "metadata": {},
   "outputs": [],
   "source": [
    "import statsmodels.api as sm\n",
    "import pandas as pd\n",
    "\n",
    "def fd_sequential_exogeneity_test(df, yvar, xvars, idvar, tvar, nlags=1):\n",
    "    \"\"\"\n",
    "    Tests sequential exogeneity for FD estimator:\n",
    "    Regress Δy on Δx and lags of Δx, check if lags are significant.\n",
    "    \n",
    "    df    : pandas DataFrame (panel data)\n",
    "    yvar  : dependent variable (string)\n",
    "    xvars : list of independent variables (list of strings)\n",
    "    idvar : unit identifier\n",
    "    tvar  : time identifier\n",
    "    nlags : number of lags of Δx to include\n",
    "    \"\"\"\n",
    "\n",
    "    # Sort data\n",
    "    df = df.sort_values([idvar, tvar])\n",
    "    \n",
    "    # First-differencing\n",
    "    df_fd = df.groupby(idvar).diff()\n",
    "    \n",
    "    results = {}\n",
    "    for x in xvars:\n",
    "        regressors = [df_fd[x]]\n",
    "        \n",
    "        # Add lags of Δx\n",
    "        for L in range(1, nlags+1):\n",
    "            df_fd[f'{x}_lag{L}'] = df_fd.groupby(idvar)[x].shift(L)\n",
    "            regressors.append(df_fd[f'{x}_lag{L}'])\n",
    "        \n",
    "        # Build regression\n",
    "        X = pd.concat(regressors, axis=1).dropna()\n",
    "        y = df_fd[yvar].loc[X.index]\n",
    "        \n",
    "        X = sm.add_constant(X)\n",
    "        model = sm.OLS(y, X).fit()\n",
    "        \n",
    "        results[x] = model.summary()\n",
    "    \n",
    "    return results\n"
   ]
  }
 ],
 "metadata": {
  "kernelspec": {
   "display_name": "base",
   "language": "python",
   "name": "python3"
  },
  "language_info": {
   "codemirror_mode": {
    "name": "ipython",
    "version": 3
   },
   "file_extension": ".py",
   "mimetype": "text/x-python",
   "name": "python",
   "nbconvert_exporter": "python",
   "pygments_lexer": "ipython3",
   "version": "3.11.7"
  }
 },
 "nbformat": 4,
 "nbformat_minor": 4
}
