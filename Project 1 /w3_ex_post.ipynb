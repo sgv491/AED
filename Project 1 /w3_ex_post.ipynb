{
 "cells": [
  {
   "cell_type": "code",
   "execution_count": 1,
   "metadata": {},
   "outputs": [
    {
     "name": "stdout",
     "output_type": "stream",
     "text": [
      "The autoreload extension is already loaded. To reload it, use:\n",
      "  %reload_ext autoreload\n"
     ]
    }
   ],
   "source": [
    "%load_ext autoreload\n",
    "%autoreload 2\n",
    "import numpy as np\n",
    "from numpy import linalg as la\n",
    "from scipy.stats import chi2\n",
    "from tabulate import tabulate\n",
    "import pandas as pd\n",
    "from io import StringIO\n",
    "from tabulate import tabulate\n",
    "from matplotlib import pyplot as plt\n",
    "\n",
    "#Suppress Future Warnings\n",
    "import warnings\n",
    "warnings.simplefilter(action='ignore', category=FutureWarning)\n",
    "\n",
    "# Import this weeks LinearModels.py file\n",
    "import EstimatesandTest as lm\n",
    "%load_ext autoreload\n",
    "%autoreload 2"
   ]
  },
  {
   "cell_type": "code",
   "execution_count": 2,
   "metadata": {},
   "outputs": [],
   "source": [
    "y, x, T, year, label_y, label_x = lm.load_example_data()"
   ]
  },
  {
   "cell_type": "markdown",
   "metadata": {},
   "source": [
    "### Part 1: Pooled OLS not used in assignment but nice to have\n"
   ]
  },
  {
   "cell_type": "code",
   "execution_count": 3,
   "metadata": {},
   "outputs": [
    {
     "name": "stdout",
     "output_type": "stream",
     "text": [
      "Pooled OLS\n",
      "Dependent variable: Log deflated sales\n",
      "\n",
      "               Beta      Se    t-values\n",
      "-----------  ------  ------  ----------\n",
      "Constant     0.0000  0.0050      0.0000\n",
      "Log labour   0.6748  0.0102     66.4625\n",
      "Log capital  0.3100  0.0091     33.9237\n",
      "R² = 0.914\n",
      "σ² = 0.131\n"
     ]
    }
   ],
   "source": [
    "# First, regress y on x without any transformations. Store the resulting dictionary.\n",
    "# Tip: If you want robust standard errors, you can add the argument robust_se=True to the estimate function.\n",
    "pols_result = lm.estimate(y, x, T=T)\n",
    "\n",
    "# Then, print the resulting dictionary using the provided print_table() function. The labels should have been provided to you.\n",
    "lm.print_table((label_y, label_x), pols_result, title=\"Pooled OLS\", floatfmt='.4f')"
   ]
  },
  {
   "cell_type": "code",
   "execution_count": 4,
   "metadata": {},
   "outputs": [
    {
     "name": "stdout",
     "output_type": "stream",
     "text": [
      "Pooled OLS (Robust SE)\n",
      "Dependent variable: Log deflated sales\n",
      "\n",
      "               Beta      Se    t-values\n",
      "-----------  ------  ------  ----------\n",
      "Constant     0.0000  0.0161      0.0000\n",
      "Log labour   0.6748  0.0366     18.4526\n",
      "Log capital  0.3100  0.0324      9.5810\n",
      "R² = 0.914\n",
      "σ² = 0.131\n"
     ]
    }
   ],
   "source": [
    "pols_result_robust = lm.estimate(y, x, T=T, robust_se=True)\n",
    "lm.print_table((label_y, label_x), pols_result_robust, title=\"Pooled OLS (Robust SE)\", floatfmt='.4f')"
   ]
  },
  {
   "cell_type": "markdown",
   "metadata": {},
   "source": [
    "### Fixed effects"
   ]
  },
  {
   "cell_type": "code",
   "execution_count": 5,
   "metadata": {},
   "outputs": [],
   "source": [
    "def remove_zero_columns(x, label_x, tol=1e-10):\n",
    "    \"\"\"\n",
    "    Drop columns that are (numerically) all zeros and keep their labels aligned.\n",
    "\n",
    "    Args:\n",
    "        x: regressor matrix.\n",
    "        label_x: list of column labels.\n",
    "        tol: tolerance for treating entries as zero.\n",
    "\n",
    "    Returns:\n",
    "        Filtered matrix and matching labels.\n",
    "    \"\"\"\n",
    "    mask = ~np.all(np.isclose(x, 0.0, atol=tol), axis=0)\n",
    "    x_nonzero = x[:, mask]\n",
    "    label_nonzero = [lbl for lbl, keep in zip(label_x, mask) if keep]\n",
    "    return x_nonzero, label_nonzero\n"
   ]
  },
  {
   "cell_type": "code",
   "execution_count": 6,
   "metadata": {},
   "outputs": [
    {
     "name": "stdout",
     "output_type": "stream",
     "text": [
      "Fixed Effects\n",
      "Dependent variable: Log deflated sales\n",
      "\n",
      "               Beta      Se    t-values\n",
      "-----------  ------  ------  ----------\n",
      "Log labour   0.6942  0.0417     16.6674\n",
      "Log capital  0.1546  0.0299      5.1630\n",
      "R² = 0.477\n",
      "σ² = 0.018\n"
     ]
    }
   ],
   "source": [
    "# Transform the data\n",
    "Q_T = np.eye(T) - 1/T * np.ones((T, T))\n",
    "y_dot = lm.perm(Q_T, y)\n",
    "x_dot = lm.perm(Q_T, x)\n",
    "\n",
    "# Remove the columns that are only zeroes\n",
    "x_dot, label_x_dot = remove_zero_columns(x_dot, label_x)\n",
    "\n",
    "# Estimate \n",
    "fe_result = lm.estimate(y_dot, x_dot, transform='fe', T=T, robust_se=True)\n",
    "lm.print_table((label_y, label_x_dot), fe_result, title=\"Fixed Effects\", floatfmt='.4f')"
   ]
  },
  {
   "cell_type": "markdown",
   "metadata": {},
   "source": [
    "### First differences part one we go back to this in tests"
   ]
  },
  {
   "cell_type": "code",
   "execution_count": 7,
   "metadata": {},
   "outputs": [
    {
     "name": "stdout",
     "output_type": "stream",
     "text": [
      "First Difference\n",
      "Dependent variable: Log deflated sales\n",
      "\n",
      "               Beta      Se    t-values\n",
      "-----------  ------  ------  ----------\n",
      "Log labour   0.5487  0.0292     18.8191\n",
      "Log capital  0.0630  0.0232      2.7097\n",
      "R² = 0.165\n",
      "σ² = 0.014\n"
     ]
    }
   ],
   "source": [
    "# Transform the data\n",
    "D_T = - np.eye(T-1, T) + np.eye(T-1, T, k=1)\n",
    "y_diff = lm.perm(D_T, y)\n",
    "x_diff = lm.perm(D_T, x)\n",
    "\n",
    "# Remove the columns that are only zeroes\n",
    "x_diff, label_x_diff = remove_zero_columns(x_diff, label_x)\n",
    "\n",
    "# Estimate \n",
    "fd_result = lm.estimate(y_diff, x_diff, transform='fd', T=T-1, robust_se=True)\n",
    "lm.print_table((label_y, label_x_diff), fd_result, title=\"First Difference\", floatfmt='.4f')"
   ]
  },
  {
   "cell_type": "markdown",
   "metadata": {},
   "source": [
    "### Lets go to the fun part: Random effects pre set up"
   ]
  },
  {
   "cell_type": "code",
   "execution_count": 8,
   "metadata": {},
   "outputs": [
    {
     "name": "stdout",
     "output_type": "stream",
     "text": [
      "Between Estimator\n",
      "Dependent variable: Log deflated sales\n",
      "\n",
      "               Beta      Se    t-values\n",
      "-----------  ------  ------  ----------\n",
      "Constant     0.0000  0.0161      0.0000\n",
      "Log labour   0.6672  0.0343     19.4572\n",
      "Log capital  0.3188  0.0309     10.3230\n",
      "R² = 0.923\n",
      "σ² = 0.115\n"
     ]
    }
   ],
   "source": [
    "# Transform the data\n",
    "P_T = np.ones((1,T)) * 1/T\n",
    "y_mean = lm.perm(P_T, y)\n",
    "x_mean = lm.perm(P_T, x)\n",
    "\n",
    "# Estimate \n",
    "be_result = lm.estimate(y_mean, x_mean, transform='be', T=T)\n",
    "lm.print_table((label_y, label_x), be_result, title=\"Between Estimator\", floatfmt='.4f')"
   ]
  },
  {
   "cell_type": "code",
   "execution_count": 9,
   "metadata": {},
   "outputs": [
    {
     "name": "stdout",
     "output_type": "stream",
     "text": [
      "Lambda is approximately equal to 0.8873.\n"
     ]
    }
   ],
   "source": [
    "# Calculate lambda (note lambda is a reserved keyword in Python, so we use _lambda instead)\n",
    "sigma2_u = fe_result['sigma2']\n",
    "sigma2_w = be_result['sigma2']\n",
    "sigma2_c = sigma2_w - 1/T * sigma2_u\n",
    "_lambda = 1 - np.sqrt(sigma2_u / (sigma2_u + T*sigma2_c))\n",
    "\n",
    "# Print lambda \n",
    "print(f'Lambda is approximately equal to {_lambda.item():.4f}.')"
   ]
  },
  {
   "cell_type": "markdown",
   "metadata": {},
   "source": [
    "### Randoms effects in action"
   ]
  },
  {
   "cell_type": "code",
   "execution_count": 10,
   "metadata": {},
   "outputs": [
    {
     "name": "stdout",
     "output_type": "stream",
     "text": [
      "Random Effects\n",
      "Dependent variable: Log deflated sales\n",
      "\n",
      "               Beta      Se    t-values\n",
      "-----------  ------  ------  ----------\n",
      "Constant     0.0000  0.0168      0.0000\n",
      "Log labour   0.7197  0.0335     21.4637\n",
      "Log capital  0.1989  0.0261      7.6174\n",
      "R² = 0.642\n",
      "σ² = 0.018\n"
     ]
    }
   ],
   "source": [
    "# Transform the data\n",
    "P_T_full = np.ones((T, T)) / T\n",
    "C_T = np.eye(T) - _lambda * P_T_full\n",
    "y_re = lm.perm(C_T, y)\n",
    "x_re = lm.perm(C_T, x)\n",
    "\n",
    "# Estimate \n",
    "re_result = lm.estimate(y_re, x_re, transform='re', T=T, robust_se=True)\n",
    "lm.print_table((label_y, label_x), re_result, title=\"Random Effects\", floatfmt='.4f')"
   ]
  },
  {
   "cell_type": "markdown",
   "metadata": {},
   "source": [
    "### CRS testing"
   ]
  },
  {
   "cell_type": "code",
   "execution_count": 11,
   "id": "94712a21",
   "metadata": {},
   "outputs": [
    {
     "name": "stdout",
     "output_type": "stream",
     "text": [
      "CRS Wald test (FE): 19.4029\n",
      "Critical value (5%): 3.8415\n",
      "p-value: 0.0000\n",
      "CRS Wald test (FD): 150.0280\n",
      "Critical value (5%): 3.8415\n",
      "p-value: 0.0000\n",
      "CRS Wald test (RE): 18.6793\n",
      "Critical value (5%): 3.8415\n",
      "p-value: 0.0000\n"
     ]
    },
    {
     "name": "stderr",
     "output_type": "stream",
     "text": [
      "/var/folders/s4/t_g3d19d071dl_561zffrd9c0000gn/T/ipykernel_54129/2860914631.py:10: DeprecationWarning: Conversion of an array with ndim > 0 to a scalar is deprecated, and will error in future. Ensure you extract a single element from your array before performing this operation. (Deprecated NumPy 1.25.)\n",
      "  stat = float(diff.T @ la.inv(var_rb) @ diff)\n"
     ]
    }
   ],
   "source": [
    "# Constant-returns-to-scale Wald tests for FE, FD, and RE\n",
    "\n",
    "def crs_wald(result, skip=0):\n",
    "    R = np.array([[1.0, 1.0]])\n",
    "    q = np.array([[1.0]])\n",
    "    b = result['b_hat'][skip:, :]\n",
    "    cov = result['cov'][skip:, skip:]\n",
    "    diff = R @ b - q\n",
    "    var_rb = R @ cov @ R.T\n",
    "    stat = float(diff.T @ la.inv(var_rb) @ diff)\n",
    "    crit = chi2.ppf(0.95, 1)\n",
    "    pval = 1 - chi2.cdf(stat, 1)\n",
    "    return stat, crit, pval\n",
    "\n",
    "W_fe, crit_fe, p_fe = crs_wald(fe_result, skip=0)\n",
    "print(f'CRS Wald test (FE): {W_fe:.4f}')\n",
    "print(f'Critical value (5%): {crit_fe:.4f}')\n",
    "print(f'p-value: {p_fe:.4f}')\n",
    "\n",
    "W_fd, crit_fd, p_fd = crs_wald(fd_result, skip=0)\n",
    "print(f'CRS Wald test (FD): {W_fd:.4f}')\n",
    "print(f'Critical value (5%): {crit_fd:.4f}')\n",
    "print(f'p-value: {p_fd:.4f}')\n",
    "\n",
    "W_re, crit_re, p_re = crs_wald(re_result, skip=1)\n",
    "print(f'CRS Wald test (RE): {W_re:.4f}')\n",
    "print(f'Critical value (5%): {crit_re:.4f}')\n",
    "print(f'p-value: {p_re:.4f}')\n"
   ]
  },
  {
   "cell_type": "markdown",
   "metadata": {},
   "source": [
    "### Strict exogeneity testing"
   ]
  },
  {
   "cell_type": "code",
   "execution_count": 12,
   "id": "659486c1",
   "metadata": {},
   "outputs": [
    {
     "name": "stdout",
     "output_type": "stream",
     "text": [
      "Strict Exogeneity Test (FE)\n",
      "Dependent variable: Log deflated sales\n",
      "\n",
      "                   Beta      Se    t-values\n",
      "---------------  ------  ------  ----------\n",
      "Log labour       0.5681  0.0397     14.3113\n",
      "Log capital      0.1495  0.0291      5.1287\n",
      "Lead log labour  0.1532  0.0281      5.4442\n",
      "R² = 0.473\n",
      "σ² = 0.016\n",
      "Wald test H0: lead coefficient = 0 -> 29.6395 (crit 5% = 3.8415, p = 0.0000)\n",
      "-> Reject H0: lead term is zero (evidence against strict exogeneity).\n"
     ]
    }
   ],
   "source": [
    "# Strict exogeneity test for FE using a lead of log labour\n",
    "F_T = np.eye(T, k=1)[:-1]\n",
    "labour_lead = lm.perm(F_T, x[:, 1].reshape(-1, 1))\n",
    "\n",
    "I_T = np.eye(T)[:-1]\n",
    "x_exo = lm.perm(I_T, x)\n",
    "y_exo = lm.perm(I_T, y)\n",
    "\n",
    "x_exo = np.hstack((x_exo, labour_lead))\n",
    "\n",
    "Q_T_exo = np.eye(T - 1) - 1/(T - 1) * np.ones((T - 1, T - 1))\n",
    "y_exo_w = lm.perm(Q_T_exo, y_exo)\n",
    "x_exo_w = lm.perm(Q_T_exo, x_exo)\n",
    "\n",
    "labels_exo = label_x + ['Lead log labour']\n",
    "x_exo_w, labels_exo = remove_zero_columns(x_exo_w, labels_exo)\n",
    "\n",
    "fe_exo_result = lm.estimate(y_exo_w, x_exo_w, transform='fe', T=T-1, robust_se=True)\n",
    "lm.print_table((label_y, labels_exo), fe_exo_result, title='Strict Exogeneity Test (FE)', floatfmt='.4f')\n",
    "\n",
    "lead_beta = fe_exo_result['b_hat'][-1, 0]\n",
    "lead_se = fe_exo_result['se'][-1, 0]\n",
    "wald_lead = (lead_beta / lead_se) ** 2\n",
    "crit_lead = chi2.ppf(0.95, 1)\n",
    "p_lead = 1 - chi2.cdf(wald_lead, 1)\n",
    "print(f'Wald test H0: lead coefficient = 0 -> {wald_lead:.4f} (crit 5% = {crit_lead:.4f}, p = {p_lead:.4f})')\n",
    "\n",
    "if p_lead < 0.05:\n",
    "    print('-> Reject H0: lead term is zero (evidence against strict exogeneity).')\n",
    "else:\n",
    "    print('-> Do NOT reject H0: no evidence against strict exogeneity in FE panel.')\n"
   ]
  },
  {
   "cell_type": "markdown",
   "metadata": {},
   "source": [
    "#### Question 4: Comparing FE and RE (Hausman Testing)"
   ]
  },
  {
   "cell_type": "code",
   "execution_count": 13,
   "metadata": {},
   "outputs": [
    {
     "name": "stdout",
     "output_type": "stream",
     "text": [
      "Hausman test statistic: 73.54\n",
      "Critical value (5%): 5.99\n",
      "p-value: 0.00000000\n",
      "-> Reject H0: FE and RE differ (Hausman favors FE).\n"
     ]
    }
   ],
   "source": [
    "# Hausman test using homoskedastic covariance matrices\n",
    "fe_nr = lm.estimate(y_dot, x_dot, transform='fe', T=T, robust_se=False)\n",
    "re_nr = lm.estimate(y_re, x_re, transform='re', T=T, robust_se=False)\n",
    "\n",
    "# Use only the time-varying regressors\n",
    "b_fe = fe_nr['b_hat']\n",
    "b_re = re_nr['b_hat'][1:, :]\n",
    "cov_fe = fe_nr['cov']\n",
    "cov_re = re_nr['cov'][1:, 1:]\n",
    "\n",
    "# Calculate the test statistic\n",
    "b_diff = b_fe - b_re\n",
    "cov_diff = cov_fe - cov_re\n",
    "H = b_diff.T @ la.inv(cov_diff) @ b_diff\n",
    "\n",
    "# 5% chi-square critical value with M degrees of freedom\n",
    "M = len(b_diff)\n",
    "crit_val = chi2.ppf(0.95, M)\n",
    "p_val = 1 - chi2.cdf(H.item(), M)\n",
    "\n",
    "print(f\"Hausman test statistic: {H.item():.2f}\")\n",
    "print(f\"Critical value (5%): {crit_val:.2f}\")\n",
    "print(f\"p-value: {p_val:.8f}\")\n",
    "if p_val < 0.05:\n",
    "    print('-> Reject H0: FE and RE differ (Hausman favors FE).')\n",
    "else:\n",
    "    print('-> Do NOT reject H0: no evidence against RE consistency (Hausman).')\n"
   ]
  },
  {
   "cell_type": "markdown",
   "metadata": {},
   "source": [
    "This violates RE.1b"
   ]
  },
  {
   "cell_type": "markdown",
   "metadata": {},
   "source": [
    "### Sequential rationality testing"
   ]
  },
  {
   "cell_type": "code",
   "execution_count": 14,
   "metadata": {},
   "outputs": [
    {
     "name": "stdout",
     "output_type": "stream",
     "text": [
      "The autoreload extension is already loaded. To reload it, use:\n",
      "  %reload_ext autoreload\n"
     ]
    }
   ],
   "source": [
    "import numpy as np\n",
    "from numpy import linalg as la\n",
    "import pandas as pd\n",
    "from io import StringIO\n",
    "from tabulate import tabulate\n",
    "from matplotlib import pyplot as plt\n",
    "\n",
    "#Supress Future Warnings\n",
    "import warnings\n",
    "warnings.simplefilter(action='ignore', category=FutureWarning)\n",
    "\n",
    "import EstimatesandTest as lm\n",
    "%load_ext autoreload\n",
    "%autoreload 2"
   ]
  },
  {
   "cell_type": "code",
   "execution_count": 15,
   "metadata": {},
   "outputs": [],
   "source": [
    "# First, import the data into numpy. \n",
    "data = pd.read_csv('firms.csv')\n",
    "id_array = np.array(data.iloc[:, 0])\n",
    "\n",
    "# Count how many persons we have. This returns a tuple with the unique IDs,\n",
    "# and the number of times each person is observed.\n",
    "unique_id = np.unique(id_array, return_counts=True)\n",
    "N = unique_id[0].size\n",
    "T = int(unique_id[1].mean())\n",
    "year = np.array(data.iloc[:, 1], dtype=int)\n",
    "\n",
    "# Load the rest of the data into arrays.\n",
    "y = data['lcap'].to_numpy().reshape(-1, 1)\n",
    "\n",
    "# x needs to have a constant vector in the first row. How would you add this? \n",
    "# Note that the order is set to match the order of variables in the model.\n",
    "x = np.column_stack([\n",
    "    np.ones(N * T),\n",
    "    data['lemp'].to_numpy(),\n",
    "    data['ldsa'].to_numpy()\n",
    "])\n",
    "\n",
    "# Lets also make some variable names\n",
    "label_y = 'Log capital'\n",
    "label_x = [\n",
    "    'Constant',\n",
    "    'Log employment',\n",
    "    'Log DSA'\n",
    "]"
   ]
  },
  {
   "cell_type": "code",
   "execution_count": 16,
   "metadata": {},
   "outputs": [
    {
     "name": "stdout",
     "output_type": "stream",
     "text": [
      "FD Exogeneity Test (lead-variable)\n",
      "Model: Δ log y_it = b1 Δ log K_it + b2 Δ log L_it + b3 Δ log L_{i,t+1} + Δu_it\n",
      "\n",
      "              Variable        Beta          SE         t\n",
      "                 const     -0.0000      0.0035     -0.01\n",
      "          Δlog Capital      0.0753      0.0345      2.18\n",
      "       Δlog Employment     -0.0015      0.0241     -0.06\n",
      "  Lead Δlog Employment      0.0338      0.0192      1.76\n",
      "\n",
      "Test H0: b3 (Lead term) = 0 → t=1.76, p=0.08036 (df clustered=141)\n",
      "→ Do NOT reject exogeneity in FD.\n"
     ]
    }
   ],
   "source": [
    "from EstimatesandTest import fd_exogeneity_lead_test\n",
    "\n",
    "# FD test in log differences (assignment style)\n",
    "fd_exogeneity_lead_test(y, x, N, T, cap_col=1, emp_col=2, logs=True, drop_zeros=True)\n"
   ]
  }
 ],
 "metadata": {
  "kernelspec": {
   "display_name": "base",
   "language": "python",
   "name": "python3"
  },
  "language_info": {
   "codemirror_mode": {
    "name": "ipython",
    "version": 3
   },
   "file_extension": ".py",
   "mimetype": "text/x-python",
   "name": "python",
   "nbconvert_exporter": "python",
   "pygments_lexer": "ipython3",
   "version": "3.11.7"
  }
 },
 "nbformat": 4,
 "nbformat_minor": 4
}
