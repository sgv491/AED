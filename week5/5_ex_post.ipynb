{
 "cells": [
  {
   "cell_type": "markdown",
   "metadata": {},
   "source": [
    "# Week 5: High-Dimensional Methods and Confidence Intervals"
   ]
  },
  {
   "cell_type": "markdown",
   "metadata": {},
   "source": [
    "The purpose of this week's problem set is to get familiar with inference based on high-dimensional methods. Our focus is now on testing the convergence hypothesis in cross-country growth using the `growth.csv` dataset that accompanies *2025-10_Project_2.pdf*. The file combines Barro-style measures of GDP growth with a rich set of covariates drawn from geography, institutions, and demographics.\n",
    "\n",
    "We start by loading the data and cleaning it so the subsequent high-dimensional procedures run smoothly."
   ]
  },
  {
   "cell_type": "code",
   "execution_count": 1,
   "metadata": {},
   "outputs": [
    {
     "name": "stdout",
     "output_type": "stream",
     "text": [
      "The cleaned dataset has shape (102, 84).\n"
     ]
    }
   ],
   "source": [
    "# Load packages\n",
    "import numpy as np\n",
    "import numpy.linalg as la\n",
    "import pandas as pd\n",
    "from sklearn.linear_model import Lasso\n",
    "from scipy.stats import norm\n",
    "from sklearn.preprocessing import PolynomialFeatures\n",
    "\n",
    "# Read and clean growth data\n",
    "growth = pd.read_csv('growth.csv')\n",
    "\n",
    "# Harmonise missing values that are stored as empty strings\n",
    "growth = growth.replace(r'^\\s*$', np.nan, regex=True)\n",
    "\n",
    "# Drop the textual country code and coerce all remaining columns to numeric\n",
    "growth = growth.drop(columns=['code'], errors='ignore')\n",
    "growth = growth.apply(pd.to_numeric, errors='coerce')\n",
    "\n",
    "# Keep observations with the key outcome and treatment, then impute remaining missings\n",
    "growth = growth.dropna(subset=['gdp_growth', 'lgdp_initial'])\n",
    "growth = growth.fillna(growth.mean(numeric_only=True))\n",
    "\n",
    "print(f'The cleaned dataset has shape {growth.shape}.')"
   ]
  },
  {
   "cell_type": "code",
   "execution_count": 2,
   "metadata": {},
   "outputs": [
    {
     "name": "stdout",
     "output_type": "stream",
     "text": [
      "Column names are\n",
      "['marketref', 'dem', 'demCGV', 'demBMR', 'demreg', 'lp_bl', 'ls_bl', 'lh_bl', 'tropicar', 'distcr', 'distc', 'distr', 'ginv', 'polity', 'polity2', 'landlock', 'yellow', 'oilres', 'goldm', 'iron', 'silv', 'zinc', 'mortality', 'imputedmort', 'logem4', 'excolony', 'lt100km', 'democ1', 'democ00a', 'cons00a', 'currentinst', 'imr95', 'leb95', 'malfal', 'uvdamage', 'suitavg', 'pdiv', 'pdiv_aa', 'pdivhmi', 'pdivhmi_aa', 'pd1', 'pd1000', 'pd1500', 'pd1500.1', 'pop1', 'pop1000', 'pop1500', 'legor_uk', 'legor_fr', 'temp', 'elevavg', 'elevstd', 'kgatr', 'precip', 'suitgini', 'area', 'abslat', 'cenlong', 'area_ar', 'rough', 'ln_yst', 'ln_yst_aa', 'africa', 'europe', 'asia', 'oceania', 'americas', 'pprotest', 'pcatholic', 'pmuslim', 'pother', 'population_initial', 'population_now', 'gdp_pc_initial', 'gdp_pc_now', 'capital_growth_pct_gdp_initial', 'capital_growth_pct_gdp_now', 'gdp_initial', 'gdp_now', 'investment_rate', 'gdp_growth', 'pop_growth', 'lgdp_initial', 'lpop_initial']\n"
     ]
    }
   ],
   "source": [
    "print('Column names are\\n{}'.format(growth.columns.tolist()))"
   ]
  },
  {
   "cell_type": "code",
   "execution_count": 3,
   "metadata": {},
   "outputs": [
    {
     "name": "stdout",
     "output_type": "stream",
     "text": [
      "    marketref  dem  demCGV  demBMR    demreg      lp_bl      ls_bl      lh_bl  \\\n",
      "4   34.144062  0.0     0.0     0.0  0.071429  72.400000  15.300000   4.000000   \n",
      "7   29.444778  1.0     1.0     1.0  0.954545  29.300000  48.300000  21.500000   \n",
      "8   38.210518  1.0     1.0     1.0  0.954545  57.263283  35.800000   2.600000   \n",
      "10  26.193008  0.0     0.0     0.0  0.032258  11.365340   0.912563   0.141201   \n",
      "11  53.843560  1.0     1.0     1.0  0.954545  65.299510  28.700000   5.200000   \n",
      "\n",
      "    tropicar     distcr  ...    gdp_pc_now  capital_growth_pct_gdp_initial  \\\n",
      "4   0.027089   271.6420  ...   8692.708046                       24.440095   \n",
      "7   0.381887   354.8870  ...  56307.280685                       33.022170   \n",
      "8   0.000000    79.4891  ...  47008.710433                       31.038141   \n",
      "10  1.000000  1009.6600  ...    202.372052                        4.530795   \n",
      "11  0.000000    38.3926  ...  44361.248365                       29.656689   \n",
      "\n",
      "    capital_growth_pct_gdp_now   gdp_initial       gdp_now  investment_rate  \\\n",
      "4                    13.776598  1.691742e+11  3.944470e+11        19.976606   \n",
      "7                    22.255543  3.266906e+11  1.446367e+12        27.672347   \n",
      "8                    25.193306  1.461597e+11  4.191863e+11        25.954993   \n",
      "10                   11.377847  9.172368e+08  2.406362e+09        10.887358   \n",
      "11                   24.764056  1.912545e+11  5.126385e+11        23.671420   \n",
      "\n",
      "    gdp_growth  pop_growth  lgdp_initial  lpop_initial  \n",
      "4     0.004101    0.012921      8.865619     16.988575  \n",
      "7     0.015481    0.014498     10.170480     16.341799  \n",
      "8     0.017677    0.003556      9.881951     15.826015  \n",
      "10   -0.005276    0.024885      5.574601     15.062276  \n",
      "11    0.016257    0.003600      9.893827     16.083043  \n",
      "\n",
      "[5 rows x 84 columns]\n"
     ]
    }
   ],
   "source": [
    "print(growth.head())  # first observations"
   ]
  },
  {
   "cell_type": "code",
   "execution_count": 4,
   "metadata": {},
   "outputs": [
    {
     "name": "stdout",
     "output_type": "stream",
     "text": [
      "     marketref       dem    demCGV    demBMR    demreg      lp_bl      ls_bl  \\\n",
      "178  54.545450  0.333333  0.311111  0.333333  0.888889  38.099504  11.618525   \n",
      "185   1.785714  0.000000  0.000000  0.000000  0.032258  26.700000  27.400002   \n",
      "187  22.524733  0.000000  0.000000  0.000000  0.032258  54.600000   1.900000   \n",
      "188   0.000000  0.000000  0.000000  0.000000  0.032258  51.920998   5.440012   \n",
      "208  26.193008  0.333333  0.311111  0.333333  0.350646  38.099504  11.618525   \n",
      "\n",
      "        lh_bl  tropicar      distcr  ...    gdp_pc_now  \\\n",
      "178  2.740676  0.586425  293.471971  ...   6654.144614   \n",
      "185  3.700000  0.037754  306.891000  ...   6748.234355   \n",
      "187  0.600000  1.000000  992.196000  ...   1558.323007   \n",
      "188  2.309395  1.000000  489.782000  ...   1058.845827   \n",
      "208  2.740676  0.586425  293.471971  ...  26822.444082   \n",
      "\n",
      "     capital_growth_pct_gdp_initial  capital_growth_pct_gdp_now   gdp_initial  \\\n",
      "178                       21.854891                   22.287625  1.654725e+08   \n",
      "185                       28.557312                   12.426404  1.378055e+11   \n",
      "187                       21.854891                   22.287625  6.606381e+09   \n",
      "188                       18.337780                   22.287625  6.903321e+09   \n",
      "208                       28.641230                   11.511049  2.884177e+10   \n",
      "\n",
      "          gdp_now  investment_rate  gdp_growth  pop_growth  lgdp_initial  \\\n",
      "178  7.382574e+08        22.963336    0.026173    0.004082      7.511199   \n",
      "185  4.002289e+11        22.211417    0.001554    0.019968      8.739389   \n",
      "187  2.864814e+10        36.330155   -0.000287    0.030071      7.365705   \n",
      "188  1.573755e+10        15.059719   -0.004174    0.020879      7.174070   \n",
      "208  8.567180e+10        17.162389    0.018719    0.003233      9.269684   \n",
      "\n",
      "     lpop_initial  \n",
      "178     11.413116  \n",
      "185     16.909720  \n",
      "187     15.245597  \n",
      "188     15.481199  \n",
      "208     14.815407  \n",
      "\n",
      "[5 rows x 84 columns]\n"
     ]
    }
   ],
   "source": [
    "print(growth.tail())  # last observations"
   ]
  },
  {
   "cell_type": "code",
   "execution_count": 5,
   "metadata": {},
   "outputs": [
    {
     "name": "stdout",
     "output_type": "stream",
     "text": [
      "marketref          float64\n",
      "dem                float64\n",
      "demCGV             float64\n",
      "demBMR             float64\n",
      "demreg             float64\n",
      "                    ...   \n",
      "investment_rate    float64\n",
      "gdp_growth         float64\n",
      "pop_growth         float64\n",
      "lgdp_initial       float64\n",
      "lpop_initial       float64\n",
      "Length: 84, dtype: object\n"
     ]
    }
   ],
   "source": [
    "print(growth.dtypes)  # data types"
   ]
  },
  {
   "cell_type": "markdown",
   "metadata": {},
   "source": [
    "We model average annual GDP-per-capita growth (`gdp_growth`) using a linear (in the parameters) specification where the regressor of interest is the log of initial GDP per capita (`lgdp_initial`):\n",
    "\n",
    "$$\n",
    "\\underbrace{g_{i}}_{=Y}= \\alpha \\times \\underbrace{\\log(\\text{GDP}_{i,1970})}_{=D} + Z_i'\\gamma + \\varepsilon_i,\\quad \\mathbb{E}[\\varepsilon_i\\mid D_i,Z_i]=0.\n",
    "$$\n",
    "\n",
    "The vector $Z_i$ collects a set of potential controls drawn from the rich list of geography, institutions, and demographics that come with the growth dataset. The `sklearn` implementation of the Lasso handles the intercept for us, so we can work with demeaned regressors.\n",
    "\n",
    "We also estimate an auxiliary relationship for the treatment variable,\n",
    "\n",
    "$$\n",
    "\\log(\\text{GDP}_{i,1970}) = Z_i'\\psi + \\nu_i,\\quad \\mathbb{E}[\\nu_i\\mid Z_i]=0,\n",
    "$$\n",
    "\n",
    "which is required for the post-double-selection procedure. The convergence hypothesis suggests that $\\alpha$ should be negative, but we keep the discussion focused on the mechanics of high-dimensional inference."
   ]
  },
  {
   "cell_type": "markdown",
   "metadata": {},
   "source": [
    "# Exercises\n",
    "\n",
    "## Part 1: Prepare data\n",
    "Following the project brief, we treat log initial GDP as the regressor of interest and allow for a comparatively rich, but still manageable, set of controls. We will work with the following baseline variables captured in `growth.csv`: `investment_rate`, `abslat`, `temp`, `uvdamage`, `suitavg`, `kgatr`, `pdiv`, `pdiv_aa`, `pop_growth`, `lpop_initial`, `landlock`, `polity2`, `area`, `rough`, `precip`, and `dem`. Treat these as $Z_1,\\dots,Z_p$ and expand them with polynomial terms (squares, cubes) and interactions to generate a high-dimensional design matrix.\n",
    "\n",
    "Hints: Use `sklearn.preprocessing.PolynomialFeatures` for the transformation. If the optimiser struggles to converge, increase the maximum number of iterations via the `max_iter` argument in `Lasso`."
   ]
  },
  {
   "cell_type": "markdown",
   "metadata": {},
   "source": [
    "### Question 1.1\n",
    "Set up the data and augment the baseline controls with quadratic, cubic, and interaction terms (up to total degree three). Do not include an explicit constant—the Lasso implementation handles it for us. How many regressors do you obtain after the expansion?"
   ]
  },
  {
   "cell_type": "code",
   "execution_count": 6,
   "metadata": {},
   "outputs": [
    {
     "name": "stdout",
     "output_type": "stream",
     "text": [
      "The number of baseline controls is 16\n",
      "The number of regressors in Z is 968\n"
     ]
    }
   ],
   "source": [
    "# Setup data\n",
    "y = growth.gdp_growth\n",
    "d = growth.lgdp_initial\n",
    "\n",
    "control_candidates = [\n",
    "    'investment_rate', 'abslat', 'temp', 'uvdamage', 'suitavg', 'kgatr',\n",
    "    'pdiv', 'pdiv_aa', 'pop_growth', 'lpop_initial', 'landlock', 'polity2',\n",
    "    'area', 'rough', 'precip', 'dem'\n",
    "]\n",
    "available_controls = [c for c in control_candidates if c in growth.columns]\n",
    "missing_controls = sorted(set(control_candidates) - set(available_controls))\n",
    "if missing_controls:\n",
    "    print(f\"Dropped controls not present in the data: {missing_controls}\")\n",
    "\n",
    "Z_basic = growth[available_controls]\n",
    "\n",
    "# Add polynomial features (no constant, handled by Lasso)\n",
    "Z = PolynomialFeatures(3, include_bias=False).fit_transform(Z_basic)\n",
    "\n",
    "print(f'The number of baseline controls is {len(available_controls)}')\n",
    "print(f'The number of regressors in Z is {Z.shape[1]}')"
   ]
  },
  {
   "cell_type": "markdown",
   "metadata": {},
   "source": [
    "Your numeric output will depend on the available countries and the controls you keep. Make sure the code runs without errors and inspect the printed values from the preceding cell."
   ]
  },
  {
   "cell_type": "code",
   "execution_count": 7,
   "metadata": {},
   "outputs": [],
   "source": [
    "# Construct X \n",
    "X = np.column_stack((d,Z))\n",
    "\n",
    "# Find N\n",
    "N = X.shape[0]"
   ]
  },
  {
   "cell_type": "markdown",
   "metadata": {},
   "source": [
    "### Question 1.2\n",
    "Standardize variables before running the Lasso.\n",
    "\n",
    "*Note:* Make sure make a degrees of freedom correction when computing the standard errors. Pandas does this automatically, but if you use numpy, you should set the argument ddof=1 in the function np.std()."
   ]
  },
  {
   "cell_type": "code",
   "execution_count": 8,
   "metadata": {},
   "outputs": [],
   "source": [
    "# Create a function for standardizing\n",
    "def standardize(X):\n",
    "\n",
    "    X_stan = (X - np.mean(X, axis=0))/np.std(X, axis=0, ddof=1)\n",
    "    return X_stan\n",
    "\n",
    "# Standardize data\n",
    "X_stan = standardize(X)\n",
    "Z_stan = standardize(Z)\n",
    "d_stan = standardize(d)"
   ]
  },
  {
   "cell_type": "markdown",
   "metadata": {},
   "source": [
    "## Part 2: OLS"
   ]
  },
  {
   "cell_type": "markdown",
   "metadata": {},
   "source": [
    "Students get slightly different answers with each different version of Python. Your results for Exercise 3 should be correct to 3 significant figures."
   ]
  },
  {
   "cell_type": "markdown",
   "metadata": {},
   "source": [
    "### Question 2.1\n",
    "Estimate $\\alpha$ using Ordinary Least Squares (OLS). Remember to add a constant to the regressors for this part."
   ]
  },
  {
   "cell_type": "code",
   "execution_count": 9,
   "metadata": {},
   "outputs": [
    {
     "name": "stdout",
     "output_type": "stream",
     "text": [
      "alpha_OLS =  10.41\n"
     ]
    }
   ],
   "source": [
    "# Add a constant to X\n",
    "xx = np.column_stack((np.ones(N),X))\n",
    "\n",
    "# Reshape y\n",
    "yy = np.array(y).reshape(-1,1)\n",
    "\n",
    "# Calculate OLS estimate\n",
    "coefs_OLS = la.inv(xx.T@xx)@xx.T@yy\n",
    "alpha_OLS = coefs_OLS[1][0]\n",
    "\n",
    "# Calculate residuals\n",
    "res_OLS = yy - xx@coefs_OLS\n",
    "\n",
    "# Display alpha\n",
    "print(\"alpha_OLS = \",alpha_OLS.round(2))"
   ]
  },
  {
   "cell_type": "markdown",
   "metadata": {},
   "source": [
    "#### Hint: We are doing OLS not Lasso"
   ]
  },
  {
   "cell_type": "markdown",
   "metadata": {},
   "source": [
    "Your numeric output will depend on the available countries and the controls you keep. Make sure the code runs without errors and inspect the printed values from the preceding cell."
   ]
  },
  {
   "cell_type": "markdown",
   "metadata": {},
   "source": [
    "### Question 2.2"
   ]
  },
  {
   "cell_type": "markdown",
   "metadata": {},
   "source": [
    "Estimate the variance of the OLS estimator and calculate the standard deviation of $\\hat{\\alpha}$. For this exercise we will assume homoscedasticity."
   ]
  },
  {
   "cell_type": "code",
   "execution_count": 10,
   "metadata": {},
   "outputs": [
    {
     "name": "stdout",
     "output_type": "stream",
     "text": [
      "se_OLS =  nan\n"
     ]
    },
    {
     "name": "stderr",
     "output_type": "stream",
     "text": [
      "/var/folders/s4/t_g3d19d071dl_561zffrd9c0000gn/T/ipykernel_35263/2077425964.py:7: RuntimeWarning: invalid value encountered in sqrt\n",
      "  se = np.sqrt(np.diagonal(var)).reshape(-1,1)\n"
     ]
    }
   ],
   "source": [
    "# Estimate variance\n",
    "SSR = res_OLS.T@res_OLS\n",
    "sigma2_OLS = SSR/(N-xx.shape[1])\n",
    "var = sigma2_OLS*la.inv(xx.T@xx)\n",
    "\n",
    "# Calculate standard errors\n",
    "se = np.sqrt(np.diagonal(var)).reshape(-1,1)\n",
    "\n",
    "# Get standard error of alpha\n",
    "se_OLS = se[1][0]\n",
    "\n",
    "# Display standard error\n",
    "print(\"se_OLS = \",se_OLS.round(2))\n"
   ]
  },
  {
   "cell_type": "markdown",
   "metadata": {},
   "source": [
    "Your numeric output will depend on the available countries and the controls you keep. Make sure the code runs without errors and inspect the printed values from the preceding cell."
   ]
  },
  {
   "cell_type": "markdown",
   "metadata": {},
   "source": [
    "### Question 2.3 "
   ]
  },
  {
   "cell_type": "markdown",
   "metadata": {},
   "source": [
    "Calculate the 95% confidence interval for $\\hat{\\alpha}$.\n",
    "\n",
    "*Hint:* Use scipy.stats.norm.ppf to find quantiles of the normal distribution."
   ]
  },
  {
   "cell_type": "code",
   "execution_count": 11,
   "metadata": {},
   "outputs": [
    {
     "name": "stdout",
     "output_type": "stream",
     "text": [
      "CI_OLS =  (nan, nan)\n"
     ]
    }
   ],
   "source": [
    "# Calculate the quantile of the standard normal distribution that corresponds to the 95% confidence interval of a two-sided test\n",
    "q = norm.ppf(1-0.025)\n",
    "\n",
    "# Calculate confidence interval\n",
    "CI_low_OLS  = alpha_OLS-q*se_OLS\n",
    "CI_high_OLS = alpha_OLS+q*se_OLS\n",
    "\n",
    "# Display confidence interval\n",
    "CI_OLS =  (((alpha_OLS-q*se_OLS).round(2),(alpha_OLS+q*se_OLS).round(2)))\n",
    "print(\"CI_OLS = \",(CI_low_OLS.round(2),CI_high_OLS.round(2)))"
   ]
  },
  {
   "cell_type": "markdown",
   "metadata": {},
   "source": [
    "Your numeric output will depend on the available countries and the controls you keep. Make sure the code runs without errors and inspect the printed values from the preceding cell."
   ]
  },
  {
   "cell_type": "markdown",
   "metadata": {},
   "source": [
    "## Part 3: Post-Single Lasso"
   ]
  },
  {
   "cell_type": "markdown",
   "metadata": {},
   "source": [
    "### Question 3.1\n",
    "Estimate $\\alpha$ using Post-Single Lasso (PSL)."
   ]
  },
  {
   "cell_type": "markdown",
   "metadata": {},
   "source": [
    "Step 0: Calculate BRT"
   ]
  },
  {
   "cell_type": "code",
   "execution_count": 12,
   "metadata": {},
   "outputs": [],
   "source": [
    "# Make a function that calculates BRT. Hint: You implemented a version of this last week\n",
    "def BRT(X_tilde,y):\n",
    "    (N,p) = X_tilde.shape\n",
    "    sigma = np.std(y, ddof=1)\n",
    "    c=1.1\n",
    "    alpha=0.05\n",
    "\n",
    "    penalty_BRT= (sigma*c)/np.sqrt(N)*norm.ppf(1-alpha/(2*p))\n",
    "\n",
    "    return penalty_BRT"
   ]
  },
  {
   "cell_type": "code",
   "execution_count": 13,
   "metadata": {},
   "outputs": [
    {
     "name": "stdout",
     "output_type": "stream",
     "text": [
      "lambda_BRT = 0.01\n"
     ]
    }
   ],
   "source": [
    "# Calculate BRT\n",
    "penalty_BRTyx = BRT(X_stan, y)\n",
    "print(\"lambda_BRT =\",penalty_BRTyx.round(2))"
   ]
  },
  {
   "cell_type": "markdown",
   "metadata": {},
   "source": [
    "Your numeric output will depend on the available countries and the controls you keep. Make sure the code runs without errors and inspect the printed values from the preceding cell."
   ]
  },
  {
   "cell_type": "markdown",
   "metadata": {},
   "source": [
    "Step 1: Lasso Y using D and Z. Collect variables in Z with non-zero coefficients in a set called Z_J.\n",
    "\n",
    "*Hint:* Set max_iter=10_000 to make the Lasso converge."
   ]
  },
  {
   "cell_type": "code",
   "execution_count": 14,
   "metadata": {},
   "outputs": [
    {
     "name": "stdout",
     "output_type": "stream",
     "text": [
      "The number of variables in Z_J is 0\n"
     ]
    }
   ],
   "source": [
    "# Run Lasso \n",
    "fit_BRTyx = Lasso(penalty_BRTyx, max_iter=10000).fit(X_stan,y)\n",
    "coefs=fit_BRTyx.coef_\n",
    "\n",
    "# Save variables where coefficients are not zero\n",
    "Z_J = Z[:,coefs[1:]!=0] # Note: We use Z and not Z_stan\n",
    "\n",
    "# Display number of variables in Z_J\n",
    "print(\"The number of variables in Z_J is {}\".format(Z_J.shape[1]))"
   ]
  },
  {
   "cell_type": "markdown",
   "metadata": {},
   "source": [
    "Your numeric output will depend on the available countries and the controls you keep. Make sure the code runs without errors and inspect the printed values from the preceding cell."
   ]
  },
  {
   "cell_type": "markdown",
   "metadata": {},
   "source": [
    "Step 2: Regress Y using D and Z_J"
   ]
  },
  {
   "cell_type": "code",
   "execution_count": 15,
   "metadata": {},
   "outputs": [
    {
     "name": "stdout",
     "output_type": "stream",
     "text": [
      "alpha_PSL =  -0.0\n"
     ]
    }
   ],
   "source": [
    "# Add a constant to X\n",
    "xx = np.column_stack((np.ones(N),d,Z_J))\n",
    "yy = np.array(y).reshape(-1,1)\n",
    "\n",
    "# Calculate OLS estimate\n",
    "coefs_PSL = la.inv(xx.T@xx)@xx.T@yy\n",
    "alpha_PSL = coefs_PSL[1][0]\n",
    "\n",
    "# Calculate residuals\n",
    "res_PSL = yy - xx@coefs_PSL\n",
    "\n",
    "# Display alpha\n",
    "print(\"alpha_PSL = \",alpha_PSL.round(2))"
   ]
  },
  {
   "cell_type": "markdown",
   "metadata": {},
   "source": [
    "Your numeric output will depend on the available countries and the controls you keep. Make sure the code runs without errors and inspect the printed values from the preceding cell."
   ]
  },
  {
   "cell_type": "markdown",
   "metadata": {},
   "source": [
    "### Question 3.2"
   ]
  },
  {
   "cell_type": "markdown",
   "metadata": {},
   "source": [
    "Estimate the variance of the second step OLS estimator and calculate the standard deviation of $\\tilde{\\alpha}$."
   ]
  },
  {
   "cell_type": "code",
   "execution_count": 16,
   "metadata": {},
   "outputs": [
    {
     "name": "stdout",
     "output_type": "stream",
     "text": [
      "se_PSL =  0.0\n"
     ]
    }
   ],
   "source": [
    "# Estimate variance\n",
    "SSR = res_PSL.T@res_PSL\n",
    "sigma2_PSL = SSR/(N-xx.shape[1])\n",
    "var = sigma2_PSL*la.inv(xx.T@xx)\n",
    "\n",
    "# Calculate standard errors\n",
    "se = np.sqrt(np.diagonal(var)).reshape(-1, 1)\n",
    "se_PSL=se[1][0]\n",
    "\n",
    "# Display standard error\n",
    "print(\"se_PSL = \",se_PSL.round(2))\n"
   ]
  },
  {
   "cell_type": "markdown",
   "metadata": {},
   "source": [
    "Your numeric output will depend on the available countries and the controls you keep. Make sure the code runs without errors and inspect the printed values from the preceding cell."
   ]
  },
  {
   "cell_type": "markdown",
   "metadata": {},
   "source": [
    "### Question 3.3 "
   ]
  },
  {
   "cell_type": "markdown",
   "metadata": {},
   "source": [
    "Calculate the 95% confidence interval for $\\tilde{\\alpha}$."
   ]
  },
  {
   "cell_type": "code",
   "execution_count": 17,
   "metadata": {},
   "outputs": [
    {
     "name": "stdout",
     "output_type": "stream",
     "text": [
      "CI_PSL =  (-0.0, 0.0)\n"
     ]
    }
   ],
   "source": [
    "# Calculate the z statistic that corresponds to the 95% confidence interval of a two-sided test\n",
    "q = norm.ppf(1-0.025)\n",
    "\n",
    "# Calculate confidence interval\n",
    "CI_low_PSL  = alpha_PSL-q*se_PSL\n",
    "CI_high_PSL = alpha_PSL+q*se_PSL\n",
    "\n",
    "# Display confidence interval\n",
    "CI_PSL =  (((alpha_PSL-q*se_PSL).round(2),(alpha_PSL+q*se_PSL).round(2)))\n",
    "print(\"CI_PSL = \",(CI_low_PSL.round(2),CI_high_PSL.round(2)))"
   ]
  },
  {
   "cell_type": "markdown",
   "metadata": {},
   "source": [
    "Your numeric output will depend on the available countries and the controls you keep. Make sure the code runs without errors and inspect the printed values from the preceding cell."
   ]
  },
  {
   "cell_type": "markdown",
   "metadata": {},
   "source": [
    "## Part 4: Double Post Lasso"
   ]
  },
  {
   "cell_type": "markdown",
   "metadata": {},
   "source": [
    "### Question 4.1\n",
    "Estimate $\\alpha$ using Double Post Lasso (DPL)."
   ]
  },
  {
   "cell_type": "markdown",
   "metadata": {},
   "source": [
    "Step 0: Calculate BRT\n",
    "\n",
    "*Note:* In this exercise we will use the penalty suggested by BRT. BRT relies on homoscedasticity which is a strong assumption."
   ]
  },
  {
   "cell_type": "code",
   "execution_count": 18,
   "metadata": {},
   "outputs": [
    {
     "name": "stdout",
     "output_type": "stream",
     "text": [
      "lambda_BRT = 0.01\n"
     ]
    }
   ],
   "source": [
    "# Calculate BRT\n",
    "penalty_BRTyx = BRT(X_stan,y)\n",
    "print(\"lambda_BRT =\",penalty_BRTyx.round(2))"
   ]
  },
  {
   "cell_type": "markdown",
   "metadata": {},
   "source": [
    "Your numeric output will depend on the available countries and the controls you keep. Make sure the code runs without errors and inspect the printed values from the preceding cell."
   ]
  },
  {
   "cell_type": "markdown",
   "metadata": {},
   "source": [
    "Step 1: Lasso Y using D and Z\n",
    "\n",
    "*Hint:* To calculate the residuals from the LASSO-regression you can use the predict method from the Lasso object. The predict method returns the predicted values from the LASSO regression. You can then calculate the residuals by subtracting the predicted values from the actual values. "
   ]
  },
  {
   "cell_type": "code",
   "execution_count": 19,
   "metadata": {},
   "outputs": [
    {
     "name": "stdout",
     "output_type": "stream",
     "text": [
      "First coefficient = -0.0\n"
     ]
    }
   ],
   "source": [
    "# Run Lasso \n",
    "fit_BRTyx = Lasso(penalty_BRTyx, max_iter=10000).fit(X_stan, y)\n",
    "coefs=fit_BRTyx.coef_\n",
    "\n",
    "# Calculate residuals\n",
    "resyx = y-fit_BRTyx.predict(X_stan)\n",
    "\n",
    "# Calculate Y - Z@gamma (epsilon + alpha*d)\n",
    "# Hint: You only need the variables given to you in this cell, in addition\n",
    "# to a standardized data set you made previoously.\n",
    "resyxz = resyx + d_stan*coefs[0]\n",
    "\n",
    "# Display first coefficient\n",
    "print(\"First coefficient =\",coefs[0].round(2))"
   ]
  },
  {
   "cell_type": "markdown",
   "metadata": {},
   "source": [
    "Your numeric output will depend on the available countries and the controls you keep. Make sure the code runs without errors and inspect the printed values from the preceding cell."
   ]
  },
  {
   "cell_type": "markdown",
   "metadata": {},
   "source": [
    "Step 2: Lasso D using Z"
   ]
  },
  {
   "cell_type": "code",
   "execution_count": 20,
   "metadata": {},
   "outputs": [],
   "source": [
    "# Calculate BRT\n",
    "penalty_BRTdz = BRT(Z_stan, d)"
   ]
  },
  {
   "cell_type": "code",
   "execution_count": 21,
   "metadata": {},
   "outputs": [
    {
     "name": "stdout",
     "output_type": "stream",
     "text": [
      "First coefficient = 0.0\n"
     ]
    }
   ],
   "source": [
    "# Run Lasso\n",
    "fit_BRTdz = Lasso(penalty_BRTdz, max_iter=10000).fit(Z_stan, d)\n",
    "coefs=fit_BRTdz.coef_\n",
    "\n",
    "# Calculate residuals\n",
    "resdz=d-fit_BRTdz.predict(Z_stan)\n",
    "\n",
    "# Display first coefficient\n",
    "print(\"First coefficient =\",coefs[0].round(2))"
   ]
  },
  {
   "cell_type": "markdown",
   "metadata": {},
   "source": [
    "Your numeric output will depend on the available countries and the controls you keep. Make sure the code runs without errors and inspect the printed values from the preceding cell."
   ]
  },
  {
   "cell_type": "markdown",
   "metadata": {},
   "source": [
    "Step 3: Estimate alpha"
   ]
  },
  {
   "cell_type": "code",
   "execution_count": 22,
   "metadata": {},
   "outputs": [
    {
     "name": "stdout",
     "output_type": "stream",
     "text": [
      "alpha_PDL =  -0.0\n"
     ]
    }
   ],
   "source": [
    "# Calculate alpha\n",
    "num = resdz@resyxz\n",
    "denom = resdz@d\n",
    "alpha_PDL = num/denom\n",
    "\n",
    "# Display alpha\n",
    "print(\"alpha_PDL = \",alpha_PDL.round(2))"
   ]
  },
  {
   "cell_type": "markdown",
   "metadata": {},
   "source": [
    "Your numeric output will depend on the available countries and the controls you keep. Make sure the code runs without errors and inspect the printed values from the preceding cell."
   ]
  },
  {
   "cell_type": "markdown",
   "metadata": {},
   "source": [
    "### Question 4.2\n",
    "Calculate the implied variance estimate, $\\check{\\sigma}^2$, and calculate the standard deviation of $\\check{\\alpha}$."
   ]
  },
  {
   "cell_type": "code",
   "execution_count": 23,
   "metadata": {},
   "outputs": [
    {
     "name": "stdout",
     "output_type": "stream",
     "text": [
      "4      0.632770\n",
      "7      2.336072\n",
      "8      1.404136\n",
      "10    -1.696054\n",
      "11     1.303333\n",
      "         ...   \n",
      "178   -0.432426\n",
      "185    1.132530\n",
      "187    0.081042\n",
      "188   -0.239723\n",
      "208    1.468071\n",
      "Name: lgdp_initial, Length: 102, dtype: float64\n",
      "4     -0.011579\n",
      "7     -0.000199\n",
      "8      0.001998\n",
      "10    -0.020955\n",
      "11     0.000577\n",
      "         ...   \n",
      "178    0.010493\n",
      "185   -0.014125\n",
      "187   -0.015966\n",
      "188   -0.019853\n",
      "208    0.003040\n",
      "Length: 102, dtype: float64\n"
     ]
    }
   ],
   "source": [
    "print(resdz)\n",
    "print(resyxz)"
   ]
  },
  {
   "cell_type": "code",
   "execution_count": 24,
   "metadata": {},
   "outputs": [
    {
     "name": "stdout",
     "output_type": "stream",
     "text": [
      "sigma2_PDL =  0.0\n"
     ]
    }
   ],
   "source": [
    "# Calculate variance    \n",
    "num = resdz**2@resyx**2/N\n",
    "denom = (resdz.T@resdz/N)**2\n",
    "sigma2_PDL = num/denom\n",
    "\n",
    "# Display variance\n",
    "print(\"sigma2_PDL = \",sigma2_PDL.round(2))"
   ]
  },
  {
   "cell_type": "markdown",
   "metadata": {},
   "source": [
    "Your numeric output will depend on the available countries and the controls you keep. Make sure the code runs without errors and inspect the printed values from the preceding cell."
   ]
  },
  {
   "cell_type": "code",
   "execution_count": 25,
   "metadata": {},
   "outputs": [
    {
     "name": "stdout",
     "output_type": "stream",
     "text": [
      "se_PDL =  0.0\n"
     ]
    }
   ],
   "source": [
    "# Calculate standard error\n",
    "se_PDL = np.sqrt(sigma2_PDL/N)\n",
    "\n",
    "# Display standard error\n",
    "print(\"se_PDL = \",se_PDL.round(2))"
   ]
  },
  {
   "cell_type": "markdown",
   "metadata": {},
   "source": [
    "Your numeric output will depend on the available countries and the controls you keep. Make sure the code runs without errors and inspect the printed values from the preceding cell."
   ]
  },
  {
   "cell_type": "markdown",
   "metadata": {},
   "source": [
    "### Question 4.3\n",
    "Calculate the confidence interval for $\\check{\\alpha}$."
   ]
  },
  {
   "cell_type": "code",
   "execution_count": 26,
   "metadata": {},
   "outputs": [
    {
     "name": "stdout",
     "output_type": "stream",
     "text": [
      "CI_PDL =  (-0.01, 0.0)\n"
     ]
    }
   ],
   "source": [
    "# Calculate the quantile of the standard normal distribution that corresponds to the 95% confidence interval of a two-sided test\n",
    "q = norm.ppf(1-0.025)\n",
    "\n",
    "# Calculate confidence interval\n",
    "CI_low_PDL  = alpha_PDL - q * se_PDL\n",
    "CI_high_PDL = alpha_PDL + q * se_PDL\n",
    "\n",
    "# Display confidence interval\n",
    "print(\"CI_PDL = \",(CI_low_PDL.round(2),CI_high_PDL.round(2)))"
   ]
  },
  {
   "cell_type": "markdown",
   "metadata": {},
   "source": [
    "Your numeric output will depend on the available countries and the controls you keep. Make sure the code runs without errors and inspect the printed values from the preceding cell."
   ]
  },
  {
   "cell_type": "markdown",
   "metadata": {},
   "source": [
    "### Question 4.4\n",
    "Compare OLS, PSL and PDL. \n",
    "- Which estimator do you believe the most? \n",
    "- Does the dimensionality of the problem affect your answer?"
   ]
  },
  {
   "cell_type": "code",
   "execution_count": 27,
   "metadata": {},
   "outputs": [
    {
     "data": {
      "application/vnd.microsoft.datawrangler.viewer.v0+json": {
       "columns": [
        {
         "name": "index",
         "rawType": "object",
         "type": "string"
        },
        {
         "name": "Estimate of alpha",
         "rawType": "float64",
         "type": "float"
        },
        {
         "name": "Standard error",
         "rawType": "float64",
         "type": "float"
        },
        {
         "name": "Low bound of CI",
         "rawType": "float64",
         "type": "float"
        },
        {
         "name": "High bound of CI",
         "rawType": "float64",
         "type": "float"
        }
       ],
       "ref": "895749ac-de22-4d85-b0c1-348583ec07b0",
       "rows": [
        [
         "OLS",
         "10.41",
         null,
         null,
         null
        ],
        [
         "PSL",
         "-0.0",
         "0.0",
         "-0.0",
         "0.0"
        ],
        [
         "PDL",
         "-0.0",
         "0.0",
         "-0.01",
         "0.0"
        ]
       ],
       "shape": {
        "columns": 4,
        "rows": 3
       }
      },
      "text/html": [
       "<div>\n",
       "<style scoped>\n",
       "    .dataframe tbody tr th:only-of-type {\n",
       "        vertical-align: middle;\n",
       "    }\n",
       "\n",
       "    .dataframe tbody tr th {\n",
       "        vertical-align: top;\n",
       "    }\n",
       "\n",
       "    .dataframe thead th {\n",
       "        text-align: right;\n",
       "    }\n",
       "</style>\n",
       "<table border=\"1\" class=\"dataframe\">\n",
       "  <thead>\n",
       "    <tr style=\"text-align: right;\">\n",
       "      <th></th>\n",
       "      <th>Estimate of alpha</th>\n",
       "      <th>Standard error</th>\n",
       "      <th>Low bound of CI</th>\n",
       "      <th>High bound of CI</th>\n",
       "    </tr>\n",
       "  </thead>\n",
       "  <tbody>\n",
       "    <tr>\n",
       "      <th>OLS</th>\n",
       "      <td>10.41</td>\n",
       "      <td>NaN</td>\n",
       "      <td>NaN</td>\n",
       "      <td>NaN</td>\n",
       "    </tr>\n",
       "    <tr>\n",
       "      <th>PSL</th>\n",
       "      <td>-0.00</td>\n",
       "      <td>0.0</td>\n",
       "      <td>-0.00</td>\n",
       "      <td>0.0</td>\n",
       "    </tr>\n",
       "    <tr>\n",
       "      <th>PDL</th>\n",
       "      <td>-0.00</td>\n",
       "      <td>0.0</td>\n",
       "      <td>-0.01</td>\n",
       "      <td>0.0</td>\n",
       "    </tr>\n",
       "  </tbody>\n",
       "</table>\n",
       "</div>"
      ],
      "text/plain": [
       "     Estimate of alpha  Standard error  Low bound of CI  High bound of CI\n",
       "OLS              10.41             NaN              NaN               NaN\n",
       "PSL              -0.00             0.0            -0.00               0.0\n",
       "PDL              -0.00             0.0            -0.01               0.0"
      ]
     },
     "execution_count": 27,
     "metadata": {},
     "output_type": "execute_result"
    }
   ],
   "source": [
    "# Create a dictionary with the results\n",
    "results = {'OLS': [alpha_OLS, se_OLS, CI_low_OLS, CI_high_OLS], \n",
    "           'PSL': [alpha_PSL, se_PSL, CI_low_PSL, CI_high_PSL],\n",
    "           'PDL': [alpha_PDL, se_PDL, CI_low_PDL, CI_high_PDL]}\n",
    "\n",
    "# Create a dataframe from the dictionary\n",
    "df_results = pd.DataFrame.from_dict(results, orient='index', columns=['Estimate of alpha', 'Standard error', 'Low bound of CI', 'High bound of CI'])\n",
    "\n",
    "# Format the dataframe to two digits after the comma\n",
    "df_results = df_results.round(2)\n",
    "\n",
    "# Display the dataframe\n",
    "df_results\n"
   ]
  },
  {
   "cell_type": "markdown",
   "metadata": {},
   "source": [
    "Your numeric output will depend on the available countries and the controls you keep. Make sure the code runs without errors and inspect the printed values from the preceding cell."
   ]
  },
  {
   "cell_type": "markdown",
   "metadata": {},
   "source": [
    "## Part 5: Post Partialling Out Lasso"
   ]
  },
  {
   "cell_type": "markdown",
   "metadata": {},
   "source": [
    "An alternative to Post Double Lasso is Post Partialling Out Lasso (PPOL). PPOL is based on another orthogonalized moment condition, which is asymptotically first order equivalent to the one used in Post Double Lasso,\n",
    "\n",
    "$$\n",
    "E[(D - Z'\\psi_0) ([Y - Z'\\delta_0] - \\alpha_0[D - Z' \\psi_0])] = 0 \n",
    "$$\n",
    "\n",
    "The PPOL estimator of $\\alpha_0$ can be found by applying the following 3 steps:\n",
    "1. Lasso Y using Z to get residuals $\\hat{\\zeta} = Y - Z' \\hat{\\delta}$\n",
    "2. Lasso D using Z to get residuals $\\hat{\\nu} = D - Z' \\hat{\\psi}$\n",
    "3. OLS of $\\hat{\\zeta}$ on $\\hat{\\nu}$ to get $\\breve{\\alpha} = \\frac{\\sum_i \\hat{\\nu}_i \\hat{\\zeta}_i}{\\sum_i \\hat{\\nu}_i^2}$\n"
   ]
  },
  {
   "cell_type": "markdown",
   "metadata": {},
   "source": [
    "### Question 5.1\n",
    "Estimate $\\alpha$ using Post Partialling Out Lasso (PPOL)."
   ]
  },
  {
   "cell_type": "markdown",
   "metadata": {},
   "source": [
    "Step 1: Lasso Y using Z"
   ]
  },
  {
   "cell_type": "code",
   "execution_count": 28,
   "metadata": {},
   "outputs": [
    {
     "name": "stdout",
     "output_type": "stream",
     "text": [
      "lambda_BRT = 0.01\n"
     ]
    }
   ],
   "source": [
    "penalty_BRTyz = BRT(Z_stan, y)\n",
    "print(\"lambda_BRT =\",penalty_BRTyz.round(2))"
   ]
  },
  {
   "cell_type": "markdown",
   "metadata": {},
   "source": [
    "Your numeric output will depend on the available countries and the controls you keep. Make sure the code runs without errors and inspect the printed values from the preceding cell."
   ]
  },
  {
   "cell_type": "code",
   "execution_count": 29,
   "metadata": {},
   "outputs": [
    {
     "name": "stdout",
     "output_type": "stream",
     "text": [
      "First coefficient = 0.0\n"
     ]
    }
   ],
   "source": [
    "# Run Lasso\n",
    "fit_BRTyz = Lasso(penalty_BRTyz, max_iter=10000).fit(Z_stan,y)\n",
    "coefs=fit_BRTdz.coef_\n",
    "\n",
    "# Calculate residuals\n",
    "resyz = y-fit_BRTyz.predict(Z_stan)\n",
    "\n",
    "# Display first coefficient\n",
    "print(\"First coefficient =\",coefs[0].round(2))"
   ]
  },
  {
   "cell_type": "markdown",
   "metadata": {},
   "source": [
    "Your numeric output will depend on the available countries and the controls you keep. Make sure the code runs without errors and inspect the printed values from the preceding cell."
   ]
  },
  {
   "cell_type": "markdown",
   "metadata": {},
   "source": [
    "Step 2: Lasso D and Z"
   ]
  },
  {
   "cell_type": "code",
   "execution_count": 30,
   "metadata": {},
   "outputs": [
    {
     "name": "stdout",
     "output_type": "stream",
     "text": [
      "lambda_BRT = 0.6\n"
     ]
    }
   ],
   "source": [
    "penalty_BRTdz = BRT(Z_stan, d)\n",
    "print(\"lambda_BRT =\",penalty_BRTdz.round(2))"
   ]
  },
  {
   "cell_type": "markdown",
   "metadata": {},
   "source": [
    "Your numeric output will depend on the available countries and the controls you keep. Make sure the code runs without errors and inspect the printed values from the preceding cell."
   ]
  },
  {
   "cell_type": "code",
   "execution_count": 31,
   "metadata": {},
   "outputs": [
    {
     "name": "stdout",
     "output_type": "stream",
     "text": [
      "First coefficient = 0.0\n"
     ]
    }
   ],
   "source": [
    "# Run Lasso\n",
    "fit_BRTdz = Lasso(penalty_BRTdz, max_iter=10000).fit(Z_stan,d)\n",
    "coefs=fit_BRTdz.coef_\n",
    "\n",
    "# Calculate residuals\n",
    "resdz = d-fit_BRTdz.predict(Z_stan)\n",
    "\n",
    "# Display first coefficient\n",
    "print(\"First coefficient =\",coefs[0].round(2))"
   ]
  },
  {
   "cell_type": "markdown",
   "metadata": {},
   "source": [
    "Your numeric output will depend on the available countries and the controls you keep. Make sure the code runs without errors and inspect the printed values from the preceding cell."
   ]
  },
  {
   "cell_type": "markdown",
   "metadata": {},
   "source": [
    "d) Estimate alpha"
   ]
  },
  {
   "cell_type": "code",
   "execution_count": 32,
   "metadata": {},
   "outputs": [
    {
     "name": "stdout",
     "output_type": "stream",
     "text": [
      "alpha_PPOL =  -0.0\n"
     ]
    }
   ],
   "source": [
    "# Calculate alpha\n",
    "num = resdz.T@resyz\n",
    "denom = resdz.T@resdz\n",
    "alpha_PPOL = num/denom\n",
    "\n",
    "# Display alpha\n",
    "print(\"alpha_PPOL = \",alpha_PPOL.round(2))"
   ]
  },
  {
   "cell_type": "markdown",
   "metadata": {},
   "source": [
    "Your numeric output will depend on the available countries and the controls you keep. Make sure the code runs without errors and inspect the printed values from the preceding cell."
   ]
  },
  {
   "cell_type": "markdown",
   "metadata": {},
   "source": [
    "### Question 5.2"
   ]
  },
  {
   "cell_type": "markdown",
   "metadata": {},
   "source": [
    "The variance of the PPOL estimator is given by\n",
    "\n",
    "$$\n",
    "\\breve{\\sigma}^2 = \\frac{N^{-1}\\sum_i \\hat{\\zeta}_i^2 \\hat{\\nu}_i^2}{(N^{-1}\\sum_i \\hat{\\nu}_i^2)^2}\n",
    "$$\n",
    "\n",
    "where it can be shown that \n",
    "$$\n",
    "\\sqrt{N} (\\breve{\\alpha} - \\alpha_0)/\\breve{\\sigma} \\xrightarrow{d} N(0,1)\n",
    "$$\n",
    "\n",
    "Calculate the implied variance estimate, $\\check{\\sigma}^2$, and calculate the standard deviation of $\\breve{\\alpha}$."
   ]
  },
  {
   "cell_type": "code",
   "execution_count": 33,
   "metadata": {},
   "outputs": [
    {
     "name": "stdout",
     "output_type": "stream",
     "text": [
      "sigma2_PDL =  0.0\n"
     ]
    }
   ],
   "source": [
    "# Calculate variance    \n",
    "num = resyz**2 @ resdz**2 / N\n",
    "denom = (resdz.T@resdz / N)**2\n",
    "sigma2_PPOL = num/denom\n",
    "\n",
    "# Display variance\n",
    "print(\"sigma2_PDL = \",sigma2_PPOL.round(2))"
   ]
  },
  {
   "cell_type": "markdown",
   "metadata": {},
   "source": [
    "Your numeric output will depend on the available countries and the controls you keep. Make sure the code runs without errors and inspect the printed values from the preceding cell."
   ]
  },
  {
   "cell_type": "code",
   "execution_count": 34,
   "metadata": {},
   "outputs": [
    {
     "name": "stdout",
     "output_type": "stream",
     "text": [
      "se_PDL =  0.0\n"
     ]
    }
   ],
   "source": [
    "# Calculate standard error\n",
    "se_PPOL = np.sqrt(sigma2_PPOL/N)\n",
    "\n",
    "# Display standard error\n",
    "print(\"se_PDL = \",se_PPOL.round(2))"
   ]
  },
  {
   "cell_type": "markdown",
   "metadata": {},
   "source": [
    "Your numeric output will depend on the available countries and the controls you keep. Make sure the code runs without errors and inspect the printed values from the preceding cell."
   ]
  },
  {
   "cell_type": "markdown",
   "metadata": {},
   "source": [
    "### Question 5.3\n",
    "Calculate the confidence interval for $\\breve{\\alpha}$."
   ]
  },
  {
   "cell_type": "code",
   "execution_count": 35,
   "metadata": {},
   "outputs": [
    {
     "name": "stdout",
     "output_type": "stream",
     "text": [
      "CI_PDL =  (-0.01, 0.0)\n"
     ]
    }
   ],
   "source": [
    "# Calculate the quantile of the standard normal distribution that corresponds to the 95% confidence interval of a two-sided test\n",
    "q = norm.ppf(1-0.025)\n",
    "\n",
    "# Calculate confidence interval\n",
    "CI_low_PPOL  = alpha_PPOL - q * se_PPOL\n",
    "CI_high_PPOL = alpha_PPOL + q * se_PPOL\n",
    "\n",
    "# Display confidence interval\n",
    "print(\"CI_PDL = \",(CI_low_PPOL.round(2),CI_high_PPOL.round(2)))"
   ]
  },
  {
   "cell_type": "markdown",
   "metadata": {},
   "source": [
    "Your numeric output will depend on the available countries and the controls you keep. Make sure the code runs without errors and inspect the printed values from the preceding cell."
   ]
  },
  {
   "cell_type": "markdown",
   "metadata": {},
   "source": [
    "### Question 5.4\n",
    "Compare OLS, PDL and PPOL"
   ]
  },
  {
   "cell_type": "code",
   "execution_count": 36,
   "metadata": {},
   "outputs": [
    {
     "data": {
      "application/vnd.microsoft.datawrangler.viewer.v0+json": {
       "columns": [
        {
         "name": "index",
         "rawType": "object",
         "type": "string"
        },
        {
         "name": "Estimate of alpha",
         "rawType": "float64",
         "type": "float"
        },
        {
         "name": "Standard error",
         "rawType": "float64",
         "type": "float"
        },
        {
         "name": "Low bound of CI",
         "rawType": "float64",
         "type": "float"
        },
        {
         "name": "High bound of CI",
         "rawType": "float64",
         "type": "float"
        }
       ],
       "ref": "3e19053b-e435-4e4a-b1d7-dfce228189c2",
       "rows": [
        [
         "OLS",
         "10.41",
         null,
         null,
         null
        ],
        [
         "PSL",
         "-0.0",
         "0.0",
         "-0.0",
         "0.0"
        ],
        [
         "PDL",
         "-0.0",
         "0.0",
         "-0.01",
         "0.0"
        ],
        [
         "PPOL",
         "-0.0",
         "0.0",
         "-0.01",
         "0.0"
        ]
       ],
       "shape": {
        "columns": 4,
        "rows": 4
       }
      },
      "text/html": [
       "<div>\n",
       "<style scoped>\n",
       "    .dataframe tbody tr th:only-of-type {\n",
       "        vertical-align: middle;\n",
       "    }\n",
       "\n",
       "    .dataframe tbody tr th {\n",
       "        vertical-align: top;\n",
       "    }\n",
       "\n",
       "    .dataframe thead th {\n",
       "        text-align: right;\n",
       "    }\n",
       "</style>\n",
       "<table border=\"1\" class=\"dataframe\">\n",
       "  <thead>\n",
       "    <tr style=\"text-align: right;\">\n",
       "      <th></th>\n",
       "      <th>Estimate of alpha</th>\n",
       "      <th>Standard error</th>\n",
       "      <th>Low bound of CI</th>\n",
       "      <th>High bound of CI</th>\n",
       "    </tr>\n",
       "  </thead>\n",
       "  <tbody>\n",
       "    <tr>\n",
       "      <th>OLS</th>\n",
       "      <td>10.41</td>\n",
       "      <td>NaN</td>\n",
       "      <td>NaN</td>\n",
       "      <td>NaN</td>\n",
       "    </tr>\n",
       "    <tr>\n",
       "      <th>PSL</th>\n",
       "      <td>-0.00</td>\n",
       "      <td>0.0</td>\n",
       "      <td>-0.00</td>\n",
       "      <td>0.0</td>\n",
       "    </tr>\n",
       "    <tr>\n",
       "      <th>PDL</th>\n",
       "      <td>-0.00</td>\n",
       "      <td>0.0</td>\n",
       "      <td>-0.01</td>\n",
       "      <td>0.0</td>\n",
       "    </tr>\n",
       "    <tr>\n",
       "      <th>PPOL</th>\n",
       "      <td>-0.00</td>\n",
       "      <td>0.0</td>\n",
       "      <td>-0.01</td>\n",
       "      <td>0.0</td>\n",
       "    </tr>\n",
       "  </tbody>\n",
       "</table>\n",
       "</div>"
      ],
      "text/plain": [
       "      Estimate of alpha  Standard error  Low bound of CI  High bound of CI\n",
       "OLS               10.41             NaN              NaN               NaN\n",
       "PSL               -0.00             0.0            -0.00               0.0\n",
       "PDL               -0.00             0.0            -0.01               0.0\n",
       "PPOL              -0.00             0.0            -0.01               0.0"
      ]
     },
     "execution_count": 36,
     "metadata": {},
     "output_type": "execute_result"
    }
   ],
   "source": [
    "# Create a dictionary with the results\n",
    "results = {'OLS'   : [alpha_OLS,    se_OLS,    CI_low_OLS,    CI_high_OLS], \n",
    "           'PSL'   : [alpha_PSL,    se_PSL,    CI_low_PSL,    CI_high_PSL],\n",
    "           'PDL'   : [alpha_PDL,    se_PDL,    CI_low_PDL,    CI_high_PDL],\n",
    "           'PPOL'  : [alpha_PPOL,   se_PPOL,   CI_low_PPOL,   CI_high_PPOL]}\n",
    "\n",
    "# Create a dataframe from the dictionary\n",
    "df_results = pd.DataFrame.from_dict(results, orient='index', columns=['Estimate of alpha', 'Standard error', 'Low bound of CI', 'High bound of CI'])\n",
    "\n",
    "# Format the dataframe to two digits after the comma\n",
    "df_results = df_results.round(2)\n",
    "\n",
    "# Display the dataframe\n",
    "df_results\n"
   ]
  },
  {
   "cell_type": "markdown",
   "metadata": {},
   "source": [
    "Your numeric output will depend on the available countries and the controls you keep. Make sure the code runs without errors and inspect the printed values from the preceding cell."
   ]
  },
  {
   "cell_type": "markdown",
   "metadata": {},
   "source": [
    "## (Optional) Part 6: Repeat with BCCH and CV"
   ]
  },
  {
   "cell_type": "markdown",
   "metadata": {},
   "source": [
    "* Repeat Exercises using the Belloni-Chen-Chernozhukov-Hansen (BCCH) penalty level for each Lasso (which may be justified without any independence/homoscedasticity assumptions).\n",
    "* Repeat Exercises using cross-validation (CV) for each Lasso."
   ]
  }
 ],
 "metadata": {
  "kernelspec": {
   "display_name": "base",
   "language": "python",
   "name": "python3"
  },
  "language_info": {
   "codemirror_mode": {
    "name": "ipython",
    "version": 3
   },
   "file_extension": ".py",
   "mimetype": "text/x-python",
   "name": "python",
   "nbconvert_exporter": "python",
   "pygments_lexer": "ipython3",
   "version": "3.11.7"
  }
 },
 "nbformat": 4,
 "nbformat_minor": 4
}
